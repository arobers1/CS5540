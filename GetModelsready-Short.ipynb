{
 "cells": [
  {
   "cell_type": "code",
   "execution_count": 1,
   "id": "d0a8361f-e985-43e4-bd6f-82e707390912",
   "metadata": {},
   "outputs": [],
   "source": [
    "from pathlib import Path\n",
    "import pandas as pd\n",
    "import numpy as np\n",
    "import os\n",
    "import cobra\n",
    "import pickle"
   ]
  },
  {
   "cell_type": "code",
   "execution_count": 2,
   "id": "026b244e-5e0b-48a0-83f5-448c63ba5812",
   "metadata": {},
   "outputs": [
    {
     "data": {
      "text/plain": [
       "'/Users/alexisroberson/Metabolic_Modeling/Project'"
      ]
     },
     "execution_count": 2,
     "metadata": {},
     "output_type": "execute_result"
    }
   ],
   "source": [
    "\n",
    "# Change the current working directory\n",
    "os.chdir('/Users/alexisroberson/Metabolic_Modeling/Project')\n",
    "os.getcwd()\n"
   ]
  },
  {
   "cell_type": "code",
   "execution_count": null,
   "id": "b90bbeae-e103-491a-a7f3-6f752b2cd3bd",
   "metadata": {},
   "outputs": [],
   "source": [
    "data_dir2= Path.cwd()\n",
    "\n",
    "Agora_data_dir2 = data_dir2/'AGORA_Models_for_Infant_gut'\n",
    "\n",
    "\n",
    "Braken_Models_Meta_data_df2 = pd.read_csv('Dominant_species_Braken_name_w_Agora_models_taxID_df.csv')\n",
    "Braken_Models_Meta_data_df2.drop_duplicates(subset=['taxid', 'Species', 'Model'], keep='first', inplace=True)\n",
    "Clean_Braken_Agora_Model_df2 = Braken_Models_Meta_data_df2[Braken_Models_Meta_data_df2['Model']!='No Model']\n",
    "Clean_Braken_Agora_Model_df2 = Clean_Braken_Agora_Model_df2.reset_index(drop=True)\n",
    "\n",
    "Braken_data_df2 = pd.read_csv(data_dir2/'Data/SHINE_COPTR_Data/Full_data_copy.csv')\n",
    "Braken_data_df2.drop(columns= ['Escherichiaphage vB_EcoS-Ro145c2YLVW','Escherichia phage vB_EcoS_fFiEco03','Escherichia phage 26','Escherichiaphage SZH-1'],inplace=True)\n",
    "\n"
   ]
  },
  {
   "cell_type": "code",
   "execution_count": null,
   "id": "424f3c69-9e0c-4bcd-baf0-05d28ec1fa91",
   "metadata": {},
   "outputs": [],
   "source": [
    "Braken_data_df3 = pd.read_csv(data_dir2/'Data/SHINE_COPTR_Data/Full_data.csv')\n",
    "Braken_data_df3.drop(columns= ['Escherichia phage vB_EcoS-Ro145c2YLVW','Escherichia phage vB_EcoS_fFiEco03','Escherichia phage 26','Escherichia phage SZH-1','Salmonella phage vB_SAg-RPN213'],inplace=True)\n",
    "psuedocount = 0.1\n",
    "Braken_data_df3 = Braken_data_df3.applymap(lambda x: psuedocount if x ==0 else x)\n",
    "\n"
   ]
  },
  {
   "cell_type": "code",
   "execution_count": null,
   "id": "5d0f5e86-1579-4eb2-81a9-ab1db889f478",
   "metadata": {
    "scrolled": true
   },
   "outputs": [],
   "source": [
    "#Clean_Braken_Agora_Model_df2\n",
    "#Clean_Braken_Agora_Model_df2.drop_duplicates(subset=['taxid', 'Species'], keep='first', inplace=False)\n",
    "\n",
    "df = pd.read_csv('Dominant_species_Braken_name_w_Agora_models_taxID_df.csv')\n",
    "df['taxid'].nunique()\n",
    "Species_Model_df = df.drop_duplicates(subset=['taxid'], keep='last')\n",
    "Species_Model_df[Species_Model_df['Model'].duplicated()]"
   ]
  },
  {
   "cell_type": "code",
   "execution_count": null,
   "id": "eecac4c5-6d94-4ebf-92a7-c3129b1024ba",
   "metadata": {},
   "outputs": [],
   "source": [
    "Species_Model_df"
   ]
  },
  {
   "cell_type": "code",
   "execution_count": null,
   "id": "f2c6e065-dd4b-404a-8c6f-e5b7ca765503",
   "metadata": {},
   "outputs": [],
   "source": [
    "Single_model_Braken_Agora_df = Clean_Braken_Agora_Model_df2.drop_duplicates(subset=['taxid', 'Species'], keep='first', inplace=False)"
   ]
  },
  {
   "cell_type": "code",
   "execution_count": null,
   "id": "57cf5c6c-88af-410c-822b-c7cfaf416cd3",
   "metadata": {
    "scrolled": true
   },
   "outputs": [],
   "source": [
    "Single_model_Braken_Agora_df = Single_model_Braken_Agora_df.reset_index()\n",
    "Single_model_Braken_Agora_df"
   ]
  },
  {
   "cell_type": "code",
   "execution_count": null,
   "id": "2e23d60c-b6b1-4b02-a308-63f2e43f36aa",
   "metadata": {},
   "outputs": [],
   "source": []
  },
  {
   "cell_type": "markdown",
   "id": "ae7c1b04-0469-4f45-83ab-5a453fa3674b",
   "metadata": {},
   "source": [
    "### Using the clean Braken Speciess to Agora model (short version) based on Important_CreateBraken_AgoraModels_cleanedup Notebook (please use this data)\n",
    "\n",
    "Keep in mind that we though we had 263 features but some where virus(missed) so I changed it in the Full_data_copy_df and redid our ML models since it had those features\n",
    "Now we have 258 features"
   ]
  },
  {
   "cell_type": "code",
   "execution_count": 3,
   "id": "0339cc4f-ea33-44d3-af6e-7481e0c161e2",
   "metadata": {},
   "outputs": [
    {
     "data": {
      "text/html": [
       "<div>\n",
       "<style scoped>\n",
       "    .dataframe tbody tr th:only-of-type {\n",
       "        vertical-align: middle;\n",
       "    }\n",
       "\n",
       "    .dataframe tbody tr th {\n",
       "        vertical-align: top;\n",
       "    }\n",
       "\n",
       "    .dataframe thead th {\n",
       "        text-align: right;\n",
       "    }\n",
       "</style>\n",
       "<table border=\"1\" class=\"dataframe\">\n",
       "  <thead>\n",
       "    <tr style=\"text-align: right;\">\n",
       "      <th></th>\n",
       "      <th>taxid</th>\n",
       "      <th>Species</th>\n",
       "      <th>Model</th>\n",
       "    </tr>\n",
       "  </thead>\n",
       "  <tbody>\n",
       "    <tr>\n",
       "      <th>0</th>\n",
       "      <td>100886</td>\n",
       "      <td>Catenibacterium mitsuokai</td>\n",
       "      <td>Catenibacterium_mitsuokai_DSM_15897</td>\n",
       "    </tr>\n",
       "    <tr>\n",
       "      <th>1</th>\n",
       "      <td>102684</td>\n",
       "      <td>Streptococcus infantarius</td>\n",
       "      <td>Streptococcus_infantarius_subsp_infantarius_AT...</td>\n",
       "    </tr>\n",
       "    <tr>\n",
       "      <th>2</th>\n",
       "      <td>103621</td>\n",
       "      <td>Actinomyces urogenitalis</td>\n",
       "      <td>Actinomyces_urogenitalis_DSM_15434</td>\n",
       "    </tr>\n",
       "    <tr>\n",
       "      <th>3</th>\n",
       "      <td>1115758</td>\n",
       "      <td>Romboutsia ilealis</td>\n",
       "      <td>Clostridium_dakarense_FF1</td>\n",
       "    </tr>\n",
       "    <tr>\n",
       "      <th>4</th>\n",
       "      <td>1134687</td>\n",
       "      <td>Klebsiella michiganensis</td>\n",
       "      <td>Klebsiella_michiganensis_10_5242</td>\n",
       "    </tr>\n",
       "    <tr>\n",
       "      <th>...</th>\n",
       "      <td>...</td>\n",
       "      <td>...</td>\n",
       "      <td>...</td>\n",
       "    </tr>\n",
       "    <tr>\n",
       "      <th>251</th>\n",
       "      <td>88431</td>\n",
       "      <td>Dorea longicatena</td>\n",
       "      <td>Dorea_longicatena_DSM_13814</td>\n",
       "    </tr>\n",
       "    <tr>\n",
       "      <th>252</th>\n",
       "      <td>89014</td>\n",
       "      <td>Blautia luti</td>\n",
       "      <td>Blautia_luti_DSM_14534</td>\n",
       "    </tr>\n",
       "    <tr>\n",
       "      <th>253</th>\n",
       "      <td>905</td>\n",
       "      <td>Acidaminococcus fermentans</td>\n",
       "      <td>Acidaminococcus_fermentans_DSM_20731</td>\n",
       "    </tr>\n",
       "    <tr>\n",
       "      <th>254</th>\n",
       "      <td>907</td>\n",
       "      <td>Megasphaera elsdenii</td>\n",
       "      <td>Megasphaera_elsdenii_DSM_20460</td>\n",
       "    </tr>\n",
       "    <tr>\n",
       "      <th>255</th>\n",
       "      <td>97478</td>\n",
       "      <td>Limosilactobacillus mucosae</td>\n",
       "      <td>Lactobacillus_mucosae_LM1</td>\n",
       "    </tr>\n",
       "  </tbody>\n",
       "</table>\n",
       "<p>256 rows × 3 columns</p>\n",
       "</div>"
      ],
      "text/plain": [
       "       taxid                      Species  \\\n",
       "0     100886    Catenibacterium mitsuokai   \n",
       "1     102684    Streptococcus infantarius   \n",
       "2     103621     Actinomyces urogenitalis   \n",
       "3    1115758           Romboutsia ilealis   \n",
       "4    1134687     Klebsiella michiganensis   \n",
       "..       ...                          ...   \n",
       "251    88431            Dorea longicatena   \n",
       "252    89014                 Blautia luti   \n",
       "253      905   Acidaminococcus fermentans   \n",
       "254      907         Megasphaera elsdenii   \n",
       "255    97478  Limosilactobacillus mucosae   \n",
       "\n",
       "                                                 Model  \n",
       "0                  Catenibacterium_mitsuokai_DSM_15897  \n",
       "1    Streptococcus_infantarius_subsp_infantarius_AT...  \n",
       "2                   Actinomyces_urogenitalis_DSM_15434  \n",
       "3                            Clostridium_dakarense_FF1  \n",
       "4                     Klebsiella_michiganensis_10_5242  \n",
       "..                                                 ...  \n",
       "251                        Dorea_longicatena_DSM_13814  \n",
       "252                             Blautia_luti_DSM_14534  \n",
       "253               Acidaminococcus_fermentans_DSM_20731  \n",
       "254                     Megasphaera_elsdenii_DSM_20460  \n",
       "255                          Lactobacillus_mucosae_LM1  \n",
       "\n",
       "[256 rows x 3 columns]"
      ]
     },
     "execution_count": 3,
     "metadata": {},
     "output_type": "execute_result"
    }
   ],
   "source": [
    "##Get Model dataframe \n",
    "#Get the data/Matrix\n",
    "Single_model_Braken_Agora = pd.read_csv('Braken_Species_Agora_model_match__short_version_df.csv')\n",
    "Single_model_Braken_Agora_df = pd.DataFrame(Single_model_Braken_Agora)\n",
    "\n",
    "#get important info(taxid,species,Model) and get rid of 'no match part in species column\n",
    "Single_model_Braken_Agora_df = Single_model_Braken_Agora_df[['taxid','Species','Model']]\n",
    "Single_model_Braken_Agora_df['Species']=Single_model_Braken_Agora_df['Species'].str.replace('no match:','',case=False,regex=False) #clean up species name\n",
    "Single_model_Braken_Agora_df\n",
    "\n",
    "\n",
    "\n",
    "#Get Brakendata \n",
    "\n"
   ]
  },
  {
   "cell_type": "code",
   "execution_count": null,
   "id": "8f3e19fb-e155-4a50-a7ba-0479d7ec7d5b",
   "metadata": {},
   "outputs": [],
   "source": [
    "Single_model_Braken_Agora_df[Single_model_Braken_Agora_df['Species']=='Faecalibacterium wellingii']"
   ]
  },
  {
   "cell_type": "markdown",
   "id": "17597e02-f633-473b-8f88-caa33d9af60d",
   "metadata": {},
   "source": [
    "### Create Matrix X_B sample vs species (with a model)"
   ]
  },
  {
   "cell_type": "code",
   "execution_count": 4,
   "id": "5c18c9b0-cc51-4565-831a-a3fa7cb2697d",
   "metadata": {},
   "outputs": [
    {
     "data": {
      "text/html": [
       "<div>\n",
       "<style scoped>\n",
       "    .dataframe tbody tr th:only-of-type {\n",
       "        vertical-align: middle;\n",
       "    }\n",
       "\n",
       "    .dataframe tbody tr th {\n",
       "        vertical-align: top;\n",
       "    }\n",
       "\n",
       "    .dataframe thead th {\n",
       "        text-align: right;\n",
       "    }\n",
       "</style>\n",
       "<table border=\"1\" class=\"dataframe\">\n",
       "  <thead>\n",
       "    <tr style=\"text-align: right;\">\n",
       "      <th></th>\n",
       "      <th>Catenibacterium mitsuokai</th>\n",
       "      <th>Streptococcus infantarius</th>\n",
       "      <th>Actinomyces urogenitalis</th>\n",
       "      <th>Romboutsia ilealis</th>\n",
       "      <th>Klebsiella michiganensis</th>\n",
       "      <th>Ruminococcus bicirculans (ex Wegman et al. 2014)</th>\n",
       "      <th>Coprococcus catus</th>\n",
       "      <th>Ruminococcus champanellensis</th>\n",
       "      <th>Megasphaera massiliensis</th>\n",
       "      <th>Leuconostoc lactis</th>\n",
       "      <th>...</th>\n",
       "      <th>Parabacteroides distasonis</th>\n",
       "      <th>Succinivibrio dextrinosolvens</th>\n",
       "      <th>Eggerthella lenta</th>\n",
       "      <th>Fusobacterium mortiferum</th>\n",
       "      <th>Faecalibacterium prausnitzii</th>\n",
       "      <th>Dorea longicatena</th>\n",
       "      <th>Blautia luti</th>\n",
       "      <th>Acidaminococcus fermentans</th>\n",
       "      <th>Megasphaera elsdenii</th>\n",
       "      <th>Limosilactobacillus mucosae</th>\n",
       "    </tr>\n",
       "  </thead>\n",
       "  <tbody>\n",
       "    <tr>\n",
       "      <th>0</th>\n",
       "      <td>73.0</td>\n",
       "      <td>1439.0</td>\n",
       "      <td>0.1</td>\n",
       "      <td>400.0</td>\n",
       "      <td>0.1</td>\n",
       "      <td>21.0</td>\n",
       "      <td>31.0</td>\n",
       "      <td>0.1</td>\n",
       "      <td>0.1</td>\n",
       "      <td>0.1</td>\n",
       "      <td>...</td>\n",
       "      <td>78.0</td>\n",
       "      <td>26.0</td>\n",
       "      <td>0.1</td>\n",
       "      <td>81.0</td>\n",
       "      <td>64.0</td>\n",
       "      <td>100.0</td>\n",
       "      <td>28.0</td>\n",
       "      <td>0.1</td>\n",
       "      <td>10.0</td>\n",
       "      <td>41.0</td>\n",
       "    </tr>\n",
       "    <tr>\n",
       "      <th>1</th>\n",
       "      <td>36.0</td>\n",
       "      <td>23.0</td>\n",
       "      <td>39.0</td>\n",
       "      <td>49.0</td>\n",
       "      <td>31.0</td>\n",
       "      <td>0.1</td>\n",
       "      <td>0.1</td>\n",
       "      <td>10.0</td>\n",
       "      <td>1826.0</td>\n",
       "      <td>0.1</td>\n",
       "      <td>...</td>\n",
       "      <td>177.0</td>\n",
       "      <td>0.1</td>\n",
       "      <td>3688.0</td>\n",
       "      <td>0.1</td>\n",
       "      <td>115.0</td>\n",
       "      <td>33.0</td>\n",
       "      <td>17.0</td>\n",
       "      <td>129.0</td>\n",
       "      <td>72472.0</td>\n",
       "      <td>11.0</td>\n",
       "    </tr>\n",
       "    <tr>\n",
       "      <th>2</th>\n",
       "      <td>211.0</td>\n",
       "      <td>71.0</td>\n",
       "      <td>68796.0</td>\n",
       "      <td>33.0</td>\n",
       "      <td>38.0</td>\n",
       "      <td>23.0</td>\n",
       "      <td>82.0</td>\n",
       "      <td>15.0</td>\n",
       "      <td>25.0</td>\n",
       "      <td>0.1</td>\n",
       "      <td>...</td>\n",
       "      <td>164.0</td>\n",
       "      <td>15.0</td>\n",
       "      <td>1508.0</td>\n",
       "      <td>1096.0</td>\n",
       "      <td>199.0</td>\n",
       "      <td>2954.0</td>\n",
       "      <td>52.0</td>\n",
       "      <td>27.0</td>\n",
       "      <td>50.0</td>\n",
       "      <td>697.0</td>\n",
       "    </tr>\n",
       "    <tr>\n",
       "      <th>3</th>\n",
       "      <td>76.0</td>\n",
       "      <td>43.0</td>\n",
       "      <td>6894.0</td>\n",
       "      <td>13.0</td>\n",
       "      <td>51.0</td>\n",
       "      <td>17.0</td>\n",
       "      <td>160.0</td>\n",
       "      <td>20.0</td>\n",
       "      <td>316.0</td>\n",
       "      <td>0.1</td>\n",
       "      <td>...</td>\n",
       "      <td>836.0</td>\n",
       "      <td>0.1</td>\n",
       "      <td>2696.0</td>\n",
       "      <td>0.1</td>\n",
       "      <td>669.0</td>\n",
       "      <td>1479.0</td>\n",
       "      <td>252.0</td>\n",
       "      <td>30250.0</td>\n",
       "      <td>9658.0</td>\n",
       "      <td>10046.0</td>\n",
       "    </tr>\n",
       "    <tr>\n",
       "      <th>4</th>\n",
       "      <td>0.1</td>\n",
       "      <td>15.0</td>\n",
       "      <td>0.1</td>\n",
       "      <td>0.1</td>\n",
       "      <td>223.0</td>\n",
       "      <td>0.1</td>\n",
       "      <td>0.1</td>\n",
       "      <td>0.1</td>\n",
       "      <td>0.1</td>\n",
       "      <td>0.1</td>\n",
       "      <td>...</td>\n",
       "      <td>682.0</td>\n",
       "      <td>0.1</td>\n",
       "      <td>0.1</td>\n",
       "      <td>0.1</td>\n",
       "      <td>68.0</td>\n",
       "      <td>0.1</td>\n",
       "      <td>0.1</td>\n",
       "      <td>0.1</td>\n",
       "      <td>0.1</td>\n",
       "      <td>0.1</td>\n",
       "    </tr>\n",
       "    <tr>\n",
       "      <th>...</th>\n",
       "      <td>...</td>\n",
       "      <td>...</td>\n",
       "      <td>...</td>\n",
       "      <td>...</td>\n",
       "      <td>...</td>\n",
       "      <td>...</td>\n",
       "      <td>...</td>\n",
       "      <td>...</td>\n",
       "      <td>...</td>\n",
       "      <td>...</td>\n",
       "      <td>...</td>\n",
       "      <td>...</td>\n",
       "      <td>...</td>\n",
       "      <td>...</td>\n",
       "      <td>...</td>\n",
       "      <td>...</td>\n",
       "      <td>...</td>\n",
       "      <td>...</td>\n",
       "      <td>...</td>\n",
       "      <td>...</td>\n",
       "      <td>...</td>\n",
       "    </tr>\n",
       "    <tr>\n",
       "      <th>749</th>\n",
       "      <td>0.1</td>\n",
       "      <td>107.0</td>\n",
       "      <td>0.1</td>\n",
       "      <td>187.0</td>\n",
       "      <td>194.0</td>\n",
       "      <td>0.1</td>\n",
       "      <td>31.0</td>\n",
       "      <td>0.1</td>\n",
       "      <td>23.0</td>\n",
       "      <td>15588.0</td>\n",
       "      <td>...</td>\n",
       "      <td>0.1</td>\n",
       "      <td>0.1</td>\n",
       "      <td>1070.0</td>\n",
       "      <td>0.1</td>\n",
       "      <td>221.0</td>\n",
       "      <td>279.0</td>\n",
       "      <td>76.0</td>\n",
       "      <td>0.1</td>\n",
       "      <td>44.0</td>\n",
       "      <td>34.0</td>\n",
       "    </tr>\n",
       "    <tr>\n",
       "      <th>750</th>\n",
       "      <td>50323.0</td>\n",
       "      <td>29.0</td>\n",
       "      <td>18.0</td>\n",
       "      <td>999.0</td>\n",
       "      <td>381.0</td>\n",
       "      <td>239.0</td>\n",
       "      <td>4170.0</td>\n",
       "      <td>154.0</td>\n",
       "      <td>3342.0</td>\n",
       "      <td>210.0</td>\n",
       "      <td>...</td>\n",
       "      <td>1730.0</td>\n",
       "      <td>29.0</td>\n",
       "      <td>2838.0</td>\n",
       "      <td>151.0</td>\n",
       "      <td>222366.0</td>\n",
       "      <td>21153.0</td>\n",
       "      <td>9337.0</td>\n",
       "      <td>416.0</td>\n",
       "      <td>181266.0</td>\n",
       "      <td>57.0</td>\n",
       "    </tr>\n",
       "    <tr>\n",
       "      <th>751</th>\n",
       "      <td>0.1</td>\n",
       "      <td>0.1</td>\n",
       "      <td>21.0</td>\n",
       "      <td>0.1</td>\n",
       "      <td>221.0</td>\n",
       "      <td>24.0</td>\n",
       "      <td>260.0</td>\n",
       "      <td>11.0</td>\n",
       "      <td>65.0</td>\n",
       "      <td>0.1</td>\n",
       "      <td>...</td>\n",
       "      <td>5702.0</td>\n",
       "      <td>0.1</td>\n",
       "      <td>11540.0</td>\n",
       "      <td>17.0</td>\n",
       "      <td>9462.0</td>\n",
       "      <td>39620.0</td>\n",
       "      <td>252.0</td>\n",
       "      <td>14.0</td>\n",
       "      <td>236.0</td>\n",
       "      <td>23.0</td>\n",
       "    </tr>\n",
       "    <tr>\n",
       "      <th>752</th>\n",
       "      <td>0.1</td>\n",
       "      <td>12.0</td>\n",
       "      <td>0.1</td>\n",
       "      <td>159.0</td>\n",
       "      <td>2899.0</td>\n",
       "      <td>0.1</td>\n",
       "      <td>0.1</td>\n",
       "      <td>0.1</td>\n",
       "      <td>90.0</td>\n",
       "      <td>0.1</td>\n",
       "      <td>...</td>\n",
       "      <td>0.1</td>\n",
       "      <td>0.1</td>\n",
       "      <td>0.1</td>\n",
       "      <td>28.0</td>\n",
       "      <td>26.0</td>\n",
       "      <td>41.0</td>\n",
       "      <td>28.0</td>\n",
       "      <td>11.0</td>\n",
       "      <td>1274.0</td>\n",
       "      <td>2570.0</td>\n",
       "    </tr>\n",
       "    <tr>\n",
       "      <th>753</th>\n",
       "      <td>146.0</td>\n",
       "      <td>5606.0</td>\n",
       "      <td>32.0</td>\n",
       "      <td>40.0</td>\n",
       "      <td>160.0</td>\n",
       "      <td>71.0</td>\n",
       "      <td>283.0</td>\n",
       "      <td>16.0</td>\n",
       "      <td>62.0</td>\n",
       "      <td>126.0</td>\n",
       "      <td>...</td>\n",
       "      <td>986.0</td>\n",
       "      <td>0.1</td>\n",
       "      <td>106.0</td>\n",
       "      <td>82.0</td>\n",
       "      <td>71372.0</td>\n",
       "      <td>929.0</td>\n",
       "      <td>354.0</td>\n",
       "      <td>23.0</td>\n",
       "      <td>135.0</td>\n",
       "      <td>53.0</td>\n",
       "    </tr>\n",
       "  </tbody>\n",
       "</table>\n",
       "<p>754 rows × 256 columns</p>\n",
       "</div>"
      ],
      "text/plain": [
       "     Catenibacterium mitsuokai  Streptococcus infantarius  \\\n",
       "0                         73.0                     1439.0   \n",
       "1                         36.0                       23.0   \n",
       "2                        211.0                       71.0   \n",
       "3                         76.0                       43.0   \n",
       "4                          0.1                       15.0   \n",
       "..                         ...                        ...   \n",
       "749                        0.1                      107.0   \n",
       "750                    50323.0                       29.0   \n",
       "751                        0.1                        0.1   \n",
       "752                        0.1                       12.0   \n",
       "753                      146.0                     5606.0   \n",
       "\n",
       "     Actinomyces urogenitalis  Romboutsia ilealis  Klebsiella michiganensis  \\\n",
       "0                         0.1               400.0                       0.1   \n",
       "1                        39.0                49.0                      31.0   \n",
       "2                     68796.0                33.0                      38.0   \n",
       "3                      6894.0                13.0                      51.0   \n",
       "4                         0.1                 0.1                     223.0   \n",
       "..                        ...                 ...                       ...   \n",
       "749                       0.1               187.0                     194.0   \n",
       "750                      18.0               999.0                     381.0   \n",
       "751                      21.0                 0.1                     221.0   \n",
       "752                       0.1               159.0                    2899.0   \n",
       "753                      32.0                40.0                     160.0   \n",
       "\n",
       "     Ruminococcus bicirculans (ex Wegman et al. 2014)  Coprococcus catus  \\\n",
       "0                                                21.0               31.0   \n",
       "1                                                 0.1                0.1   \n",
       "2                                                23.0               82.0   \n",
       "3                                                17.0              160.0   \n",
       "4                                                 0.1                0.1   \n",
       "..                                                ...                ...   \n",
       "749                                               0.1               31.0   \n",
       "750                                             239.0             4170.0   \n",
       "751                                              24.0              260.0   \n",
       "752                                               0.1                0.1   \n",
       "753                                              71.0              283.0   \n",
       "\n",
       "     Ruminococcus champanellensis  Megasphaera massiliensis  \\\n",
       "0                             0.1                       0.1   \n",
       "1                            10.0                    1826.0   \n",
       "2                            15.0                      25.0   \n",
       "3                            20.0                     316.0   \n",
       "4                             0.1                       0.1   \n",
       "..                            ...                       ...   \n",
       "749                           0.1                      23.0   \n",
       "750                         154.0                    3342.0   \n",
       "751                          11.0                      65.0   \n",
       "752                           0.1                      90.0   \n",
       "753                          16.0                      62.0   \n",
       "\n",
       "     Leuconostoc lactis  ...  Parabacteroides distasonis  \\\n",
       "0                   0.1  ...                        78.0   \n",
       "1                   0.1  ...                       177.0   \n",
       "2                   0.1  ...                       164.0   \n",
       "3                   0.1  ...                       836.0   \n",
       "4                   0.1  ...                       682.0   \n",
       "..                  ...  ...                         ...   \n",
       "749             15588.0  ...                         0.1   \n",
       "750               210.0  ...                      1730.0   \n",
       "751                 0.1  ...                      5702.0   \n",
       "752                 0.1  ...                         0.1   \n",
       "753               126.0  ...                       986.0   \n",
       "\n",
       "     Succinivibrio dextrinosolvens  Eggerthella lenta  \\\n",
       "0                             26.0                0.1   \n",
       "1                              0.1             3688.0   \n",
       "2                             15.0             1508.0   \n",
       "3                              0.1             2696.0   \n",
       "4                              0.1                0.1   \n",
       "..                             ...                ...   \n",
       "749                            0.1             1070.0   \n",
       "750                           29.0             2838.0   \n",
       "751                            0.1            11540.0   \n",
       "752                            0.1                0.1   \n",
       "753                            0.1              106.0   \n",
       "\n",
       "     Fusobacterium mortiferum  Faecalibacterium prausnitzii  \\\n",
       "0                        81.0                          64.0   \n",
       "1                         0.1                         115.0   \n",
       "2                      1096.0                         199.0   \n",
       "3                         0.1                         669.0   \n",
       "4                         0.1                          68.0   \n",
       "..                        ...                           ...   \n",
       "749                       0.1                         221.0   \n",
       "750                     151.0                      222366.0   \n",
       "751                      17.0                        9462.0   \n",
       "752                      28.0                          26.0   \n",
       "753                      82.0                       71372.0   \n",
       "\n",
       "     Dorea longicatena  Blautia luti  Acidaminococcus fermentans  \\\n",
       "0                100.0          28.0                         0.1   \n",
       "1                 33.0          17.0                       129.0   \n",
       "2               2954.0          52.0                        27.0   \n",
       "3               1479.0         252.0                     30250.0   \n",
       "4                  0.1           0.1                         0.1   \n",
       "..                 ...           ...                         ...   \n",
       "749              279.0          76.0                         0.1   \n",
       "750            21153.0        9337.0                       416.0   \n",
       "751            39620.0         252.0                        14.0   \n",
       "752               41.0          28.0                        11.0   \n",
       "753              929.0         354.0                        23.0   \n",
       "\n",
       "     Megasphaera elsdenii  Limosilactobacillus mucosae  \n",
       "0                    10.0                         41.0  \n",
       "1                 72472.0                         11.0  \n",
       "2                    50.0                        697.0  \n",
       "3                  9658.0                      10046.0  \n",
       "4                     0.1                          0.1  \n",
       "..                    ...                          ...  \n",
       "749                  44.0                         34.0  \n",
       "750              181266.0                         57.0  \n",
       "751                 236.0                         23.0  \n",
       "752                1274.0                       2570.0  \n",
       "753                 135.0                         53.0  \n",
       "\n",
       "[754 rows x 256 columns]"
      ]
     },
     "execution_count": 4,
     "metadata": {},
     "output_type": "execute_result"
    }
   ],
   "source": [
    "#Create X_B matrix\n",
    "data_dir2= Path.cwd()\n",
    "Braken_data_df3 = pd.read_csv(data_dir2/'Data/SHINE_COPTR_Data/Full_data.csv')\n",
    "Braken_data_df3.drop(columns= ['Escherichia phage vB_EcoS-Ro145c2YLVW','Escherichia phage vB_EcoS_fFiEco03','Escherichia phage 26','Escherichia phage SZH-1','Salmonella phage vB_SAg-RPN213',\n",
    "                              'Lawsonella clevelandensis','Massilistercora timonensis'],inplace=True)\n",
    "psuedocount = 0.1\n",
    "Braken_data_df3 = Braken_data_df3.applymap(lambda x: psuedocount if x ==0 else x)\n",
    "\n",
    "\n",
    "\n",
    "\n",
    "X_B = Braken_data_df3.iloc[:,3:-1] #This is our braken data (out of order for species)\n",
    "X_B.rename(columns={'Escherichia coli_x': 'Escherichia coli','Butyrivibrio crossotus':'Eshraghiella crossota','Peptoniphilus sp. SAHP1':'Peptoniphilus genitalis','Faecalibacterium sp. HTF-F':'Faecalibacterium wellingii'}, inplace=True) # the taxid matches so we will change the name so we can have it in our matrix\n",
    "X_B\n",
    "\n",
    "#we now need to match the species to species with models\n",
    "#Single_model_Braken_Agora_df_clean = Single_model_Braken_Agora_df.copy()\n",
    "#Single_model_Braken_Agora_df_clean['Species']=Single_model_Braken_Agora_df_clean['Species'].str.replace('no match:','',case=False,regex=False) #clean up species name\n",
    "#Single_model_Braken_Agora_df_clean_copy = Single_model_Braken_Agora_df_clean.copy()\n",
    "\n",
    "species_list = list(Single_model_Braken_Agora_df['Species'])  #list of species with model with same order as our metabolic model dictionary list\n",
    "#mask = X_B.columns.isin(species_list)\n",
    "#false_columns = X_B.columns[~mask]\n",
    "#X_B = X_B.drop(columns=false_columns)\n",
    "#false_columns\n",
    "## Get the species names from X_B columns\n",
    "#x_b_species = X_B.columns.tolist()\n",
    "\n",
    "## Filter Single_model_Braken_Agora_df_clean_copy to retain only rows with matching species in X_B\n",
    "#Single_model_Braken_Agora_df_clean_filtered = Single_model_Braken_Agora_df_clean_copy[\n",
    "    #Single_model_Braken_Agora_df_clean_copy['Species'].isin(x_b_species)\n",
    "#]\n",
    "#Single_model_Braken_Agora_df_clean_filtered = Single_model_Braken_Agora_df_clean_filtered.drop(columns='index')\n",
    "correct_order_species_list = list(Single_model_Braken_Agora_df['Species'])\n",
    "\n",
    "#reorder Xb to match braken_agora_model list order\n",
    "X_B=X_B[correct_order_species_list] \n",
    "X_B"
   ]
  },
  {
   "cell_type": "code",
   "execution_count": null,
   "id": "4ec680b6-f779-4adf-ab47-4d752e8b2057",
   "metadata": {},
   "outputs": [],
   "source": []
  },
  {
   "cell_type": "markdown",
   "id": "245685ca-8089-4562-8b18-d429d2d6e0b5",
   "metadata": {},
   "source": [
    "### Load the models"
   ]
  },
  {
   "cell_type": "code",
   "execution_count": 5,
   "id": "d2e13d66-e6f3-4240-bb69-ee22db82398d",
   "metadata": {},
   "outputs": [
    {
     "name": "stdout",
     "output_type": "stream",
     "text": [
      "Set parameter Username\n",
      "Academic license - for non-commercial use only - expires 2025-07-29\n"
     ]
    },
    {
     "name": "stderr",
     "output_type": "stream",
     "text": [
      "No defined compartments in model model. Compartments will be deduced heuristically using regular expressions.\n",
      "Using regular expression found the following compartments:c, e\n",
      "No defined compartments in model model. Compartments will be deduced heuristically using regular expressions.\n",
      "Using regular expression found the following compartments:c, e\n"
     ]
    },
    {
     "name": "stdout",
     "output_type": "stream",
     "text": [
      "Loaded model: Catenibacterium_mitsuokai_DSM_15897\n"
     ]
    },
    {
     "name": "stderr",
     "output_type": "stream",
     "text": [
      "No defined compartments in model model. Compartments will be deduced heuristically using regular expressions.\n",
      "Using regular expression found the following compartments:c, e\n"
     ]
    },
    {
     "name": "stdout",
     "output_type": "stream",
     "text": [
      "Loaded model: Streptococcus_infantarius_subsp_infantarius_ATCC_BAA_102\n"
     ]
    },
    {
     "name": "stderr",
     "output_type": "stream",
     "text": [
      "No defined compartments in model model. Compartments will be deduced heuristically using regular expressions.\n",
      "Using regular expression found the following compartments:c, e\n"
     ]
    },
    {
     "name": "stdout",
     "output_type": "stream",
     "text": [
      "Loaded model: Actinomyces_urogenitalis_DSM_15434\n"
     ]
    },
    {
     "name": "stderr",
     "output_type": "stream",
     "text": [
      "No defined compartments in model model. Compartments will be deduced heuristically using regular expressions.\n",
      "Using regular expression found the following compartments:c, e, p\n"
     ]
    },
    {
     "name": "stdout",
     "output_type": "stream",
     "text": [
      "Loaded model: Clostridium_dakarense_FF1\n"
     ]
    },
    {
     "name": "stderr",
     "output_type": "stream",
     "text": [
      "No defined compartments in model model. Compartments will be deduced heuristically using regular expressions.\n",
      "Using regular expression found the following compartments:c, e\n"
     ]
    },
    {
     "name": "stdout",
     "output_type": "stream",
     "text": [
      "Loaded model: Klebsiella_michiganensis_10_5242\n"
     ]
    },
    {
     "name": "stderr",
     "output_type": "stream",
     "text": [
      "No defined compartments in model model. Compartments will be deduced heuristically using regular expressions.\n",
      "Using regular expression found the following compartments:c, e\n"
     ]
    },
    {
     "name": "stdout",
     "output_type": "stream",
     "text": [
      "Loaded model: Ruminococcus_bicirculans_80_3\n"
     ]
    },
    {
     "name": "stderr",
     "output_type": "stream",
     "text": [
      "No defined compartments in model model. Compartments will be deduced heuristically using regular expressions.\n",
      "Using regular expression found the following compartments:c, e\n"
     ]
    },
    {
     "name": "stdout",
     "output_type": "stream",
     "text": [
      "Loaded model: Coprococcus_catus_ERR2221258\n"
     ]
    },
    {
     "name": "stderr",
     "output_type": "stream",
     "text": [
      "No defined compartments in model model. Compartments will be deduced heuristically using regular expressions.\n",
      "Using regular expression found the following compartments:c, e, p\n"
     ]
    },
    {
     "name": "stdout",
     "output_type": "stream",
     "text": [
      "Loaded model: Ruminococcus_champanellensis_18P13\n"
     ]
    },
    {
     "name": "stderr",
     "output_type": "stream",
     "text": [
      "No defined compartments in model model. Compartments will be deduced heuristically using regular expressions.\n",
      "Using regular expression found the following compartments:c, e\n"
     ]
    },
    {
     "name": "stdout",
     "output_type": "stream",
     "text": [
      "Loaded model: Megasphaera_massiliensis_NP3\n"
     ]
    },
    {
     "name": "stderr",
     "output_type": "stream",
     "text": [
      "No defined compartments in model model. Compartments will be deduced heuristically using regular expressions.\n",
      "Using regular expression found the following compartments:c, e, p\n"
     ]
    },
    {
     "name": "stdout",
     "output_type": "stream",
     "text": [
      "Loaded model: Leuconostoc_argentinum_KCTC_3773\n"
     ]
    },
    {
     "name": "stderr",
     "output_type": "stream",
     "text": [
      "No defined compartments in model model. Compartments will be deduced heuristically using regular expressions.\n",
      "Using regular expression found the following compartments:c, e\n"
     ]
    },
    {
     "name": "stdout",
     "output_type": "stream",
     "text": [
      "Loaded model: Providencia_alcalifaciens_Dmel2\n"
     ]
    },
    {
     "name": "stderr",
     "output_type": "stream",
     "text": [
      "No defined compartments in model model. Compartments will be deduced heuristically using regular expressions.\n",
      "Using regular expression found the following compartments:c, e, p\n"
     ]
    },
    {
     "name": "stdout",
     "output_type": "stream",
     "text": [
      "Loaded model: Staphylococcus_aureus_subsp_aureus_IS_250\n"
     ]
    },
    {
     "name": "stderr",
     "output_type": "stream",
     "text": [
      "No defined compartments in model model. Compartments will be deduced heuristically using regular expressions.\n",
      "Using regular expression found the following compartments:c, e\n"
     ]
    },
    {
     "name": "stdout",
     "output_type": "stream",
     "text": [
      "Loaded model: Alistipes_senegalensis_JC50\n"
     ]
    },
    {
     "name": "stderr",
     "output_type": "stream",
     "text": [
      "No defined compartments in model model. Compartments will be deduced heuristically using regular expressions.\n",
      "Using regular expression found the following compartments:c, e\n"
     ]
    },
    {
     "name": "stdout",
     "output_type": "stream",
     "text": [
      "Loaded model: Staphylococcus_hominis_SK119\n"
     ]
    },
    {
     "name": "stderr",
     "output_type": "stream",
     "text": [
      "No defined compartments in model model. Compartments will be deduced heuristically using regular expressions.\n",
      "Using regular expression found the following compartments:c, e\n"
     ]
    },
    {
     "name": "stdout",
     "output_type": "stream",
     "text": [
      "Loaded model: Streptococcus_salivarius_57_I\n"
     ]
    },
    {
     "name": "stderr",
     "output_type": "stream",
     "text": [
      "No defined compartments in model model. Compartments will be deduced heuristically using regular expressions.\n",
      "Using regular expression found the following compartments:c, e\n"
     ]
    },
    {
     "name": "stdout",
     "output_type": "stream",
     "text": [
      "Loaded model: Streptococcus_thermophilus_CNRZ1066\n"
     ]
    },
    {
     "name": "stderr",
     "output_type": "stream",
     "text": [
      "No defined compartments in model model. Compartments will be deduced heuristically using regular expressions.\n",
      "Using regular expression found the following compartments:c, e\n"
     ]
    },
    {
     "name": "stdout",
     "output_type": "stream",
     "text": [
      "Loaded model: Actinomyces_cardiffensis_F0333\n"
     ]
    },
    {
     "name": "stderr",
     "output_type": "stream",
     "text": [
      "No defined compartments in model model. Compartments will be deduced heuristically using regular expressions.\n",
      "Using regular expression found the following compartments:c, e, p\n"
     ]
    },
    {
     "name": "stdout",
     "output_type": "stream",
     "text": [
      "Loaded model: Streptococcus_parasanguinis_ATCC_15912\n"
     ]
    },
    {
     "name": "stderr",
     "output_type": "stream",
     "text": [
      "No defined compartments in model model. Compartments will be deduced heuristically using regular expressions.\n",
      "Using regular expression found the following compartments:c, e\n"
     ]
    },
    {
     "name": "stdout",
     "output_type": "stream",
     "text": [
      "Loaded model: Citrobacter_youngae_ATCC_29220\n"
     ]
    },
    {
     "name": "stderr",
     "output_type": "stream",
     "text": [
      "No defined compartments in model model. Compartments will be deduced heuristically using regular expressions.\n",
      "Using regular expression found the following compartments:c, e\n"
     ]
    },
    {
     "name": "stdout",
     "output_type": "stream",
     "text": [
      "Loaded model: Streptococcus_bovis_ATCC_700338\n"
     ]
    },
    {
     "name": "stderr",
     "output_type": "stream",
     "text": [
      "No defined compartments in model model. Compartments will be deduced heuristically using regular expressions.\n",
      "Using regular expression found the following compartments:c, e\n"
     ]
    },
    {
     "name": "stdout",
     "output_type": "stream",
     "text": [
      "Loaded model: Streptococcus_vestibularis_ATCC_49124\n"
     ]
    },
    {
     "name": "stderr",
     "output_type": "stream",
     "text": [
      "No defined compartments in model model. Compartments will be deduced heuristically using regular expressions.\n",
      "Using regular expression found the following compartments:c, e\n"
     ]
    },
    {
     "name": "stdout",
     "output_type": "stream",
     "text": [
      "Loaded model: Enterococcus_faecalis_12030\n"
     ]
    },
    {
     "name": "stderr",
     "output_type": "stream",
     "text": [
      "No defined compartments in model model. Compartments will be deduced heuristically using regular expressions.\n",
      "Using regular expression found the following compartments:c, e\n"
     ]
    },
    {
     "name": "stdout",
     "output_type": "stream",
     "text": [
      "Loaded model: Enterococcus_durans_FB129_CNAB_4\n"
     ]
    },
    {
     "name": "stderr",
     "output_type": "stream",
     "text": [
      "No defined compartments in model model. Compartments will be deduced heuristically using regular expressions.\n",
      "Using regular expression found the following compartments:c, e\n"
     ]
    },
    {
     "name": "stdout",
     "output_type": "stream",
     "text": [
      "Loaded model: Enterococcus_gallinarum_EG2\n"
     ]
    },
    {
     "name": "stderr",
     "output_type": "stream",
     "text": [
      "No defined compartments in model model. Compartments will be deduced heuristically using regular expressions.\n",
      "Using regular expression found the following compartments:c, e\n"
     ]
    },
    {
     "name": "stdout",
     "output_type": "stream",
     "text": [
      "Loaded model: Enterococcus_faecium_2006_70_121\n"
     ]
    },
    {
     "name": "stderr",
     "output_type": "stream",
     "text": [
      "No defined compartments in model model. Compartments will be deduced heuristically using regular expressions.\n",
      "Using regular expression found the following compartments:c, e\n"
     ]
    },
    {
     "name": "stdout",
     "output_type": "stream",
     "text": [
      "Loaded model: Lactococcus_lactis_subsp_cremoris_CNCM_I_1631\n"
     ]
    },
    {
     "name": "stderr",
     "output_type": "stream",
     "text": [
      "No defined compartments in model model. Compartments will be deduced heuristically using regular expressions.\n",
      "Using regular expression found the following compartments:c, e, p\n"
     ]
    },
    {
     "name": "stdout",
     "output_type": "stream",
     "text": [
      "Loaded model: Atopobium_parvulum_DSM_20469\n"
     ]
    },
    {
     "name": "stderr",
     "output_type": "stream",
     "text": [
      "No defined compartments in model model. Compartments will be deduced heuristically using regular expressions.\n",
      "Using regular expression found the following compartments:c, e\n"
     ]
    },
    {
     "name": "stdout",
     "output_type": "stream",
     "text": [
      "Loaded model: Enterobacter_aerogenes_EA1509E\n"
     ]
    },
    {
     "name": "stderr",
     "output_type": "stream",
     "text": [
      "No defined compartments in model model. Compartments will be deduced heuristically using regular expressions.\n",
      "Using regular expression found the following compartments:c, e\n"
     ]
    },
    {
     "name": "stdout",
     "output_type": "stream",
     "text": [
      "Loaded model: Collinsella_stercoris_DSM_13279\n"
     ]
    },
    {
     "name": "stderr",
     "output_type": "stream",
     "text": [
      "No defined compartments in model model. Compartments will be deduced heuristically using regular expressions.\n",
      "Using regular expression found the following compartments:c, e\n"
     ]
    },
    {
     "name": "stdout",
     "output_type": "stream",
     "text": [
      "Loaded model: Clostridium_botulinum_A_str_ATCC_19397\n"
     ]
    },
    {
     "name": "stderr",
     "output_type": "stream",
     "text": [
      "No defined compartments in model model. Compartments will be deduced heuristically using regular expressions.\n",
      "Using regular expression found the following compartments:c, e\n"
     ]
    },
    {
     "name": "stdout",
     "output_type": "stream",
     "text": [
      "Loaded model: Clostridium_butyricum_5521\n"
     ]
    },
    {
     "name": "stderr",
     "output_type": "stream",
     "text": [
      "No defined compartments in model model. Compartments will be deduced heuristically using regular expressions.\n",
      "Using regular expression found the following compartments:c, e\n"
     ]
    },
    {
     "name": "stdout",
     "output_type": "stream",
     "text": [
      "Loaded model: Clostridioides_difficile_002_P50_2011\n"
     ]
    },
    {
     "name": "stderr",
     "output_type": "stream",
     "text": [
      "No defined compartments in model model. Compartments will be deduced heuristically using regular expressions.\n",
      "Using regular expression found the following compartments:c, e\n"
     ]
    },
    {
     "name": "stdout",
     "output_type": "stream",
     "text": [
      "Loaded model: Streptococcus_lutetiensis_033\n"
     ]
    },
    {
     "name": "stderr",
     "output_type": "stream",
     "text": [
      "No defined compartments in model model. Compartments will be deduced heuristically using regular expressions.\n",
      "Using regular expression found the following compartments:c, e\n"
     ]
    },
    {
     "name": "stdout",
     "output_type": "stream",
     "text": [
      "Loaded model: Clostridium_perfringens_ATCC_13124\n"
     ]
    },
    {
     "name": "stderr",
     "output_type": "stream",
     "text": [
      "No defined compartments in model model. Compartments will be deduced heuristically using regular expressions.\n",
      "Using regular expression found the following compartments:c, e\n"
     ]
    },
    {
     "name": "stdout",
     "output_type": "stream",
     "text": [
      "Loaded model: Clostridium_beijerinckii_G117\n"
     ]
    },
    {
     "name": "stderr",
     "output_type": "stream",
     "text": [
      "No defined compartments in model model. Compartments will be deduced heuristically using regular expressions.\n",
      "Using regular expression found the following compartments:c, e\n"
     ]
    },
    {
     "name": "stdout",
     "output_type": "stream",
     "text": [
      "Loaded model: Clostridium_innocuum_2959\n"
     ]
    },
    {
     "name": "stderr",
     "output_type": "stream",
     "text": [
      "No defined compartments in model model. Compartments will be deduced heuristically using regular expressions.\n",
      "Using regular expression found the following compartments:c, e\n"
     ]
    },
    {
     "name": "stdout",
     "output_type": "stream",
     "text": [
      "Loaded model: Clostridium_clostridioforme_2_1_49FAA\n"
     ]
    },
    {
     "name": "stderr",
     "output_type": "stream",
     "text": [
      "No defined compartments in model model. Compartments will be deduced heuristically using regular expressions.\n",
      "Using regular expression found the following compartments:c, e\n"
     ]
    },
    {
     "name": "stdout",
     "output_type": "stream",
     "text": [
      "Loaded model: Clostridium_hathewayi_12489931\n"
     ]
    },
    {
     "name": "stderr",
     "output_type": "stream",
     "text": [
      "No defined compartments in model model. Compartments will be deduced heuristically using regular expressions.\n",
      "Using regular expression found the following compartments:c, e\n"
     ]
    },
    {
     "name": "stdout",
     "output_type": "stream",
     "text": [
      "Loaded model: Clostridium_ramosum_VPI_0427_DSM_1402\n"
     ]
    },
    {
     "name": "stderr",
     "output_type": "stream",
     "text": [
      "No defined compartments in model model. Compartments will be deduced heuristically using regular expressions.\n",
      "Using regular expression found the following compartments:c, e, p\n"
     ]
    },
    {
     "name": "stdout",
     "output_type": "stream",
     "text": [
      "Loaded model: Ruthenibacterium_lactatiformans_585_1\n"
     ]
    },
    {
     "name": "stderr",
     "output_type": "stream",
     "text": [
      "No defined compartments in model model. Compartments will be deduced heuristically using regular expressions.\n",
      "Using regular expression found the following compartments:c, e\n"
     ]
    },
    {
     "name": "stdout",
     "output_type": "stream",
     "text": [
      "Loaded model: Citrobacter_amalonaticus_FDAARGOS_122\n"
     ]
    },
    {
     "name": "stderr",
     "output_type": "stream",
     "text": [
      "No defined compartments in model model. Compartments will be deduced heuristically using regular expressions.\n",
      "Using regular expression found the following compartments:c, e\n"
     ]
    },
    {
     "name": "stdout",
     "output_type": "stream",
     "text": [
      "Loaded model: Lactobacillus_casei_12A\n"
     ]
    },
    {
     "name": "stderr",
     "output_type": "stream",
     "text": [
      "No defined compartments in model model. Compartments will be deduced heuristically using regular expressions.\n",
      "Using regular expression found the following compartments:c, e\n"
     ]
    },
    {
     "name": "stdout",
     "output_type": "stream",
     "text": [
      "Loaded model: Weissella_confusa_LBAE_C39_2\n"
     ]
    },
    {
     "name": "stderr",
     "output_type": "stream",
     "text": [
      "No defined compartments in model model. Compartments will be deduced heuristically using regular expressions.\n",
      "Using regular expression found the following compartments:c, e, p\n"
     ]
    },
    {
     "name": "stdout",
     "output_type": "stream",
     "text": [
      "Loaded model: Lactobacillus_delbrueckii_subsp_bulgaricus_2038\n"
     ]
    },
    {
     "name": "stderr",
     "output_type": "stream",
     "text": [
      "No defined compartments in model model. Compartments will be deduced heuristically using regular expressions.\n",
      "Using regular expression found the following compartments:c, e, p\n"
     ]
    },
    {
     "name": "stdout",
     "output_type": "stream",
     "text": [
      "Loaded model: Enterobacter_hormaechei_ATCC_49162\n"
     ]
    },
    {
     "name": "stderr",
     "output_type": "stream",
     "text": [
      "No defined compartments in model model. Compartments will be deduced heuristically using regular expressions.\n",
      "Using regular expression found the following compartments:c, e\n"
     ]
    },
    {
     "name": "stdout",
     "output_type": "stream",
     "text": [
      "Loaded model: Megamonas_hypermegale_ART12_1\n"
     ]
    },
    {
     "name": "stderr",
     "output_type": "stream",
     "text": [
      "No defined compartments in model model. Compartments will be deduced heuristically using regular expressions.\n",
      "Using regular expression found the following compartments:c, e\n"
     ]
    },
    {
     "name": "stdout",
     "output_type": "stream",
     "text": [
      "Loaded model: Lactobacillus_plantarum_16\n"
     ]
    },
    {
     "name": "stderr",
     "output_type": "stream",
     "text": [
      "No defined compartments in model model. Compartments will be deduced heuristically using regular expressions.\n",
      "Using regular expression found the following compartments:c, e\n"
     ]
    },
    {
     "name": "stdout",
     "output_type": "stream",
     "text": [
      "Loaded model: Lactobacillus_gasseri_202_4\n"
     ]
    },
    {
     "name": "stderr",
     "output_type": "stream",
     "text": [
      "No defined compartments in model model. Compartments will be deduced heuristically using regular expressions.\n",
      "Using regular expression found the following compartments:c, e\n"
     ]
    },
    {
     "name": "stdout",
     "output_type": "stream",
     "text": [
      "Loaded model: Lactobacillus_casei_ATCC_334\n"
     ]
    },
    {
     "name": "stderr",
     "output_type": "stream",
     "text": [
      "No defined compartments in model model. Compartments will be deduced heuristically using regular expressions.\n",
      "Using regular expression found the following compartments:c, e\n"
     ]
    },
    {
     "name": "stdout",
     "output_type": "stream",
     "text": [
      "Loaded model: Lactobacillus_reuteri_100_23\n"
     ]
    },
    {
     "name": "stderr",
     "output_type": "stream",
     "text": [
      "No defined compartments in model model. Compartments will be deduced heuristically using regular expressions.\n",
      "Using regular expression found the following compartments:c, e\n"
     ]
    },
    {
     "name": "stdout",
     "output_type": "stream",
     "text": [
      "Loaded model: Lactobacillus_agilis_DSM_20509\n"
     ]
    },
    {
     "name": "stderr",
     "output_type": "stream",
     "text": [
      "No defined compartments in model model. Compartments will be deduced heuristically using regular expressions.\n",
      "Using regular expression found the following compartments:c, e\n"
     ]
    },
    {
     "name": "stdout",
     "output_type": "stream",
     "text": [
      "Loaded model: Lactobacillus_amylovorus_GRL_1112\n"
     ]
    },
    {
     "name": "stderr",
     "output_type": "stream",
     "text": [
      "No defined compartments in model model. Compartments will be deduced heuristically using regular expressions.\n",
      "Using regular expression found the following compartments:c, e\n"
     ]
    },
    {
     "name": "stdout",
     "output_type": "stream",
     "text": [
      "Loaded model: Lactobacillus_animalis_ERR2221125\n"
     ]
    },
    {
     "name": "stderr",
     "output_type": "stream",
     "text": [
      "No defined compartments in model model. Compartments will be deduced heuristically using regular expressions.\n",
      "Using regular expression found the following compartments:c, e\n"
     ]
    },
    {
     "name": "stdout",
     "output_type": "stream",
     "text": [
      "Loaded model: Lactobacillus_fermentum_28_3_CHN\n"
     ]
    },
    {
     "name": "stderr",
     "output_type": "stream",
     "text": [
      "No defined compartments in model model. Compartments will be deduced heuristically using regular expressions.\n",
      "Using regular expression found the following compartments:c, e\n"
     ]
    },
    {
     "name": "stdout",
     "output_type": "stream",
     "text": [
      "Loaded model: Lactobacillus_ruminis_ATCC_25644\n"
     ]
    },
    {
     "name": "stderr",
     "output_type": "stream",
     "text": [
      "No defined compartments in model model. Compartments will be deduced heuristically using regular expressions.\n",
      "Using regular expression found the following compartments:c, e\n"
     ]
    },
    {
     "name": "stdout",
     "output_type": "stream",
     "text": [
      "Loaded model: Lactobacillus_salivarius_CECT_5713\n"
     ]
    },
    {
     "name": "stderr",
     "output_type": "stream",
     "text": [
      "No defined compartments in model model. Compartments will be deduced heuristically using regular expressions.\n",
      "Using regular expression found the following compartments:c, e\n"
     ]
    },
    {
     "name": "stdout",
     "output_type": "stream",
     "text": [
      "Loaded model: Lactobacillus_oris_F0423\n"
     ]
    },
    {
     "name": "stderr",
     "output_type": "stream",
     "text": [
      "No defined compartments in model model. Compartments will be deduced heuristically using regular expressions.\n",
      "Using regular expression found the following compartments:c, e, p\n"
     ]
    },
    {
     "name": "stdout",
     "output_type": "stream",
     "text": [
      "Loaded model: Lactobacillus_vaginalis_ATCC_49540\n"
     ]
    },
    {
     "name": "stderr",
     "output_type": "stream",
     "text": [
      "No defined compartments in model model. Compartments will be deduced heuristically using regular expressions.\n",
      "Using regular expression found the following compartments:c, e\n"
     ]
    },
    {
     "name": "stdout",
     "output_type": "stream",
     "text": [
      "Loaded model: Prevotella_copri_ERR1022397\n"
     ]
    },
    {
     "name": "stderr",
     "output_type": "stream",
     "text": [
      "No defined compartments in model model. Compartments will be deduced heuristically using regular expressions.\n",
      "Using regular expression found the following compartments:c, e\n"
     ]
    },
    {
     "name": "stdout",
     "output_type": "stream",
     "text": [
      "Loaded model: Sellimonas_intestinalis_BR72\n"
     ]
    },
    {
     "name": "stderr",
     "output_type": "stream",
     "text": [
      "No defined compartments in model model. Compartments will be deduced heuristically using regular expressions.\n",
      "Using regular expression found the following compartments:c, e\n"
     ]
    },
    {
     "name": "stdout",
     "output_type": "stream",
     "text": [
      "Loaded model: Actinomyces_odontolyticus_ATCC_17982\n"
     ]
    },
    {
     "name": "stderr",
     "output_type": "stream",
     "text": [
      "No defined compartments in model model. Compartments will be deduced heuristically using regular expressions.\n",
      "Using regular expression found the following compartments:c, e, p\n"
     ]
    },
    {
     "name": "stdout",
     "output_type": "stream",
     "text": [
      "Loaded model: Roseburia_intestinalis_ERR1022474\n"
     ]
    },
    {
     "name": "stderr",
     "output_type": "stream",
     "text": [
      "No defined compartments in model model. Compartments will be deduced heuristically using regular expressions.\n",
      "Using regular expression found the following compartments:c, e, p\n"
     ]
    },
    {
     "name": "stdout",
     "output_type": "stream",
     "text": [
      "Loaded model: Treponema_succinifaciens_DSM_2489\n"
     ]
    },
    {
     "name": "stderr",
     "output_type": "stream",
     "text": [
      "No defined compartments in model model. Compartments will be deduced heuristically using regular expressions.\n",
      "Using regular expression found the following compartments:c, e\n"
     ]
    },
    {
     "name": "stdout",
     "output_type": "stream",
     "text": [
      "Loaded model: Megasphaera_elsdenii_DSM_20460\n"
     ]
    },
    {
     "name": "stderr",
     "output_type": "stream",
     "text": [
      "No defined compartments in model model. Compartments will be deduced heuristically using regular expressions.\n",
      "Using regular expression found the following compartments:c, e\n"
     ]
    },
    {
     "name": "stdout",
     "output_type": "stream",
     "text": [
      "Loaded model: Bifidobacterium_adolescentis_ATCC_15703\n"
     ]
    },
    {
     "name": "stderr",
     "output_type": "stream",
     "text": [
      "No defined compartments in model model. Compartments will be deduced heuristically using regular expressions.\n",
      "Using regular expression found the following compartments:c, e\n"
     ]
    },
    {
     "name": "stdout",
     "output_type": "stream",
     "text": [
      "Loaded model: Bifidobacterium_bifidum_156B\n"
     ]
    },
    {
     "name": "stderr",
     "output_type": "stream",
     "text": [
      "No defined compartments in model model. Compartments will be deduced heuristically using regular expressions.\n",
      "Using regular expression found the following compartments:c, e\n"
     ]
    },
    {
     "name": "stdout",
     "output_type": "stream",
     "text": [
      "Loaded model: Bifidobacterium_breve_12L\n"
     ]
    },
    {
     "name": "stderr",
     "output_type": "stream",
     "text": [
      "No defined compartments in model model. Compartments will be deduced heuristically using regular expressions.\n",
      "Using regular expression found the following compartments:c, e\n"
     ]
    },
    {
     "name": "stdout",
     "output_type": "stream",
     "text": [
      "Loaded model: Bifidobacterium_catenulatum_DSM_16992\n"
     ]
    },
    {
     "name": "stderr",
     "output_type": "stream",
     "text": [
      "No defined compartments in model model. Compartments will be deduced heuristically using regular expressions.\n",
      "Using regular expression found the following compartments:c, e\n"
     ]
    },
    {
     "name": "stdout",
     "output_type": "stream",
     "text": [
      "Loaded model: Bifidobacterium_dentium_ATCC_27678\n"
     ]
    },
    {
     "name": "stderr",
     "output_type": "stream",
     "text": [
      "No defined compartments in model model. Compartments will be deduced heuristically using regular expressions.\n",
      "Using regular expression found the following compartments:c, e\n"
     ]
    },
    {
     "name": "stdout",
     "output_type": "stream",
     "text": [
      "Loaded model: Bifidobacterium_pseudolongum_subsp_Pseudolongum_DSM_20099\n"
     ]
    },
    {
     "name": "stderr",
     "output_type": "stream",
     "text": [
      "No defined compartments in model model. Compartments will be deduced heuristically using regular expressions.\n",
      "Using regular expression found the following compartments:c, e, p\n"
     ]
    },
    {
     "name": "stdout",
     "output_type": "stream",
     "text": [
      "Loaded model: Clostridium_acetobutylicum_ATCC_824\n"
     ]
    },
    {
     "name": "stderr",
     "output_type": "stream",
     "text": [
      "No defined compartments in model model. Compartments will be deduced heuristically using regular expressions.\n",
      "Using regular expression found the following compartments:c, e\n"
     ]
    },
    {
     "name": "stdout",
     "output_type": "stream",
     "text": [
      "Loaded model: Citrobacter_amalonaticus_FDAARGOS_122\n"
     ]
    },
    {
     "name": "stderr",
     "output_type": "stream",
     "text": [
      "No defined compartments in model model. Compartments will be deduced heuristically using regular expressions.\n",
      "Using regular expression found the following compartments:c, e\n"
     ]
    },
    {
     "name": "stdout",
     "output_type": "stream",
     "text": [
      "Loaded model: Lactobacillus_camelliae_DSM_22697_JCM_13995\n"
     ]
    },
    {
     "name": "stderr",
     "output_type": "stream",
     "text": [
      "No defined compartments in model model. Compartments will be deduced heuristically using regular expressions.\n",
      "Using regular expression found the following compartments:c, e\n"
     ]
    },
    {
     "name": "stdout",
     "output_type": "stream",
     "text": [
      "Loaded model: Corynebacterium_accolens_AH4003\n"
     ]
    },
    {
     "name": "stderr",
     "output_type": "stream",
     "text": [
      "No defined compartments in model model. Compartments will be deduced heuristically using regular expressions.\n",
      "Using regular expression found the following compartments:c, e, p\n"
     ]
    },
    {
     "name": "stdout",
     "output_type": "stream",
     "text": [
      "Loaded model: Blautia_massiliensis_GD9\n"
     ]
    },
    {
     "name": "stderr",
     "output_type": "stream",
     "text": [
      "No defined compartments in model model. Compartments will be deduced heuristically using regular expressions.\n",
      "Using regular expression found the following compartments:c, e\n"
     ]
    },
    {
     "name": "stdout",
     "output_type": "stream",
     "text": [
      "Loaded model: Enterobacter_roggenkampii_35734\n"
     ]
    },
    {
     "name": "stderr",
     "output_type": "stream",
     "text": [
      "No defined compartments in model model. Compartments will be deduced heuristically using regular expressions.\n",
      "Using regular expression found the following compartments:c, e, p\n"
     ]
    },
    {
     "name": "stdout",
     "output_type": "stream",
     "text": [
      "Loaded model: Streptococcus_agalactiae_09mas018883\n"
     ]
    },
    {
     "name": "stderr",
     "output_type": "stream",
     "text": [
      "No defined compartments in model model. Compartments will be deduced heuristically using regular expressions.\n",
      "Using regular expression found the following compartments:c, e\n"
     ]
    },
    {
     "name": "stdout",
     "output_type": "stream",
     "text": [
      "Loaded model: Dakarella_massiliensis_ND3\n"
     ]
    },
    {
     "name": "stderr",
     "output_type": "stream",
     "text": [
      "No defined compartments in model model. Compartments will be deduced heuristically using regular expressions.\n",
      "Using regular expression found the following compartments:c, e, p\n"
     ]
    },
    {
     "name": "stdout",
     "output_type": "stream",
     "text": [
      "Loaded model: Atopobium_minutum_10063974\n"
     ]
    },
    {
     "name": "stderr",
     "output_type": "stream",
     "text": [
      "No defined compartments in model model. Compartments will be deduced heuristically using regular expressions.\n",
      "Using regular expression found the following compartments:c, e, p\n"
     ]
    },
    {
     "name": "stdout",
     "output_type": "stream",
     "text": [
      "Loaded model: Acidaminococcus_intestini_RyC_MR95\n"
     ]
    },
    {
     "name": "stderr",
     "output_type": "stream",
     "text": [
      "No defined compartments in model model. Compartments will be deduced heuristically using regular expressions.\n",
      "Using regular expression found the following compartments:c, e\n"
     ]
    },
    {
     "name": "stdout",
     "output_type": "stream",
     "text": [
      "Loaded model: Cetobacterium_somerae_ATCC_BAA_47401\n"
     ]
    },
    {
     "name": "stderr",
     "output_type": "stream",
     "text": [
      "No defined compartments in model model. Compartments will be deduced heuristically using regular expressions.\n",
      "Using regular expression found the following compartments:c, e, p\n"
     ]
    },
    {
     "name": "stdout",
     "output_type": "stream",
     "text": [
      "Loaded model: Adlercreutzia_equolifaciens_DSM_19450\n"
     ]
    },
    {
     "name": "stderr",
     "output_type": "stream",
     "text": [
      "No defined compartments in model model. Compartments will be deduced heuristically using regular expressions.\n",
      "Using regular expression found the following compartments:c, e, p\n"
     ]
    },
    {
     "name": "stdout",
     "output_type": "stream",
     "text": [
      "Loaded model: Campylobacter_coli_1098\n"
     ]
    },
    {
     "name": "stderr",
     "output_type": "stream",
     "text": [
      "No defined compartments in model model. Compartments will be deduced heuristically using regular expressions.\n",
      "Using regular expression found the following compartments:c, e\n"
     ]
    },
    {
     "name": "stdout",
     "output_type": "stream",
     "text": [
      "Loaded model: Campylobacter_jejuni_CJM1cam\n"
     ]
    },
    {
     "name": "stderr",
     "output_type": "stream",
     "text": [
      "No defined compartments in model model. Compartments will be deduced heuristically using regular expressions.\n",
      "Using regular expression found the following compartments:c, e\n"
     ]
    },
    {
     "name": "stdout",
     "output_type": "stream",
     "text": [
      "Loaded model: Streptococcus_pasteurianus_651_SPAS_0_477_18720\n"
     ]
    },
    {
     "name": "stderr",
     "output_type": "stream",
     "text": [
      "No defined compartments in model model. Compartments will be deduced heuristically using regular expressions.\n",
      "Using regular expression found the following compartments:c, e\n"
     ]
    },
    {
     "name": "stdout",
     "output_type": "stream",
     "text": [
      "Loaded model: Catenibacterium_mitsuokai_DSM_15897\n"
     ]
    },
    {
     "name": "stderr",
     "output_type": "stream",
     "text": [
      "No defined compartments in model model. Compartments will be deduced heuristically using regular expressions.\n",
      "Using regular expression found the following compartments:c, e, p\n"
     ]
    },
    {
     "name": "stdout",
     "output_type": "stream",
     "text": [
      "Loaded model: Atopobium_minutum_10063974\n"
     ]
    },
    {
     "name": "stderr",
     "output_type": "stream",
     "text": [
      "No defined compartments in model model. Compartments will be deduced heuristically using regular expressions.\n",
      "Using regular expression found the following compartments:c, e, p\n"
     ]
    },
    {
     "name": "stdout",
     "output_type": "stream",
     "text": [
      "Loaded model: Bacteroides_sp_2_1_7\n"
     ]
    },
    {
     "name": "stderr",
     "output_type": "stream",
     "text": [
      "No defined compartments in model model. Compartments will be deduced heuristically using regular expressions.\n",
      "Using regular expression found the following compartments:c, e, p\n"
     ]
    },
    {
     "name": "stdout",
     "output_type": "stream",
     "text": [
      "Loaded model: Enterobacter_aerogenes_EA1509E\n"
     ]
    },
    {
     "name": "stderr",
     "output_type": "stream",
     "text": [
      "No defined compartments in model model. Compartments will be deduced heuristically using regular expressions.\n",
      "Using regular expression found the following compartments:c, e\n"
     ]
    },
    {
     "name": "stdout",
     "output_type": "stream",
     "text": [
      "Loaded model: Acinetobacter_baumannii_1656_2\n"
     ]
    },
    {
     "name": "stderr",
     "output_type": "stream",
     "text": [
      "No defined compartments in model model. Compartments will be deduced heuristically using regular expressions.\n",
      "Using regular expression found the following compartments:c, e, p\n"
     ]
    },
    {
     "name": "stdout",
     "output_type": "stream",
     "text": [
      "Loaded model: Clostridium_bolteae_90A5\n"
     ]
    },
    {
     "name": "stderr",
     "output_type": "stream",
     "text": [
      "No defined compartments in model model. Compartments will be deduced heuristically using regular expressions.\n",
      "Using regular expression found the following compartments:c, e\n"
     ]
    },
    {
     "name": "stdout",
     "output_type": "stream",
     "text": [
      "Loaded model: Escherichia_albertii_EC06_170\n"
     ]
    },
    {
     "name": "stderr",
     "output_type": "stream",
     "text": [
      "No defined compartments in model model. Compartments will be deduced heuristically using regular expressions.\n",
      "Using regular expression found the following compartments:c, e\n"
     ]
    },
    {
     "name": "stdout",
     "output_type": "stream",
     "text": [
      "Loaded model: Lactobacillus_camelliae_DSM_22697_JCM_13995\n"
     ]
    },
    {
     "name": "stderr",
     "output_type": "stream",
     "text": [
      "No defined compartments in model model. Compartments will be deduced heuristically using regular expressions.\n",
      "Using regular expression found the following compartments:c, e, p\n"
     ]
    },
    {
     "name": "stdout",
     "output_type": "stream",
     "text": [
      "Loaded model: Lactobacillus_gasseri_JV_V03\n"
     ]
    },
    {
     "name": "stderr",
     "output_type": "stream",
     "text": [
      "No defined compartments in model model. Compartments will be deduced heuristically using regular expressions.\n",
      "Using regular expression found the following compartments:c, e\n"
     ]
    },
    {
     "name": "stdout",
     "output_type": "stream",
     "text": [
      "Loaded model: Megasphaera_elsdenii_DSM_20460\n"
     ]
    },
    {
     "name": "stderr",
     "output_type": "stream",
     "text": [
      "No defined compartments in model model. Compartments will be deduced heuristically using regular expressions.\n",
      "Using regular expression found the following compartments:c, e, p\n"
     ]
    },
    {
     "name": "stdout",
     "output_type": "stream",
     "text": [
      "Loaded model: Subdoligranulum_variabile_DSM_15176\n"
     ]
    },
    {
     "name": "stderr",
     "output_type": "stream",
     "text": [
      "No defined compartments in model model. Compartments will be deduced heuristically using regular expressions.\n",
      "Using regular expression found the following compartments:c, e, p\n"
     ]
    },
    {
     "name": "stdout",
     "output_type": "stream",
     "text": [
      "Loaded model: Alistipes_finegoldii_DSM_17242\n"
     ]
    },
    {
     "name": "stderr",
     "output_type": "stream",
     "text": [
      "No defined compartments in model model. Compartments will be deduced heuristically using regular expressions.\n",
      "Using regular expression found the following compartments:c, e, p\n"
     ]
    },
    {
     "name": "stdout",
     "output_type": "stream",
     "text": [
      "Loaded model: Dialister_invisus_DSM_15470\n"
     ]
    },
    {
     "name": "stderr",
     "output_type": "stream",
     "text": [
      "No defined compartments in model model. Compartments will be deduced heuristically using regular expressions.\n",
      "Using regular expression found the following compartments:c, e\n"
     ]
    },
    {
     "name": "stdout",
     "output_type": "stream",
     "text": [
      "Loaded model: Bacteroides_acidifaciens_1e8A\n"
     ]
    },
    {
     "name": "stderr",
     "output_type": "stream",
     "text": [
      "No defined compartments in model model. Compartments will be deduced heuristically using regular expressions.\n",
      "Using regular expression found the following compartments:c, e\n"
     ]
    },
    {
     "name": "stdout",
     "output_type": "stream",
     "text": [
      "Loaded model: Bifidobacterium_longum_BG7\n"
     ]
    },
    {
     "name": "stderr",
     "output_type": "stream",
     "text": [
      "No defined compartments in model model. Compartments will be deduced heuristically using regular expressions.\n",
      "Using regular expression found the following compartments:c, e\n"
     ]
    },
    {
     "name": "stdout",
     "output_type": "stream",
     "text": [
      "Loaded model: Methanobrevibacter_smithii_ATCC_35061\n"
     ]
    },
    {
     "name": "stderr",
     "output_type": "stream",
     "text": [
      "No defined compartments in model model. Compartments will be deduced heuristically using regular expressions.\n",
      "Using regular expression found the following compartments:c, e, p\n"
     ]
    },
    {
     "name": "stdout",
     "output_type": "stream",
     "text": [
      "Loaded model: Lactobacillus_gastricus_PS3\n"
     ]
    },
    {
     "name": "stderr",
     "output_type": "stream",
     "text": [
      "No defined compartments in model model. Compartments will be deduced heuristically using regular expressions.\n",
      "Using regular expression found the following compartments:c, e, p\n"
     ]
    },
    {
     "name": "stdout",
     "output_type": "stream",
     "text": [
      "Loaded model: Akkermansia_muciniphila_ATCC_BAA_835\n"
     ]
    },
    {
     "name": "stderr",
     "output_type": "stream",
     "text": [
      "No defined compartments in model model. Compartments will be deduced heuristically using regular expressions.\n",
      "Using regular expression found the following compartments:c, e, p\n"
     ]
    },
    {
     "name": "stdout",
     "output_type": "stream",
     "text": [
      "Loaded model: Klebsiella_sp_1_1_55\n"
     ]
    },
    {
     "name": "stderr",
     "output_type": "stream",
     "text": [
      "No defined compartments in model model. Compartments will be deduced heuristically using regular expressions.\n",
      "Using regular expression found the following compartments:c, e\n"
     ]
    },
    {
     "name": "stdout",
     "output_type": "stream",
     "text": [
      "Loaded model: Bacteroides_cellulosilyticus_CL02T12C19\n"
     ]
    },
    {
     "name": "stderr",
     "output_type": "stream",
     "text": [
      "No defined compartments in model model. Compartments will be deduced heuristically using regular expressions.\n",
      "Using regular expression found the following compartments:c, e\n"
     ]
    },
    {
     "name": "stdout",
     "output_type": "stream",
     "text": [
      "Loaded model: Catenibacterium_mitsuokai_DSM_15897\n"
     ]
    },
    {
     "name": "stderr",
     "output_type": "stream",
     "text": [
      "No defined compartments in model model. Compartments will be deduced heuristically using regular expressions.\n",
      "Using regular expression found the following compartments:c, e, p\n"
     ]
    },
    {
     "name": "stdout",
     "output_type": "stream",
     "text": [
      "Loaded model: Blautia_coccoides_YL58\n"
     ]
    },
    {
     "name": "stderr",
     "output_type": "stream",
     "text": [
      "No defined compartments in model model. Compartments will be deduced heuristically using regular expressions.\n",
      "Using regular expression found the following compartments:c, e, p\n"
     ]
    },
    {
     "name": "stdout",
     "output_type": "stream",
     "text": [
      "Loaded model: Veillonella_atypica_ACS_049_V_Sch6\n"
     ]
    },
    {
     "name": "stderr",
     "output_type": "stream",
     "text": [
      "No defined compartments in model model. Compartments will be deduced heuristically using regular expressions.\n",
      "Using regular expression found the following compartments:c, e, p\n"
     ]
    },
    {
     "name": "stdout",
     "output_type": "stream",
     "text": [
      "Loaded model: Prevotella_albensis_DSM_11370\n"
     ]
    },
    {
     "name": "stderr",
     "output_type": "stream",
     "text": [
      "No defined compartments in model model. Compartments will be deduced heuristically using regular expressions.\n",
      "Using regular expression found the following compartments:c, e\n"
     ]
    },
    {
     "name": "stdout",
     "output_type": "stream",
     "text": [
      "Loaded model: Bacteroides_ureolyticus_DSM_20703\n"
     ]
    },
    {
     "name": "stderr",
     "output_type": "stream",
     "text": [
      "No defined compartments in model model. Compartments will be deduced heuristically using regular expressions.\n",
      "Using regular expression found the following compartments:c, e, p\n"
     ]
    },
    {
     "name": "stdout",
     "output_type": "stream",
     "text": [
      "Loaded model: Ruminococcus_albus_7\n"
     ]
    },
    {
     "name": "stderr",
     "output_type": "stream",
     "text": [
      "No defined compartments in model model. Compartments will be deduced heuristically using regular expressions.\n",
      "Using regular expression found the following compartments:c, e, p\n"
     ]
    },
    {
     "name": "stdout",
     "output_type": "stream",
     "text": [
      "Loaded model: Dialister_invisus_DSM_15470\n"
     ]
    },
    {
     "name": "stderr",
     "output_type": "stream",
     "text": [
      "No defined compartments in model model. Compartments will be deduced heuristically using regular expressions.\n",
      "Using regular expression found the following compartments:c, e, p\n"
     ]
    },
    {
     "name": "stdout",
     "output_type": "stream",
     "text": [
      "Loaded model: Bacteroides_acidifaciens_1e8A\n"
     ]
    },
    {
     "name": "stderr",
     "output_type": "stream",
     "text": [
      "No defined compartments in model model. Compartments will be deduced heuristically using regular expressions.\n",
      "Using regular expression found the following compartments:c, e, p\n"
     ]
    },
    {
     "name": "stdout",
     "output_type": "stream",
     "text": [
      "Loaded model: Veillonella_atypica_ACS_049_V_Sch6\n"
     ]
    },
    {
     "name": "stderr",
     "output_type": "stream",
     "text": [
      "No defined compartments in model model. Compartments will be deduced heuristically using regular expressions.\n",
      "Using regular expression found the following compartments:c, e\n"
     ]
    },
    {
     "name": "stdout",
     "output_type": "stream",
     "text": [
      "Loaded model: Veillonella_atypica_ACS_049_V_Sch6\n"
     ]
    },
    {
     "name": "stderr",
     "output_type": "stream",
     "text": [
      "No defined compartments in model model. Compartments will be deduced heuristically using regular expressions.\n",
      "Using regular expression found the following compartments:c, e\n"
     ]
    },
    {
     "name": "stdout",
     "output_type": "stream",
     "text": [
      "Loaded model: Lactobacillus_acidophilus_ATCC_4796\n"
     ]
    },
    {
     "name": "stderr",
     "output_type": "stream",
     "text": [
      "No defined compartments in model model. Compartments will be deduced heuristically using regular expressions.\n",
      "Using regular expression found the following compartments:c, e, p\n"
     ]
    },
    {
     "name": "stdout",
     "output_type": "stream",
     "text": [
      "Loaded model: Eggerthella_lenta_1160AFAA\n"
     ]
    },
    {
     "name": "stderr",
     "output_type": "stream",
     "text": [
      "No defined compartments in model model. Compartments will be deduced heuristically using regular expressions.\n",
      "Using regular expression found the following compartments:c, e\n"
     ]
    },
    {
     "name": "stdout",
     "output_type": "stream",
     "text": [
      "Loaded model: Bacteroides_acidifaciens_1e8A\n"
     ]
    },
    {
     "name": "stderr",
     "output_type": "stream",
     "text": [
      "No defined compartments in model model. Compartments will be deduced heuristically using regular expressions.\n",
      "Using regular expression found the following compartments:c, e\n"
     ]
    },
    {
     "name": "stdout",
     "output_type": "stream",
     "text": [
      "Loaded model: Acetanaerobacterium_elongatum_CGMCC_1_5012\n"
     ]
    },
    {
     "name": "stderr",
     "output_type": "stream",
     "text": [
      "No defined compartments in model model. Compartments will be deduced heuristically using regular expressions.\n",
      "Using regular expression found the following compartments:c, e, p\n"
     ]
    },
    {
     "name": "stdout",
     "output_type": "stream",
     "text": [
      "Loaded model: Acetanaerobacterium_elongatum_CGMCC_1_5012\n"
     ]
    },
    {
     "name": "stderr",
     "output_type": "stream",
     "text": [
      "No defined compartments in model model. Compartments will be deduced heuristically using regular expressions.\n",
      "Using regular expression found the following compartments:c, e\n"
     ]
    },
    {
     "name": "stdout",
     "output_type": "stream",
     "text": [
      "Loaded model: Bacteroides_acidifaciens_1e8A\n"
     ]
    },
    {
     "name": "stderr",
     "output_type": "stream",
     "text": [
      "No defined compartments in model model. Compartments will be deduced heuristically using regular expressions.\n",
      "Using regular expression found the following compartments:c, e\n"
     ]
    },
    {
     "name": "stdout",
     "output_type": "stream",
     "text": [
      "Loaded model: Sarcina_nov_ERR1022285\n"
     ]
    },
    {
     "name": "stderr",
     "output_type": "stream",
     "text": [
      "No defined compartments in model model. Compartments will be deduced heuristically using regular expressions.\n",
      "Using regular expression found the following compartments:c, e\n"
     ]
    },
    {
     "name": "stdout",
     "output_type": "stream",
     "text": [
      "Loaded model: Lactobacillus_antri_DSM_16041\n"
     ]
    },
    {
     "name": "stderr",
     "output_type": "stream",
     "text": [
      "No defined compartments in model model. Compartments will be deduced heuristically using regular expressions.\n",
      "Using regular expression found the following compartments:c, e\n"
     ]
    },
    {
     "name": "stdout",
     "output_type": "stream",
     "text": [
      "Loaded model: Roseburia_faecis_ERR1022321\n"
     ]
    },
    {
     "name": "stderr",
     "output_type": "stream",
     "text": [
      "No defined compartments in model model. Compartments will be deduced heuristically using regular expressions.\n",
      "Using regular expression found the following compartments:c, e\n"
     ]
    },
    {
     "name": "stdout",
     "output_type": "stream",
     "text": [
      "Loaded model: Acetatifactor_muris_GP69\n"
     ]
    },
    {
     "name": "stderr",
     "output_type": "stream",
     "text": [
      "No defined compartments in model model. Compartments will be deduced heuristically using regular expressions.\n",
      "Using regular expression found the following compartments:c, e, p\n"
     ]
    },
    {
     "name": "stdout",
     "output_type": "stream",
     "text": [
      "Loaded model: Acetatifactor_muris_GP69\n"
     ]
    },
    {
     "name": "stderr",
     "output_type": "stream",
     "text": [
      "No defined compartments in model model. Compartments will be deduced heuristically using regular expressions.\n",
      "Using regular expression found the following compartments:c, e, p\n"
     ]
    },
    {
     "name": "stdout",
     "output_type": "stream",
     "text": [
      "Loaded model: Bacteroides_acidifaciens_1e8A\n"
     ]
    },
    {
     "name": "stderr",
     "output_type": "stream",
     "text": [
      "No defined compartments in model model. Compartments will be deduced heuristically using regular expressions.\n",
      "Using regular expression found the following compartments:c, e, p\n"
     ]
    },
    {
     "name": "stdout",
     "output_type": "stream",
     "text": [
      "Loaded model: Treponema_denticola_AL_2\n"
     ]
    },
    {
     "name": "stderr",
     "output_type": "stream",
     "text": [
      "No defined compartments in model model. Compartments will be deduced heuristically using regular expressions.\n",
      "Using regular expression found the following compartments:c, e\n"
     ]
    },
    {
     "name": "stdout",
     "output_type": "stream",
     "text": [
      "Loaded model: Bacteroides_acidifaciens_1e8A\n"
     ]
    },
    {
     "name": "stderr",
     "output_type": "stream",
     "text": [
      "No defined compartments in model model. Compartments will be deduced heuristically using regular expressions.\n",
      "Using regular expression found the following compartments:c, e\n"
     ]
    },
    {
     "name": "stdout",
     "output_type": "stream",
     "text": [
      "Loaded model: Bifidobacterium_pseudocatenulatum_DSM_20438\n"
     ]
    },
    {
     "name": "stderr",
     "output_type": "stream",
     "text": [
      "No defined compartments in model model. Compartments will be deduced heuristically using regular expressions.\n",
      "Using regular expression found the following compartments:c, e, p\n"
     ]
    },
    {
     "name": "stdout",
     "output_type": "stream",
     "text": [
      "Loaded model: Streptococcus_mitis_11_5\n"
     ]
    },
    {
     "name": "stderr",
     "output_type": "stream",
     "text": [
      "No defined compartments in model model. Compartments will be deduced heuristically using regular expressions.\n",
      "Using regular expression found the following compartments:c, e, p\n"
     ]
    },
    {
     "name": "stdout",
     "output_type": "stream",
     "text": [
      "Loaded model: Campylobacter_upsaliensis_JV21\n"
     ]
    },
    {
     "name": "stderr",
     "output_type": "stream",
     "text": [
      "No defined compartments in model model. Compartments will be deduced heuristically using regular expressions.\n",
      "Using regular expression found the following compartments:c, e, p\n"
     ]
    },
    {
     "name": "stdout",
     "output_type": "stream",
     "text": [
      "Loaded model: Bacteroides_ovatus_3_8_47FAA\n"
     ]
    },
    {
     "name": "stderr",
     "output_type": "stream",
     "text": [
      "No defined compartments in model model. Compartments will be deduced heuristically using regular expressions.\n",
      "Using regular expression found the following compartments:c, e, p\n"
     ]
    },
    {
     "name": "stdout",
     "output_type": "stream",
     "text": [
      "Loaded model: Odoribacter_splanchnicus_1651_6_DSM_20712\n"
     ]
    },
    {
     "name": "stderr",
     "output_type": "stream",
     "text": [
      "No defined compartments in model model. Compartments will be deduced heuristically using regular expressions.\n",
      "Using regular expression found the following compartments:c, e, p\n"
     ]
    },
    {
     "name": "stdout",
     "output_type": "stream",
     "text": [
      "Loaded model: Prevotella_denticola_CRIS_18C_A\n"
     ]
    },
    {
     "name": "stderr",
     "output_type": "stream",
     "text": [
      "No defined compartments in model model. Compartments will be deduced heuristically using regular expressions.\n",
      "Using regular expression found the following compartments:c, e\n"
     ]
    },
    {
     "name": "stdout",
     "output_type": "stream",
     "text": [
      "Loaded model: Phascolarctobacterium_faecium_DSM_14760\n"
     ]
    },
    {
     "name": "stderr",
     "output_type": "stream",
     "text": [
      "No defined compartments in model model. Compartments will be deduced heuristically using regular expressions.\n",
      "Using regular expression found the following compartments:c, e, p\n"
     ]
    },
    {
     "name": "stdout",
     "output_type": "stream",
     "text": [
      "Loaded model: Ruminococcus_albus_7\n"
     ]
    },
    {
     "name": "stderr",
     "output_type": "stream",
     "text": [
      "No defined compartments in model model. Compartments will be deduced heuristically using regular expressions.\n",
      "Using regular expression found the following compartments:c, e\n"
     ]
    },
    {
     "name": "stdout",
     "output_type": "stream",
     "text": [
      "Loaded model: Bacteroides_acidifaciens_1e8A\n"
     ]
    },
    {
     "name": "stderr",
     "output_type": "stream",
     "text": [
      "No defined compartments in model model. Compartments will be deduced heuristically using regular expressions.\n",
      "Using regular expression found the following compartments:c, e, p\n"
     ]
    },
    {
     "name": "stdout",
     "output_type": "stream",
     "text": [
      "Loaded model: Blautia_coccoides_YL58\n"
     ]
    },
    {
     "name": "stderr",
     "output_type": "stream",
     "text": [
      "No defined compartments in model model. Compartments will be deduced heuristically using regular expressions.\n",
      "Using regular expression found the following compartments:c, e\n"
     ]
    },
    {
     "name": "stdout",
     "output_type": "stream",
     "text": [
      "Loaded model: Citrobacter_amalonaticus_FDAARGOS_122\n"
     ]
    },
    {
     "name": "stderr",
     "output_type": "stream",
     "text": [
      "No defined compartments in model model. Compartments will be deduced heuristically using regular expressions.\n",
      "Using regular expression found the following compartments:c, e, p\n"
     ]
    },
    {
     "name": "stdout",
     "output_type": "stream",
     "text": [
      "Loaded model: Ruminococcus_albus_7\n"
     ]
    },
    {
     "name": "stderr",
     "output_type": "stream",
     "text": [
      "No defined compartments in model model. Compartments will be deduced heuristically using regular expressions.\n",
      "Using regular expression found the following compartments:c, e, p\n"
     ]
    },
    {
     "name": "stdout",
     "output_type": "stream",
     "text": [
      "Loaded model: Acinetobacter_baumannii_1656_2\n"
     ]
    },
    {
     "name": "stderr",
     "output_type": "stream",
     "text": [
      "No defined compartments in model model. Compartments will be deduced heuristically using regular expressions.\n",
      "Using regular expression found the following compartments:c, e\n"
     ]
    },
    {
     "name": "stdout",
     "output_type": "stream",
     "text": [
      "Loaded model: Bacteroides_nordii_CL02T12C05\n"
     ]
    },
    {
     "name": "stderr",
     "output_type": "stream",
     "text": [
      "No defined compartments in model model. Compartments will be deduced heuristically using regular expressions.\n",
      "Using regular expression found the following compartments:c, e\n"
     ]
    },
    {
     "name": "stdout",
     "output_type": "stream",
     "text": [
      "Loaded model: Bifidobacterium_adolescentis_ATCC_15703\n"
     ]
    },
    {
     "name": "stderr",
     "output_type": "stream",
     "text": [
      "No defined compartments in model model. Compartments will be deduced heuristically using regular expressions.\n",
      "Using regular expression found the following compartments:c, e\n"
     ]
    },
    {
     "name": "stdout",
     "output_type": "stream",
     "text": [
      "Loaded model: Bifidobacterium_adolescentis_ATCC_15703\n"
     ]
    },
    {
     "name": "stderr",
     "output_type": "stream",
     "text": [
      "No defined compartments in model model. Compartments will be deduced heuristically using regular expressions.\n",
      "Using regular expression found the following compartments:c, e, p\n"
     ]
    },
    {
     "name": "stdout",
     "output_type": "stream",
     "text": [
      "Loaded model: Bifidobacterium_adolescentis_ATCC_15703\n"
     ]
    },
    {
     "name": "stderr",
     "output_type": "stream",
     "text": [
      "No defined compartments in model model. Compartments will be deduced heuristically using regular expressions.\n",
      "Using regular expression found the following compartments:c, e\n"
     ]
    },
    {
     "name": "stdout",
     "output_type": "stream",
     "text": [
      "Loaded model: Akkermansia_muciniphila_ATCC_BAA_835\n"
     ]
    },
    {
     "name": "stderr",
     "output_type": "stream",
     "text": [
      "No defined compartments in model model. Compartments will be deduced heuristically using regular expressions.\n",
      "Using regular expression found the following compartments:c, e\n"
     ]
    },
    {
     "name": "stdout",
     "output_type": "stream",
     "text": [
      "Loaded model: Flavonifractor_plautii_ATCC_29863\n"
     ]
    },
    {
     "name": "stderr",
     "output_type": "stream",
     "text": [
      "No defined compartments in model model. Compartments will be deduced heuristically using regular expressions.\n",
      "Using regular expression found the following compartments:c, e\n"
     ]
    },
    {
     "name": "stdout",
     "output_type": "stream",
     "text": [
      "Loaded model: Faecalibacterium_cf_ERR1022328\n"
     ]
    },
    {
     "name": "stderr",
     "output_type": "stream",
     "text": [
      "No defined compartments in model model. Compartments will be deduced heuristically using regular expressions.\n",
      "Using regular expression found the following compartments:c, e\n"
     ]
    },
    {
     "name": "stdout",
     "output_type": "stream",
     "text": [
      "Loaded model: Faecalibacterium_cf_ERR1022328\n"
     ]
    },
    {
     "name": "stderr",
     "output_type": "stream",
     "text": [
      "No defined compartments in model model. Compartments will be deduced heuristically using regular expressions.\n",
      "Using regular expression found the following compartments:c, e\n"
     ]
    },
    {
     "name": "stdout",
     "output_type": "stream",
     "text": [
      "Loaded model: Faecalibacterium_cf_ERR1022328\n"
     ]
    },
    {
     "name": "stderr",
     "output_type": "stream",
     "text": [
      "No defined compartments in model model. Compartments will be deduced heuristically using regular expressions.\n",
      "Using regular expression found the following compartments:c, e\n"
     ]
    },
    {
     "name": "stdout",
     "output_type": "stream",
     "text": [
      "Loaded model: Faecalibacterium_cf_ERR1022328\n"
     ]
    },
    {
     "name": "stderr",
     "output_type": "stream",
     "text": [
      "No defined compartments in model model. Compartments will be deduced heuristically using regular expressions.\n",
      "Using regular expression found the following compartments:c, e\n"
     ]
    },
    {
     "name": "stdout",
     "output_type": "stream",
     "text": [
      "Loaded model: Faecalibacterium_cf_ERR1022328\n"
     ]
    },
    {
     "name": "stderr",
     "output_type": "stream",
     "text": [
      "No defined compartments in model model. Compartments will be deduced heuristically using regular expressions.\n",
      "Using regular expression found the following compartments:c, e\n"
     ]
    },
    {
     "name": "stdout",
     "output_type": "stream",
     "text": [
      "Loaded model: Faecalibacterium_cf_ERR1022328\n"
     ]
    },
    {
     "name": "stderr",
     "output_type": "stream",
     "text": [
      "No defined compartments in model model. Compartments will be deduced heuristically using regular expressions.\n",
      "Using regular expression found the following compartments:c, e\n"
     ]
    },
    {
     "name": "stdout",
     "output_type": "stream",
     "text": [
      "Loaded model: Faecalibacterium_cf_ERR1022328\n"
     ]
    },
    {
     "name": "stderr",
     "output_type": "stream",
     "text": [
      "No defined compartments in model model. Compartments will be deduced heuristically using regular expressions.\n",
      "Using regular expression found the following compartments:c, e\n"
     ]
    },
    {
     "name": "stdout",
     "output_type": "stream",
     "text": [
      "Loaded model: Faecalibacterium_cf_ERR1022328\n"
     ]
    },
    {
     "name": "stderr",
     "output_type": "stream",
     "text": [
      "No defined compartments in model model. Compartments will be deduced heuristically using regular expressions.\n",
      "Using regular expression found the following compartments:c, e\n"
     ]
    },
    {
     "name": "stdout",
     "output_type": "stream",
     "text": [
      "Loaded model: Clostridium_scindens_ATCC_35704\n"
     ]
    },
    {
     "name": "stderr",
     "output_type": "stream",
     "text": [
      "No defined compartments in model model. Compartments will be deduced heuristically using regular expressions.\n",
      "Using regular expression found the following compartments:c, e, p\n"
     ]
    },
    {
     "name": "stdout",
     "output_type": "stream",
     "text": [
      "Loaded model: Clostridium_spiroforme_DSM_1552\n"
     ]
    },
    {
     "name": "stderr",
     "output_type": "stream",
     "text": [
      "No defined compartments in model model. Compartments will be deduced heuristically using regular expressions.\n",
      "Using regular expression found the following compartments:c, e\n"
     ]
    },
    {
     "name": "stdout",
     "output_type": "stream",
     "text": [
      "Loaded model: Veillonella_parvula_ACS_068_V_Sch12\n"
     ]
    },
    {
     "name": "stderr",
     "output_type": "stream",
     "text": [
      "No defined compartments in model model. Compartments will be deduced heuristically using regular expressions.\n",
      "Using regular expression found the following compartments:c, e\n"
     ]
    },
    {
     "name": "stdout",
     "output_type": "stream",
     "text": [
      "Loaded model: Peptoniphilus_coxii_DNF00729\n"
     ]
    },
    {
     "name": "stderr",
     "output_type": "stream",
     "text": [
      "No defined compartments in model model. Compartments will be deduced heuristically using regular expressions.\n",
      "Using regular expression found the following compartments:c, e, p\n"
     ]
    },
    {
     "name": "stdout",
     "output_type": "stream",
     "text": [
      "Loaded model: Clostridium_acetobutylicum_ATCC_824\n"
     ]
    },
    {
     "name": "stderr",
     "output_type": "stream",
     "text": [
      "No defined compartments in model model. Compartments will be deduced heuristically using regular expressions.\n",
      "Using regular expression found the following compartments:c, e\n"
     ]
    },
    {
     "name": "stdout",
     "output_type": "stream",
     "text": [
      "Loaded model: Enterobacter_ludwigii_UW5\n"
     ]
    },
    {
     "name": "stderr",
     "output_type": "stream",
     "text": [
      "No defined compartments in model model. Compartments will be deduced heuristically using regular expressions.\n",
      "Using regular expression found the following compartments:c, e\n"
     ]
    },
    {
     "name": "stdout",
     "output_type": "stream",
     "text": [
      "Loaded model: Roseburia_hominis_A2_183\n"
     ]
    },
    {
     "name": "stderr",
     "output_type": "stream",
     "text": [
      "No defined compartments in model model. Compartments will be deduced heuristically using regular expressions.\n",
      "Using regular expression found the following compartments:c, e, p\n"
     ]
    },
    {
     "name": "stdout",
     "output_type": "stream",
     "text": [
      "Loaded model: Fructobacillus_durionis_DSM_19113\n"
     ]
    },
    {
     "name": "stderr",
     "output_type": "stream",
     "text": [
      "No defined compartments in model model. Compartments will be deduced heuristically using regular expressions.\n",
      "Using regular expression found the following compartments:c, e\n"
     ]
    },
    {
     "name": "stdout",
     "output_type": "stream",
     "text": [
      "Loaded model: Akkermansia_muciniphila_ATCC_BAA_835\n"
     ]
    },
    {
     "name": "stderr",
     "output_type": "stream",
     "text": [
      "No defined compartments in model model. Compartments will be deduced heuristically using regular expressions.\n",
      "Using regular expression found the following compartments:c, e, p\n"
     ]
    },
    {
     "name": "stdout",
     "output_type": "stream",
     "text": [
      "Loaded model: Streptococcus_gallolyticus_subsp_gallolyticus_ATCC_43143\n"
     ]
    },
    {
     "name": "stderr",
     "output_type": "stream",
     "text": [
      "No defined compartments in model model. Compartments will be deduced heuristically using regular expressions.\n",
      "Using regular expression found the following compartments:c, e, p\n"
     ]
    },
    {
     "name": "stdout",
     "output_type": "stream",
     "text": [
      "Loaded model: Parabacteroides_goldsteinii_CL02T12C30\n"
     ]
    },
    {
     "name": "stderr",
     "output_type": "stream",
     "text": [
      "No defined compartments in model model. Compartments will be deduced heuristically using regular expressions.\n",
      "Using regular expression found the following compartments:c, e, p\n"
     ]
    },
    {
     "name": "stdout",
     "output_type": "stream",
     "text": [
      "Loaded model: Alistipes_onderdonkii_DSM_19147\n"
     ]
    },
    {
     "name": "stderr",
     "output_type": "stream",
     "text": [
      "No defined compartments in model model. Compartments will be deduced heuristically using regular expressions.\n",
      "Using regular expression found the following compartments:c, e, p\n"
     ]
    },
    {
     "name": "stdout",
     "output_type": "stream",
     "text": [
      "Loaded model: Alistipes_shahii_ERR2221103\n"
     ]
    },
    {
     "name": "stderr",
     "output_type": "stream",
     "text": [
      "No defined compartments in model model. Compartments will be deduced heuristically using regular expressions.\n",
      "Using regular expression found the following compartments:c, e\n"
     ]
    },
    {
     "name": "stdout",
     "output_type": "stream",
     "text": [
      "Loaded model: Bacteroides_intestinalis_341_DSM_17393\n"
     ]
    },
    {
     "name": "stderr",
     "output_type": "stream",
     "text": [
      "No defined compartments in model model. Compartments will be deduced heuristically using regular expressions.\n",
      "Using regular expression found the following compartments:c, e, p\n"
     ]
    },
    {
     "name": "stdout",
     "output_type": "stream",
     "text": [
      "Loaded model: Propionibacterium_avidum_44067\n"
     ]
    },
    {
     "name": "stderr",
     "output_type": "stream",
     "text": [
      "No defined compartments in model model. Compartments will be deduced heuristically using regular expressions.\n",
      "Using regular expression found the following compartments:c, e\n"
     ]
    },
    {
     "name": "stdout",
     "output_type": "stream",
     "text": [
      "Loaded model: Phascolarctobacterium_faecium_DSM_14760\n"
     ]
    },
    {
     "name": "stderr",
     "output_type": "stream",
     "text": [
      "No defined compartments in model model. Compartments will be deduced heuristically using regular expressions.\n",
      "Using regular expression found the following compartments:c, e\n"
     ]
    },
    {
     "name": "stdout",
     "output_type": "stream",
     "text": [
      "Loaded model: Blautia_producta_DSM_2950\n"
     ]
    },
    {
     "name": "stderr",
     "output_type": "stream",
     "text": [
      "No defined compartments in model model. Compartments will be deduced heuristically using regular expressions.\n",
      "Using regular expression found the following compartments:c, e\n"
     ]
    },
    {
     "name": "stdout",
     "output_type": "stream",
     "text": [
      "Loaded model: Blautia_gnavus_ERR1022310\n"
     ]
    },
    {
     "name": "stderr",
     "output_type": "stream",
     "text": [
      "No defined compartments in model model. Compartments will be deduced heuristically using regular expressions.\n",
      "Using regular expression found the following compartments:c, e\n"
     ]
    },
    {
     "name": "stdout",
     "output_type": "stream",
     "text": [
      "Loaded model: Ruminococcus_torques_ATCC_27756\n"
     ]
    },
    {
     "name": "stderr",
     "output_type": "stream",
     "text": [
      "No defined compartments in model model. Compartments will be deduced heuristically using regular expressions.\n",
      "Using regular expression found the following compartments:c, e\n"
     ]
    },
    {
     "name": "stdout",
     "output_type": "stream",
     "text": [
      "Loaded model: Coprococcus_eutactus_ATCC_27759\n"
     ]
    },
    {
     "name": "stderr",
     "output_type": "stream",
     "text": [
      "No defined compartments in model model. Compartments will be deduced heuristically using regular expressions.\n",
      "Using regular expression found the following compartments:c, e\n"
     ]
    },
    {
     "name": "stdout",
     "output_type": "stream",
     "text": [
      "Loaded model: Enterococcus_avium_ATCC_14025\n"
     ]
    },
    {
     "name": "stderr",
     "output_type": "stream",
     "text": [
      "No defined compartments in model model. Compartments will be deduced heuristically using regular expressions.\n",
      "Using regular expression found the following compartments:c, e, p\n"
     ]
    },
    {
     "name": "stdout",
     "output_type": "stream",
     "text": [
      "Loaded model: Lactobacillus_johnsonii_ATCC_33200\n"
     ]
    },
    {
     "name": "stderr",
     "output_type": "stream",
     "text": [
      "No defined compartments in model model. Compartments will be deduced heuristically using regular expressions.\n",
      "Using regular expression found the following compartments:c, e\n"
     ]
    },
    {
     "name": "stdout",
     "output_type": "stream",
     "text": [
      "Loaded model: Bacteroides_dorei_CL02T00C15\n"
     ]
    },
    {
     "name": "stderr",
     "output_type": "stream",
     "text": [
      "No defined compartments in model model. Compartments will be deduced heuristically using regular expressions.\n",
      "Using regular expression found the following compartments:c, e\n"
     ]
    },
    {
     "name": "stdout",
     "output_type": "stream",
     "text": [
      "Loaded model: Enterococcus_asini_ATCC_700915\n"
     ]
    },
    {
     "name": "stderr",
     "output_type": "stream",
     "text": [
      "No defined compartments in model model. Compartments will be deduced heuristically using regular expressions.\n",
      "Using regular expression found the following compartments:c, e, p\n"
     ]
    },
    {
     "name": "stdout",
     "output_type": "stream",
     "text": [
      "Loaded model: Clostridium_saccharoperbutylacetonicum_N1_4_HMT\n"
     ]
    },
    {
     "name": "stderr",
     "output_type": "stream",
     "text": [
      "No defined compartments in model model. Compartments will be deduced heuristically using regular expressions.\n",
      "Using regular expression found the following compartments:c, e, p\n"
     ]
    },
    {
     "name": "stdout",
     "output_type": "stream",
     "text": [
      "Loaded model: Bacteroides_ovatus_SD_CC_2a\n"
     ]
    },
    {
     "name": "stderr",
     "output_type": "stream",
     "text": [
      "No defined compartments in model model. Compartments will be deduced heuristically using regular expressions.\n",
      "Using regular expression found the following compartments:c, e, p\n"
     ]
    },
    {
     "name": "stdout",
     "output_type": "stream",
     "text": [
      "Loaded model: Bacteroides_coprophilus_DSM_18228\n"
     ]
    },
    {
     "name": "stderr",
     "output_type": "stream",
     "text": [
      "No defined compartments in model model. Compartments will be deduced heuristically using regular expressions.\n",
      "Using regular expression found the following compartments:c, e\n"
     ]
    },
    {
     "name": "stdout",
     "output_type": "stream",
     "text": [
      "Loaded model: Parabacteroides_johnsonii_CL02T12C29\n"
     ]
    },
    {
     "name": "stderr",
     "output_type": "stream",
     "text": [
      "No defined compartments in model model. Compartments will be deduced heuristically using regular expressions.\n",
      "Using regular expression found the following compartments:c, e\n"
     ]
    },
    {
     "name": "stdout",
     "output_type": "stream",
     "text": [
      "Loaded model: Eubacterium_eligens_ATCC_27750\n"
     ]
    },
    {
     "name": "stderr",
     "output_type": "stream",
     "text": [
      "No defined compartments in model model. Compartments will be deduced heuristically using regular expressions.\n",
      "Using regular expression found the following compartments:c, e\n"
     ]
    },
    {
     "name": "stdout",
     "output_type": "stream",
     "text": [
      "Loaded model: Dorea_formicigenerans_4_6_53AFAA\n"
     ]
    },
    {
     "name": "stderr",
     "output_type": "stream",
     "text": [
      "No defined compartments in model model. Compartments will be deduced heuristically using regular expressions.\n",
      "Using regular expression found the following compartments:c, e\n"
     ]
    },
    {
     "name": "stdout",
     "output_type": "stream",
     "text": [
      "Loaded model: Eubacterium_hallii_DSM_3353\n"
     ]
    },
    {
     "name": "stderr",
     "output_type": "stream",
     "text": [
      "No defined compartments in model model. Compartments will be deduced heuristically using regular expressions.\n",
      "Using regular expression found the following compartments:c, e, p\n"
     ]
    },
    {
     "name": "stdout",
     "output_type": "stream",
     "text": [
      "Loaded model: Eubacterium_rectale_ERR1022318\n"
     ]
    },
    {
     "name": "stderr",
     "output_type": "stream",
     "text": [
      "No defined compartments in model model. Compartments will be deduced heuristically using regular expressions.\n",
      "Using regular expression found the following compartments:c, e, p\n"
     ]
    },
    {
     "name": "stdout",
     "output_type": "stream",
     "text": [
      "Loaded model: Veillonella_atypica_ACS_049_V_Sch6\n"
     ]
    },
    {
     "name": "stderr",
     "output_type": "stream",
     "text": [
      "No defined compartments in model model. Compartments will be deduced heuristically using regular expressions.\n",
      "Using regular expression found the following compartments:c, e\n"
     ]
    },
    {
     "name": "stdout",
     "output_type": "stream",
     "text": [
      "Loaded model: Veillonella_dispar_ATCC_17748\n"
     ]
    },
    {
     "name": "stderr",
     "output_type": "stream",
     "text": [
      "No defined compartments in model model. Compartments will be deduced heuristically using regular expressions.\n",
      "Using regular expression found the following compartments:c, e, p\n"
     ]
    },
    {
     "name": "stdout",
     "output_type": "stream",
     "text": [
      "Loaded model: Blautia_obeum_ATCC_29174\n"
     ]
    },
    {
     "name": "stderr",
     "output_type": "stream",
     "text": [
      "No defined compartments in model model. Compartments will be deduced heuristically using regular expressions.\n",
      "Using regular expression found the following compartments:c, e\n"
     ]
    },
    {
     "name": "stdout",
     "output_type": "stream",
     "text": [
      "Loaded model: Sutterella_wadsworthensis_2_1_59BFAA\n"
     ]
    },
    {
     "name": "stderr",
     "output_type": "stream",
     "text": [
      "No defined compartments in model model. Compartments will be deduced heuristically using regular expressions.\n",
      "Using regular expression found the following compartments:c, e\n"
     ]
    },
    {
     "name": "stdout",
     "output_type": "stream",
     "text": [
      "Loaded model: Coprococcus_comes_ATCC_27758\n"
     ]
    },
    {
     "name": "stderr",
     "output_type": "stream",
     "text": [
      "No defined compartments in model model. Compartments will be deduced heuristically using regular expressions.\n",
      "Using regular expression found the following compartments:c, e\n"
     ]
    },
    {
     "name": "stdout",
     "output_type": "stream",
     "text": [
      "Loaded model: Faecalibacterium_prausnitzii_A2_165\n"
     ]
    },
    {
     "name": "stderr",
     "output_type": "stream",
     "text": [
      "No defined compartments in model model. Compartments will be deduced heuristically using regular expressions.\n",
      "Using regular expression found the following compartments:c, e\n"
     ]
    },
    {
     "name": "stdout",
     "output_type": "stream",
     "text": [
      "Loaded model: Clostridium_sp_M62_1\n"
     ]
    },
    {
     "name": "stderr",
     "output_type": "stream",
     "text": [
      "No defined compartments in model model. Compartments will be deduced heuristically using regular expressions.\n",
      "Using regular expression found the following compartments:c, e, p\n"
     ]
    },
    {
     "name": "stdout",
     "output_type": "stream",
     "text": [
      "Loaded model: Blautia_wexlerae_AGR2146\n"
     ]
    },
    {
     "name": "stderr",
     "output_type": "stream",
     "text": [
      "No defined compartments in model model. Compartments will be deduced heuristically using regular expressions.\n",
      "Using regular expression found the following compartments:c, e\n"
     ]
    },
    {
     "name": "stdout",
     "output_type": "stream",
     "text": [
      "Loaded model: Veillonella_atypica_ACS_049_V_Sch6\n"
     ]
    },
    {
     "name": "stderr",
     "output_type": "stream",
     "text": [
      "No defined compartments in model model. Compartments will be deduced heuristically using regular expressions.\n",
      "Using regular expression found the following compartments:c, e\n"
     ]
    },
    {
     "name": "stdout",
     "output_type": "stream",
     "text": [
      "Loaded model: Rothia_mucilaginosa_ATCC_25296\n"
     ]
    },
    {
     "name": "stderr",
     "output_type": "stream",
     "text": [
      "No defined compartments in model model. Compartments will be deduced heuristically using regular expressions.\n",
      "Using regular expression found the following compartments:c, e, p\n"
     ]
    },
    {
     "name": "stdout",
     "output_type": "stream",
     "text": [
      "Loaded model: Corynebacterium_amycolatum_SK46\n"
     ]
    },
    {
     "name": "stderr",
     "output_type": "stream",
     "text": [
      "No defined compartments in model model. Compartments will be deduced heuristically using regular expressions.\n",
      "Using regular expression found the following compartments:c, e\n"
     ]
    },
    {
     "name": "stdout",
     "output_type": "stream",
     "text": [
      "Loaded model: Megamonas_funiformis_YIT_11815\n"
     ]
    },
    {
     "name": "stderr",
     "output_type": "stream",
     "text": [
      "No defined compartments in model model. Compartments will be deduced heuristically using regular expressions.\n",
      "Using regular expression found the following compartments:c, e\n"
     ]
    },
    {
     "name": "stdout",
     "output_type": "stream",
     "text": [
      "Loaded model: Acetatifactor_muris_GP69\n"
     ]
    },
    {
     "name": "stderr",
     "output_type": "stream",
     "text": [
      "No defined compartments in model model. Compartments will be deduced heuristically using regular expressions.\n",
      "Using regular expression found the following compartments:c, e, p\n"
     ]
    },
    {
     "name": "stdout",
     "output_type": "stream",
     "text": [
      "Loaded model: Ruminococcus_lactaris_ATCC_29176\n"
     ]
    },
    {
     "name": "stderr",
     "output_type": "stream",
     "text": [
      "No defined compartments in model model. Compartments will be deduced heuristically using regular expressions.\n",
      "Using regular expression found the following compartments:c, e, p\n"
     ]
    },
    {
     "name": "stdout",
     "output_type": "stream",
     "text": [
      "Loaded model: Parabacteroides_merdae_ATCC_43184\n"
     ]
    },
    {
     "name": "stderr",
     "output_type": "stream",
     "text": [
      "No defined compartments in model model. Compartments will be deduced heuristically using regular expressions.\n",
      "Using regular expression found the following compartments:c, e, p\n"
     ]
    },
    {
     "name": "stdout",
     "output_type": "stream",
     "text": [
      "Loaded model: Bacteroides_stercoris_ATCC_43183\n"
     ]
    },
    {
     "name": "stderr",
     "output_type": "stream",
     "text": [
      "No defined compartments in model model. Compartments will be deduced heuristically using regular expressions.\n",
      "Using regular expression found the following compartments:c, e, p\n"
     ]
    },
    {
     "name": "stdout",
     "output_type": "stream",
     "text": [
      "Loaded model: Acinetobacter_baumannii_1656_2\n"
     ]
    },
    {
     "name": "stderr",
     "output_type": "stream",
     "text": [
      "No defined compartments in model model. Compartments will be deduced heuristically using regular expressions.\n",
      "Using regular expression found the following compartments:c, e\n"
     ]
    },
    {
     "name": "stdout",
     "output_type": "stream",
     "text": [
      "Loaded model: Bacteroides_caccae_ATCC_43185\n"
     ]
    },
    {
     "name": "stderr",
     "output_type": "stream",
     "text": [
      "No defined compartments in model model. Compartments will be deduced heuristically using regular expressions.\n",
      "Using regular expression found the following compartments:c, e\n"
     ]
    },
    {
     "name": "stdout",
     "output_type": "stream",
     "text": [
      "Loaded model: Lactobacillus_rhamnosus_ATCC_21052\n"
     ]
    },
    {
     "name": "stderr",
     "output_type": "stream",
     "text": [
      "No defined compartments in model model. Compartments will be deduced heuristically using regular expressions.\n",
      "Using regular expression found the following compartments:c, e, p\n"
     ]
    },
    {
     "name": "stdout",
     "output_type": "stream",
     "text": [
      "Loaded model: Lactobacillus_crispatus_125_2_CHN\n"
     ]
    },
    {
     "name": "stderr",
     "output_type": "stream",
     "text": [
      "No defined compartments in model model. Compartments will be deduced heuristically using regular expressions.\n",
      "Using regular expression found the following compartments:c, e\n"
     ]
    },
    {
     "name": "stdout",
     "output_type": "stream",
     "text": [
      "Loaded model: Dialister_succinatiphilus_YIT_11850\n"
     ]
    },
    {
     "name": "stderr",
     "output_type": "stream",
     "text": [
      "No defined compartments in model model. Compartments will be deduced heuristically using regular expressions.\n",
      "Using regular expression found the following compartments:c, e, p\n"
     ]
    },
    {
     "name": "stdout",
     "output_type": "stream",
     "text": [
      "Loaded model: Lactobacillus_taiwanensis_DSM_21401\n"
     ]
    },
    {
     "name": "stderr",
     "output_type": "stream",
     "text": [
      "No defined compartments in model model. Compartments will be deduced heuristically using regular expressions.\n",
      "Using regular expression found the following compartments:c, e\n"
     ]
    },
    {
     "name": "stdout",
     "output_type": "stream",
     "text": [
      "Loaded model: Brachyspira_pilosicoli_95_1000\n"
     ]
    },
    {
     "name": "stderr",
     "output_type": "stream",
     "text": [
      "No defined compartments in model model. Compartments will be deduced heuristically using regular expressions.\n",
      "Using regular expression found the following compartments:c, e\n"
     ]
    },
    {
     "name": "stdout",
     "output_type": "stream",
     "text": [
      "Loaded model: Enterococcus_durans_ATCC_6056\n"
     ]
    },
    {
     "name": "stderr",
     "output_type": "stream",
     "text": [
      "No defined compartments in model model. Compartments will be deduced heuristically using regular expressions.\n",
      "Using regular expression found the following compartments:c, e, p\n"
     ]
    },
    {
     "name": "stdout",
     "output_type": "stream",
     "text": [
      "Loaded model: Eubacterium_cellulosolvens_6\n"
     ]
    },
    {
     "name": "stderr",
     "output_type": "stream",
     "text": [
      "No defined compartments in model model. Compartments will be deduced heuristically using regular expressions.\n",
      "Using regular expression found the following compartments:c, e, p\n"
     ]
    },
    {
     "name": "stdout",
     "output_type": "stream",
     "text": [
      "Loaded model: Butyricimonas_virosa_DSM_23226\n"
     ]
    },
    {
     "name": "stderr",
     "output_type": "stream",
     "text": [
      "No defined compartments in model model. Compartments will be deduced heuristically using regular expressions.\n",
      "Using regular expression found the following compartments:c, e, p\n"
     ]
    },
    {
     "name": "stdout",
     "output_type": "stream",
     "text": [
      "Loaded model: Citrobacter_freundii_4_7_47CFAA\n"
     ]
    },
    {
     "name": "stderr",
     "output_type": "stream",
     "text": [
      "No defined compartments in model model. Compartments will be deduced heuristically using regular expressions.\n",
      "Using regular expression found the following compartments:c, e, p\n"
     ]
    },
    {
     "name": "stdout",
     "output_type": "stream",
     "text": [
      "Loaded model: Enterobacter_aerogenes_EA1509E\n",
      "Loaded model: Bacteroides_sp_D2\n"
     ]
    },
    {
     "name": "stderr",
     "output_type": "stream",
     "text": [
      "No defined compartments in model model. Compartments will be deduced heuristically using regular expressions.\n",
      "Using regular expression found the following compartments:c, e, p\n",
      "No defined compartments in model model. Compartments will be deduced heuristically using regular expressions.\n",
      "Using regular expression found the following compartments:c, e, p\n"
     ]
    },
    {
     "name": "stdout",
     "output_type": "stream",
     "text": [
      "Loaded model: Escherichia_coli_0_1288\n"
     ]
    },
    {
     "name": "stderr",
     "output_type": "stream",
     "text": [
      "No defined compartments in model model. Compartments will be deduced heuristically using regular expressions.\n",
      "Using regular expression found the following compartments:c, e, p\n"
     ]
    },
    {
     "name": "stdout",
     "output_type": "stream",
     "text": [
      "Loaded model: Escherichia_fergusonii_ATCC_35469\n"
     ]
    },
    {
     "name": "stderr",
     "output_type": "stream",
     "text": [
      "No defined compartments in model model. Compartments will be deduced heuristically using regular expressions.\n",
      "Using regular expression found the following compartments:c, e\n"
     ]
    },
    {
     "name": "stdout",
     "output_type": "stream",
     "text": [
      "Loaded model: Escherichia_hermannii_NBRC_105704\n"
     ]
    },
    {
     "name": "stderr",
     "output_type": "stream",
     "text": [
      "No defined compartments in model model. Compartments will be deduced heuristically using regular expressions.\n",
      "Using regular expression found the following compartments:c, e, p\n"
     ]
    },
    {
     "name": "stdout",
     "output_type": "stream",
     "text": [
      "Loaded model: Lactobacillus_zeae_DSM_20178_KCTC_3804\n"
     ]
    },
    {
     "name": "stderr",
     "output_type": "stream",
     "text": [
      "No defined compartments in model model. Compartments will be deduced heuristically using regular expressions.\n",
      "Using regular expression found the following compartments:c, e, p\n"
     ]
    },
    {
     "name": "stdout",
     "output_type": "stream",
     "text": [
      "Loaded model: Klebsiella_oxytoca_10_5243\n"
     ]
    },
    {
     "name": "stderr",
     "output_type": "stream",
     "text": [
      "No defined compartments in model model. Compartments will be deduced heuristically using regular expressions.\n",
      "Using regular expression found the following compartments:c, e, p\n"
     ]
    },
    {
     "name": "stdout",
     "output_type": "stream",
     "text": [
      "Loaded model: Hafnia_alvei_BIDMC_31\n"
     ]
    },
    {
     "name": "stderr",
     "output_type": "stream",
     "text": [
      "No defined compartments in model model. Compartments will be deduced heuristically using regular expressions.\n",
      "Using regular expression found the following compartments:c, e, p\n"
     ]
    },
    {
     "name": "stdout",
     "output_type": "stream",
     "text": [
      "Loaded model: Kluyvera_cryocrescens_L2\n"
     ]
    },
    {
     "name": "stderr",
     "output_type": "stream",
     "text": [
      "No defined compartments in model model. Compartments will be deduced heuristically using regular expressions.\n",
      "Using regular expression found the following compartments:c, e\n"
     ]
    },
    {
     "name": "stdout",
     "output_type": "stream",
     "text": [
      "Loaded model: Proteus_mirabilis_AOUC_001\n"
     ]
    },
    {
     "name": "stderr",
     "output_type": "stream",
     "text": [
      "No defined compartments in model model. Compartments will be deduced heuristically using regular expressions.\n",
      "Using regular expression found the following compartments:c, e, p\n"
     ]
    },
    {
     "name": "stdout",
     "output_type": "stream",
     "text": [
      "Loaded model: Streptococcus_macedonicus_679\n"
     ]
    },
    {
     "name": "stderr",
     "output_type": "stream",
     "text": [
      "No defined compartments in model model. Compartments will be deduced heuristically using regular expressions.\n",
      "Using regular expression found the following compartments:c, e, p\n"
     ]
    },
    {
     "name": "stdout",
     "output_type": "stream",
     "text": [
      "Loaded model: Shigella_flexneri_1485_80\n"
     ]
    },
    {
     "name": "stderr",
     "output_type": "stream",
     "text": [
      "No defined compartments in model model. Compartments will be deduced heuristically using regular expressions.\n",
      "Using regular expression found the following compartments:c, e, p\n"
     ]
    },
    {
     "name": "stdout",
     "output_type": "stream",
     "text": [
      "Loaded model: Shigella_sonnei_3226_85\n"
     ]
    },
    {
     "name": "stderr",
     "output_type": "stream",
     "text": [
      "No defined compartments in model model. Compartments will be deduced heuristically using regular expressions.\n",
      "Using regular expression found the following compartments:c, e\n"
     ]
    },
    {
     "name": "stdout",
     "output_type": "stream",
     "text": [
      "Loaded model: Phascolarctobacterium_succinatutens_YIT_12067\n"
     ]
    },
    {
     "name": "stderr",
     "output_type": "stream",
     "text": [
      "No defined compartments in model model. Compartments will be deduced heuristically using regular expressions.\n",
      "Using regular expression found the following compartments:c, e\n"
     ]
    },
    {
     "name": "stdout",
     "output_type": "stream",
     "text": [
      "Loaded model: Clostridium_sp_DL_VIII\n"
     ]
    },
    {
     "name": "stderr",
     "output_type": "stream",
     "text": [
      "No defined compartments in model model. Compartments will be deduced heuristically using regular expressions.\n",
      "Using regular expression found the following compartments:c, e, p\n"
     ]
    },
    {
     "name": "stdout",
     "output_type": "stream",
     "text": [
      "Loaded model: Anaerostipes_hadrus_DSM_3319\n"
     ]
    },
    {
     "name": "stderr",
     "output_type": "stream",
     "text": [
      "No defined compartments in model model. Compartments will be deduced heuristically using regular expressions.\n",
      "Using regular expression found the following compartments:c, e\n"
     ]
    },
    {
     "name": "stdout",
     "output_type": "stream",
     "text": [
      "Loaded model: Bacteroides_faecis_ERR1022362\n"
     ]
    },
    {
     "name": "stderr",
     "output_type": "stream",
     "text": [
      "No defined compartments in model model. Compartments will be deduced heuristically using regular expressions.\n",
      "Using regular expression found the following compartments:c, e, p\n"
     ]
    },
    {
     "name": "stdout",
     "output_type": "stream",
     "text": [
      "Loaded model: Streptococcus_agalactiae_09mas018883\n"
     ]
    },
    {
     "name": "stderr",
     "output_type": "stream",
     "text": [
      "No defined compartments in model model. Compartments will be deduced heuristically using regular expressions.\n",
      "Using regular expression found the following compartments:c, e\n"
     ]
    },
    {
     "name": "stdout",
     "output_type": "stream",
     "text": [
      "Loaded model: Acinetobacter_baumannii_1656_2\n"
     ]
    },
    {
     "name": "stderr",
     "output_type": "stream",
     "text": [
      "No defined compartments in model model. Compartments will be deduced heuristically using regular expressions.\n",
      "Using regular expression found the following compartments:c, e\n"
     ]
    },
    {
     "name": "stdout",
     "output_type": "stream",
     "text": [
      "Loaded model: Clostridium_acetobutylicum_ATCC_824\n"
     ]
    },
    {
     "name": "stderr",
     "output_type": "stream",
     "text": [
      "No defined compartments in model model. Compartments will be deduced heuristically using regular expressions.\n",
      "Using regular expression found the following compartments:c, e, p\n"
     ]
    },
    {
     "name": "stdout",
     "output_type": "stream",
     "text": [
      "Loaded model: Enterococcus_raffinosus_ATCC_49464\n"
     ]
    },
    {
     "name": "stderr",
     "output_type": "stream",
     "text": [
      "No defined compartments in model model. Compartments will be deduced heuristically using regular expressions.\n",
      "Using regular expression found the following compartments:c, e, p\n"
     ]
    },
    {
     "name": "stdout",
     "output_type": "stream",
     "text": [
      "Loaded model: Haemophilus_parainfluenzae_215035_2_ISO5\n"
     ]
    },
    {
     "name": "stderr",
     "output_type": "stream",
     "text": [
      "No defined compartments in model model. Compartments will be deduced heuristically using regular expressions.\n",
      "Using regular expression found the following compartments:c, e\n"
     ]
    },
    {
     "name": "stdout",
     "output_type": "stream",
     "text": [
      "Loaded model: Haemophilus_parahaemolyticus_CCUG_3716_3716T\n"
     ]
    },
    {
     "name": "stderr",
     "output_type": "stream",
     "text": [
      "No defined compartments in model model. Compartments will be deduced heuristically using regular expressions.\n",
      "Using regular expression found the following compartments:c, e\n"
     ]
    },
    {
     "name": "stdout",
     "output_type": "stream",
     "text": [
      "Loaded model: Collinsella_aerofaciens_ATCC_25986\n"
     ]
    },
    {
     "name": "stderr",
     "output_type": "stream",
     "text": [
      "No defined compartments in model model. Compartments will be deduced heuristically using regular expressions.\n",
      "Using regular expression found the following compartments:c, e, p\n"
     ]
    },
    {
     "name": "stdout",
     "output_type": "stream",
     "text": [
      "Loaded model: Coprococcus_catus_ERR2221258\n"
     ]
    },
    {
     "name": "stderr",
     "output_type": "stream",
     "text": [
      "No defined compartments in model model. Compartments will be deduced heuristically using regular expressions.\n",
      "Using regular expression found the following compartments:c, e\n"
     ]
    },
    {
     "name": "stdout",
     "output_type": "stream",
     "text": [
      "Loaded model: Acinetobacter_baumannii_1656_2\n"
     ]
    },
    {
     "name": "stderr",
     "output_type": "stream",
     "text": [
      "No defined compartments in model model. Compartments will be deduced heuristically using regular expressions.\n",
      "Using regular expression found the following compartments:c, e, p\n"
     ]
    },
    {
     "name": "stdout",
     "output_type": "stream",
     "text": [
      "Loaded model: Bifidobacterium_pullorum_DSM_20433\n"
     ]
    },
    {
     "name": "stderr",
     "output_type": "stream",
     "text": [
      "No defined compartments in model model. Compartments will be deduced heuristically using regular expressions.\n",
      "Using regular expression found the following compartments:c, e, p\n"
     ]
    },
    {
     "name": "stdout",
     "output_type": "stream",
     "text": [
      "Loaded model: Bacteroides_fragilis_3_1_12\n"
     ]
    },
    {
     "name": "stderr",
     "output_type": "stream",
     "text": [
      "No defined compartments in model model. Compartments will be deduced heuristically using regular expressions.\n",
      "Using regular expression found the following compartments:c, e, p\n"
     ]
    },
    {
     "name": "stdout",
     "output_type": "stream",
     "text": [
      "Loaded model: Bacteroides_sp_1_1_6\n"
     ]
    },
    {
     "name": "stderr",
     "output_type": "stream",
     "text": [
      "No defined compartments in model model. Compartments will be deduced heuristically using regular expressions.\n",
      "Using regular expression found the following compartments:c, e, p\n"
     ]
    },
    {
     "name": "stdout",
     "output_type": "stream",
     "text": [
      "Loaded model: Bacteroides_uniformis_ATCC_8492\n"
     ]
    },
    {
     "name": "stderr",
     "output_type": "stream",
     "text": [
      "No defined compartments in model model. Compartments will be deduced heuristically using regular expressions.\n",
      "Using regular expression found the following compartments:c, e, p\n"
     ]
    },
    {
     "name": "stdout",
     "output_type": "stream",
     "text": [
      "Loaded model: Bacteroides_vulgatus_ATCC_8482\n"
     ]
    },
    {
     "name": "stderr",
     "output_type": "stream",
     "text": [
      "No defined compartments in model model. Compartments will be deduced heuristically using regular expressions.\n",
      "Using regular expression found the following compartments:c, e, p\n"
     ]
    },
    {
     "name": "stdout",
     "output_type": "stream",
     "text": [
      "Loaded model: Parabacteroides_distasonis_ATCC_8503\n"
     ]
    },
    {
     "name": "stderr",
     "output_type": "stream",
     "text": [
      "No defined compartments in model model. Compartments will be deduced heuristically using regular expressions.\n",
      "Using regular expression found the following compartments:c, e\n"
     ]
    },
    {
     "name": "stdout",
     "output_type": "stream",
     "text": [
      "Loaded model: Succinivibrio_dextrinosolvens_H5\n"
     ]
    },
    {
     "name": "stderr",
     "output_type": "stream",
     "text": [
      "No defined compartments in model model. Compartments will be deduced heuristically using regular expressions.\n",
      "Using regular expression found the following compartments:c, e, p\n"
     ]
    },
    {
     "name": "stdout",
     "output_type": "stream",
     "text": [
      "Loaded model: Eggerthella_lenta_1160AFAA\n"
     ]
    },
    {
     "name": "stderr",
     "output_type": "stream",
     "text": [
      "No defined compartments in model model. Compartments will be deduced heuristically using regular expressions.\n",
      "Using regular expression found the following compartments:c, e\n"
     ]
    },
    {
     "name": "stdout",
     "output_type": "stream",
     "text": [
      "Loaded model: Fusobacterium_mortiferum_ATCC_9817\n"
     ]
    },
    {
     "name": "stderr",
     "output_type": "stream",
     "text": [
      "No defined compartments in model model. Compartments will be deduced heuristically using regular expressions.\n",
      "Using regular expression found the following compartments:c, e\n"
     ]
    },
    {
     "name": "stdout",
     "output_type": "stream",
     "text": [
      "Loaded model: Faecalibacterium_cf_prausnitzii_KLE1255\n"
     ]
    },
    {
     "name": "stderr",
     "output_type": "stream",
     "text": [
      "No defined compartments in model model. Compartments will be deduced heuristically using regular expressions.\n",
      "Using regular expression found the following compartments:c, e\n"
     ]
    },
    {
     "name": "stdout",
     "output_type": "stream",
     "text": [
      "Loaded model: Dorea_longicatena_DSM_13814\n"
     ]
    },
    {
     "name": "stderr",
     "output_type": "stream",
     "text": [
      "No defined compartments in model model. Compartments will be deduced heuristically using regular expressions.\n",
      "Using regular expression found the following compartments:c, e, p\n"
     ]
    },
    {
     "name": "stdout",
     "output_type": "stream",
     "text": [
      "Loaded model: Blautia_luti_DSM_14534\n"
     ]
    },
    {
     "name": "stderr",
     "output_type": "stream",
     "text": [
      "No defined compartments in model model. Compartments will be deduced heuristically using regular expressions.\n",
      "Using regular expression found the following compartments:c, e, p\n"
     ]
    },
    {
     "name": "stdout",
     "output_type": "stream",
     "text": [
      "Loaded model: Acidaminococcus_fermentans_DSM_20731\n"
     ]
    },
    {
     "name": "stderr",
     "output_type": "stream",
     "text": [
      "No defined compartments in model model. Compartments will be deduced heuristically using regular expressions.\n",
      "Using regular expression found the following compartments:c, e\n"
     ]
    },
    {
     "name": "stdout",
     "output_type": "stream",
     "text": [
      "Loaded model: Megasphaera_elsdenii_DSM_20460\n",
      "Loaded model: Lactobacillus_mucosae_LM1\n",
      "Total loaded models saved: 256\n"
     ]
    }
   ],
   "source": [
    "Agora_data_dir2 = data_dir2/'AGORA_Models_for_Infant_gut'\n",
    "\n",
    "# I am putting loaded models in a list so i have to initialize it \n",
    "loaded_models_short = []\n",
    "\n",
    "# For is model in dataframe find path and load it \n",
    "for model_name2 in Single_model_Braken_Agora_df['Model']:\n",
    "    # Construct the full path to the .mat file\n",
    "    model_path2 = os.path.join(Agora_data_dir2, f\"{model_name2}.mat\")\n",
    "    \n",
    "    # Load the model and append it to the list\n",
    "    try:\n",
    "        model2 = cobra.io.load_matlab_model(model_path2)\n",
    "        loaded_models_short.append(model2)\n",
    "        print(f\"Loaded model: {model_name2}\")\n",
    "    except FileNotFoundError:\n",
    "        print(f\"Model file not found: {model_path2}\")\n",
    "    except Exception as e:\n",
    "        print(f\"Error loading model {model_name2}: {e}\")\n",
    "\n",
    "# I will save the loaded models to a pickle file\n",
    "pickle_file_path2 = \"/Users/alexisroberson/Metabolic_Modeling/Project/loaded_models_short_use.pkl\"  # Specify a valid path on VACC\n",
    "with open(pickle_file_path2, 'wb') as my_file:\n",
    "    pickle.dump(loaded_models_short, my_file)\n",
    "\n",
    "print(f\"Total loaded models saved: {len(loaded_models_short)}\")\n",
    "\n"
   ]
  },
  {
   "cell_type": "code",
   "execution_count": null,
   "id": "26022a5c-4602-43cb-9d07-04bf85d49781",
   "metadata": {},
   "outputs": [],
   "source": [
    "# Save the loaded models to a pickle file\n",
    "pickle_file_path2 = \"/Users/alexisroberson/Metabolic_Modeling/Project/loaded_models_short_use.pkl\"  # Specify a valid path on VACC\n",
    "with open(pickle_file_path2, 'wb') as my_file:\n",
    "    pickle.dump(loaded_models_short, my_file)\n",
    "\n",
    "print(f\"Total loaded models saved: {len(loaded_models_short)}\")\n"
   ]
  },
  {
   "cell_type": "code",
   "execution_count": 6,
   "id": "7823fe03-6c99-4301-bcf8-2775c219efd1",
   "metadata": {
    "scrolled": true
   },
   "outputs": [
    {
     "data": {
      "text/plain": [
       "{'Catenibacterium_mitsuokai_DSM_15897': <Model model at 0x2ec983950>,\n",
       " 'Streptococcus_infantarius_subsp_infantarius_ATCC_BAA_102': <Model model at 0x1577b2ad0>,\n",
       " 'Actinomyces_urogenitalis_DSM_15434': <Model model at 0x1575fa650>,\n",
       " 'Clostridium_dakarense_FF1': <Model model at 0x1680d70d0>,\n",
       " 'Klebsiella_michiganensis_10_5242': <Model model at 0x16a8740d0>,\n",
       " 'Ruminococcus_bicirculans_80_3': <Model model at 0x15795e190>,\n",
       " 'Coprococcus_catus_ERR2221258': <Model model at 0x36a39d050>,\n",
       " 'Ruminococcus_champanellensis_18P13': <Model model at 0x168730890>,\n",
       " 'Megasphaera_massiliensis_NP3': <Model model at 0x16b8bc2d0>,\n",
       " 'Leuconostoc_argentinum_KCTC_3773': <Model model at 0x16cab4650>,\n",
       " 'Providencia_alcalifaciens_Dmel2': <Model model at 0x17be4dd10>,\n",
       " 'Staphylococcus_aureus_subsp_aureus_IS_250': <Model model at 0x17c0fc2d0>,\n",
       " 'Alistipes_senegalensis_JC50': <Model model at 0x17d862290>,\n",
       " 'Staphylococcus_hominis_SK119': <Model model at 0x17f46dad0>,\n",
       " 'Streptococcus_salivarius_57_I': <Model model at 0x17f4b5a90>,\n",
       " 'Streptococcus_thermophilus_CNRZ1066': <Model model at 0x17f470410>,\n",
       " 'Actinomyces_cardiffensis_F0333': <Model model at 0x17f4a98d0>,\n",
       " 'Streptococcus_parasanguinis_ATCC_15912': <Model model at 0x17b8f1550>,\n",
       " 'Citrobacter_youngae_ATCC_29220': <Model model at 0x17f49b690>,\n",
       " 'Streptococcus_bovis_ATCC_700338': <Model model at 0x294cb6350>,\n",
       " 'Streptococcus_vestibularis_ATCC_49124': <Model model at 0x294d04650>,\n",
       " 'Enterococcus_faecalis_12030': <Model model at 0x295d7a6d0>,\n",
       " 'Enterococcus_durans_FB129_CNAB_4': <Model model at 0x294cd4ad0>,\n",
       " 'Enterococcus_gallinarum_EG2': <Model model at 0x2940b1610>,\n",
       " 'Enterococcus_faecium_2006_70_121': <Model model at 0x295dc8a90>,\n",
       " 'Lactococcus_lactis_subsp_cremoris_CNCM_I_1631': <Model model at 0x2a260bd50>,\n",
       " 'Atopobium_parvulum_DSM_20469': <Model model at 0x295a24c90>,\n",
       " 'Enterobacter_aerogenes_EA1509E': <Model model at 0x34f316a90>,\n",
       " 'Collinsella_stercoris_DSM_13279': <Model model at 0x2a4de1c50>,\n",
       " 'Clostridium_botulinum_A_str_ATCC_19397': <Model model at 0x2a25e9e50>,\n",
       " 'Clostridium_butyricum_5521': <Model model at 0x2a76f3e10>,\n",
       " 'Clostridioides_difficile_002_P50_2011': <Model model at 0x2a880d390>,\n",
       " 'Streptococcus_lutetiensis_033': <Model model at 0x2ab0bee10>,\n",
       " 'Clostridium_perfringens_ATCC_13124': <Model model at 0x2ab0f20d0>,\n",
       " 'Clostridium_beijerinckii_G117': <Model model at 0x2a4de2c90>,\n",
       " 'Clostridium_innocuum_2959': <Model model at 0x2addce810>,\n",
       " 'Clostridium_clostridioforme_2_1_49FAA': <Model model at 0x2ab0db450>,\n",
       " 'Clostridium_hathewayi_12489931': <Model model at 0x2af42bed0>,\n",
       " 'Clostridium_ramosum_VPI_0427_DSM_1402': <Model model at 0x2b2b4c790>,\n",
       " 'Ruthenibacterium_lactatiformans_585_1': <Model model at 0x2b2bc3050>,\n",
       " 'Citrobacter_amalonaticus_FDAARGOS_122': <Model model at 0x302e22b10>,\n",
       " 'Lactobacillus_casei_12A': <Model model at 0x2b4c57dd0>,\n",
       " 'Weissella_confusa_LBAE_C39_2': <Model model at 0x2b4c6d490>,\n",
       " 'Lactobacillus_delbrueckii_subsp_bulgaricus_2038': <Model model at 0x2aa114f90>,\n",
       " 'Enterobacter_hormaechei_ATCC_49162': <Model model at 0x2b62af410>,\n",
       " 'Megamonas_hypermegale_ART12_1': <Model model at 0x2b8b93ad0>,\n",
       " 'Lactobacillus_plantarum_16': <Model model at 0x2b8bd3350>,\n",
       " 'Lactobacillus_gasseri_202_4': <Model model at 0x2b620be10>,\n",
       " 'Lactobacillus_casei_ATCC_334': <Model model at 0x2bae7e010>,\n",
       " 'Lactobacillus_reuteri_100_23': <Model model at 0x2bae36fd0>,\n",
       " 'Lactobacillus_agilis_DSM_20509': <Model model at 0x2baddbf90>,\n",
       " 'Lactobacillus_amylovorus_GRL_1112': <Model model at 0x2be2fd310>,\n",
       " 'Lactobacillus_animalis_ERR2221125': <Model model at 0x2be32cf50>,\n",
       " 'Lactobacillus_fermentum_28_3_CHN': <Model model at 0x2be2b7950>,\n",
       " 'Lactobacillus_ruminis_ATCC_25644': <Model model at 0x2be3974d0>,\n",
       " 'Lactobacillus_salivarius_CECT_5713': <Model model at 0x2be3481d0>,\n",
       " 'Lactobacillus_oris_F0423': <Model model at 0x2bfdf2890>,\n",
       " 'Lactobacillus_vaginalis_ATCC_49540': <Model model at 0x2c1e50c10>,\n",
       " 'Prevotella_copri_ERR1022397': <Model model at 0x2c1e3cd10>,\n",
       " 'Sellimonas_intestinalis_BR72': <Model model at 0x2c272d510>,\n",
       " 'Actinomyces_odontolyticus_ATCC_17982': <Model model at 0x2c129c450>,\n",
       " 'Roseburia_intestinalis_ERR1022474': <Model model at 0x2c2711250>,\n",
       " 'Treponema_succinifaciens_DSM_2489': <Model model at 0x2c253aa10>,\n",
       " 'Megasphaera_elsdenii_DSM_20460': <Model model at 0x37d01c610>,\n",
       " 'Bifidobacterium_adolescentis_ATCC_15703': <Model model at 0x30c938250>,\n",
       " 'Bifidobacterium_bifidum_156B': <Model model at 0x2c433d4d0>,\n",
       " 'Bifidobacterium_breve_12L': <Model model at 0x2c8c9ee10>,\n",
       " 'Bifidobacterium_catenulatum_DSM_16992': <Model model at 0x2c951ce50>,\n",
       " 'Bifidobacterium_dentium_ATCC_27678': <Model model at 0x2c9573150>,\n",
       " 'Bifidobacterium_pseudolongum_subsp_Pseudolongum_DSM_20099': <Model model at 0x2c958c210>,\n",
       " 'Clostridium_acetobutylicum_ATCC_824': <Model model at 0x36ac83f90>,\n",
       " 'Lactobacillus_camelliae_DSM_22697_JCM_13995': <Model model at 0x2db4ff790>,\n",
       " 'Corynebacterium_accolens_AH4003': <Model model at 0x2cd0beb90>,\n",
       " 'Blautia_massiliensis_GD9': <Model model at 0x2cea8f290>,\n",
       " 'Enterobacter_roggenkampii_35734': <Model model at 0x2cd790610>,\n",
       " 'Streptococcus_agalactiae_09mas018883': <Model model at 0x364512f90>,\n",
       " 'Dakarella_massiliensis_ND3': <Model model at 0x2d3d0ee50>,\n",
       " 'Atopobium_minutum_10063974': <Model model at 0x2d99ba410>,\n",
       " 'Acidaminococcus_intestini_RyC_MR95': <Model model at 0x2d5018110>,\n",
       " 'Cetobacterium_somerae_ATCC_BAA_47401': <Model model at 0x2d3019cd0>,\n",
       " 'Adlercreutzia_equolifaciens_DSM_19450': <Model model at 0x2cb7db810>,\n",
       " 'Campylobacter_coli_1098': <Model model at 0x2c9568590>,\n",
       " 'Campylobacter_jejuni_CJM1cam': <Model model at 0x2d70b42d0>,\n",
       " 'Streptococcus_pasteurianus_651_SPAS_0_477_18720': <Model model at 0x2d70d26d0>,\n",
       " 'Bacteroides_sp_2_1_7': <Model model at 0x2db4e1b10>,\n",
       " 'Acinetobacter_baumannii_1656_2': <Model model at 0x36a0047d0>,\n",
       " 'Clostridium_bolteae_90A5': <Model model at 0x2dc75b1d0>,\n",
       " 'Escherichia_albertii_EC06_170': <Model model at 0x2df429f50>,\n",
       " 'Lactobacillus_gasseri_JV_V03': <Model model at 0x2df908610>,\n",
       " 'Subdoligranulum_variabile_DSM_15176': <Model model at 0x2df438490>,\n",
       " 'Alistipes_finegoldii_DSM_17242': <Model model at 0x2dfc5c4d0>,\n",
       " 'Dialister_invisus_DSM_15470': <Model model at 0x2ef06ae10>,\n",
       " 'Bacteroides_acidifaciens_1e8A': <Model model at 0x306ac48d0>,\n",
       " 'Bifidobacterium_longum_BG7': <Model model at 0x2e5c9c250>,\n",
       " 'Methanobrevibacter_smithii_ATCC_35061': <Model model at 0x2e49f8290>,\n",
       " 'Lactobacillus_gastricus_PS3': <Model model at 0x2e5c94710>,\n",
       " 'Akkermansia_muciniphila_ATCC_BAA_835': <Model model at 0x31e9f7650>,\n",
       " 'Klebsiella_sp_1_1_55': <Model model at 0x2e7d7c150>,\n",
       " 'Bacteroides_cellulosilyticus_CL02T12C19': <Model model at 0x2eb288350>,\n",
       " 'Blautia_coccoides_YL58': <Model model at 0x304d6cf50>,\n",
       " 'Veillonella_atypica_ACS_049_V_Sch6': <Model model at 0x33dd574d0>,\n",
       " 'Prevotella_albensis_DSM_11370': <Model model at 0x2ef082ed0>,\n",
       " 'Bacteroides_ureolyticus_DSM_20703': <Model model at 0x2eb4e2dd0>,\n",
       " 'Ruminococcus_albus_7': <Model model at 0x30b9d9b10>,\n",
       " 'Lactobacillus_acidophilus_ATCC_4796': <Model model at 0x2f6074a10>,\n",
       " 'Eggerthella_lenta_1160AFAA': <Model model at 0x374919610>,\n",
       " 'Acetanaerobacterium_elongatum_CGMCC_1_5012': <Model model at 0x2f73acb10>,\n",
       " 'Sarcina_nov_ERR1022285': <Model model at 0x2f8c241d0>,\n",
       " 'Lactobacillus_antri_DSM_16041': <Model model at 0x2f8c3b250>,\n",
       " 'Roseburia_faecis_ERR1022321': <Model model at 0x2f89c3750>,\n",
       " 'Acetatifactor_muris_GP69': <Model model at 0x3402c41d0>,\n",
       " 'Treponema_denticola_AL_2': <Model model at 0x2ef852fd0>,\n",
       " 'Bifidobacterium_pseudocatenulatum_DSM_20438': <Model model at 0x2ffcb3dd0>,\n",
       " 'Streptococcus_mitis_11_5': <Model model at 0x2ffd3f950>,\n",
       " 'Campylobacter_upsaliensis_JV21': <Model model at 0x2ffd17b50>,\n",
       " 'Bacteroides_ovatus_3_8_47FAA': <Model model at 0x300e8ad10>,\n",
       " 'Odoribacter_splanchnicus_1651_6_DSM_20712': <Model model at 0x2ffd22cd0>,\n",
       " 'Prevotella_denticola_CRIS_18C_A': <Model model at 0x302e41050>,\n",
       " 'Phascolarctobacterium_faecium_DSM_14760': <Model model at 0x323254090>,\n",
       " 'Bacteroides_nordii_CL02T12C05': <Model model at 0x3095ea8d0>,\n",
       " 'Flavonifractor_plautii_ATCC_29863': <Model model at 0x30ba8b750>,\n",
       " 'Faecalibacterium_cf_ERR1022328': <Model model at 0x316fee250>,\n",
       " 'Clostridium_scindens_ATCC_35704': <Model model at 0x316905910>,\n",
       " 'Clostridium_spiroforme_DSM_1552': <Model model at 0x317ff7c10>,\n",
       " 'Veillonella_parvula_ACS_068_V_Sch12': <Model model at 0x31802a750>,\n",
       " 'Peptoniphilus_coxii_DNF00729': <Model model at 0x31a098bd0>,\n",
       " 'Enterobacter_ludwigii_UW5': <Model model at 0x31c1483d0>,\n",
       " 'Roseburia_hominis_A2_183': <Model model at 0x31c1764d0>,\n",
       " 'Fructobacillus_durionis_DSM_19113': <Model model at 0x31c156d90>,\n",
       " 'Streptococcus_gallolyticus_subsp_gallolyticus_ATCC_43143': <Model model at 0x31ea086d0>,\n",
       " 'Parabacteroides_goldsteinii_CL02T12C30': <Model model at 0x31d569610>,\n",
       " 'Alistipes_onderdonkii_DSM_19147': <Model model at 0x320015890>,\n",
       " 'Alistipes_shahii_ERR2221103': <Model model at 0x31ea12f90>,\n",
       " 'Bacteroides_intestinalis_341_DSM_17393': <Model model at 0x3230bc850>,\n",
       " 'Propionibacterium_avidum_44067': <Model model at 0x323225b10>,\n",
       " 'Blautia_producta_DSM_2950': <Model model at 0x3230e3490>,\n",
       " 'Blautia_gnavus_ERR1022310': <Model model at 0x326591590>,\n",
       " 'Ruminococcus_torques_ATCC_27756': <Model model at 0x32730fdd0>,\n",
       " 'Coprococcus_eutactus_ATCC_27759': <Model model at 0x32752a610>,\n",
       " 'Enterococcus_avium_ATCC_14025': <Model model at 0x3265ad090>,\n",
       " 'Lactobacillus_johnsonii_ATCC_33200': <Model model at 0x329746f10>,\n",
       " 'Bacteroides_dorei_CL02T00C15': <Model model at 0x325fd7b10>,\n",
       " 'Enterococcus_asini_ATCC_700915': <Model model at 0x32ceb5590>,\n",
       " 'Clostridium_saccharoperbutylacetonicum_N1_4_HMT': <Model model at 0x32cfe6750>,\n",
       " 'Bacteroides_ovatus_SD_CC_2a': <Model model at 0x330a33010>,\n",
       " 'Bacteroides_coprophilus_DSM_18228': <Model model at 0x32cfdd110>,\n",
       " 'Parabacteroides_johnsonii_CL02T12C29': <Model model at 0x33553b590>,\n",
       " 'Eubacterium_eligens_ATCC_27750': <Model model at 0x330ea8a90>,\n",
       " 'Dorea_formicigenerans_4_6_53AFAA': <Model model at 0x33447efd0>,\n",
       " 'Eubacterium_hallii_DSM_3353': <Model model at 0x334456e10>,\n",
       " 'Eubacterium_rectale_ERR1022318': <Model model at 0x33709b6d0>,\n",
       " 'Veillonella_dispar_ATCC_17748': <Model model at 0x338aa8350>,\n",
       " 'Blautia_obeum_ATCC_29174': <Model model at 0x338c5c250>,\n",
       " 'Sutterella_wadsworthensis_2_1_59BFAA': <Model model at 0x338c515d0>,\n",
       " 'Coprococcus_comes_ATCC_27758': <Model model at 0x33b20bfd0>,\n",
       " 'Faecalibacterium_prausnitzii_A2_165': <Model model at 0x33bf98fd0>,\n",
       " 'Clostridium_sp_M62_1': <Model model at 0x33be5b710>,\n",
       " 'Blautia_wexlerae_AGR2146': <Model model at 0x33b1f1390>,\n",
       " 'Rothia_mucilaginosa_ATCC_25296': <Model model at 0x33fda1fd0>,\n",
       " 'Corynebacterium_amycolatum_SK46': <Model model at 0x33fd89a90>,\n",
       " 'Megamonas_funiformis_YIT_11815': <Model model at 0x340ff08d0>,\n",
       " 'Ruminococcus_lactaris_ATCC_29176': <Model model at 0x344a5f890>,\n",
       " 'Parabacteroides_merdae_ATCC_43184': <Model model at 0x344ad7610>,\n",
       " 'Bacteroides_stercoris_ATCC_43183': <Model model at 0x33ff60050>,\n",
       " 'Bacteroides_caccae_ATCC_43185': <Model model at 0x347b5eb50>,\n",
       " 'Lactobacillus_rhamnosus_ATCC_21052': <Model model at 0x3459f9650>,\n",
       " 'Lactobacillus_crispatus_125_2_CHN': <Model model at 0x3498f1850>,\n",
       " 'Dialister_succinatiphilus_YIT_11850': <Model model at 0x3499204d0>,\n",
       " 'Lactobacillus_taiwanensis_DSM_21401': <Model model at 0x34b2b8490>,\n",
       " 'Brachyspira_pilosicoli_95_1000': <Model model at 0x3459fe010>,\n",
       " 'Enterococcus_durans_ATCC_6056': <Model model at 0x34cd3ca10>,\n",
       " 'Eubacterium_cellulosolvens_6': <Model model at 0x34de6bed0>,\n",
       " 'Butyricimonas_virosa_DSM_23226': <Model model at 0x34de1ead0>,\n",
       " 'Citrobacter_freundii_4_7_47CFAA': <Model model at 0x34f340990>,\n",
       " 'Bacteroides_sp_D2': <Model model at 0x34de66550>,\n",
       " 'Escherichia_coli_0_1288': <Model model at 0x346ec9110>,\n",
       " 'Escherichia_fergusonii_ATCC_35469': <Model model at 0x35784f1d0>,\n",
       " 'Escherichia_hermannii_NBRC_105704': <Model model at 0x356fd76d0>,\n",
       " 'Lactobacillus_zeae_DSM_20178_KCTC_3804': <Model model at 0x35a5ce490>,\n",
       " 'Klebsiella_oxytoca_10_5243': <Model model at 0x356feb150>,\n",
       " 'Hafnia_alvei_BIDMC_31': <Model model at 0x35aa9e610>,\n",
       " 'Kluyvera_cryocrescens_L2': <Model model at 0x35d0c05d0>,\n",
       " 'Proteus_mirabilis_AOUC_001': <Model model at 0x35aac3e50>,\n",
       " 'Streptococcus_macedonicus_679': <Model model at 0x35f98e350>,\n",
       " 'Shigella_flexneri_1485_80': <Model model at 0x35f9b1490>,\n",
       " 'Shigella_sonnei_3226_85': <Model model at 0x338a962d0>,\n",
       " 'Phascolarctobacterium_succinatutens_YIT_12067': <Model model at 0x35f99f250>,\n",
       " 'Clostridium_sp_DL_VIII': <Model model at 0x3644f3310>,\n",
       " 'Anaerostipes_hadrus_DSM_3319': <Model model at 0x35f9aea90>,\n",
       " 'Bacteroides_faecis_ERR1022362': <Model model at 0x3641fc750>,\n",
       " 'Enterococcus_raffinosus_ATCC_49464': <Model model at 0x36ad09310>,\n",
       " 'Haemophilus_parainfluenzae_215035_2_ISO5': <Model model at 0x36a3b6b90>,\n",
       " 'Haemophilus_parahaemolyticus_CCUG_3716_3716T': <Model model at 0x36a782350>,\n",
       " 'Collinsella_aerofaciens_ATCC_25986': <Model model at 0x3694d3ed0>,\n",
       " 'Bifidobacterium_pullorum_DSM_20433': <Model model at 0x369e6c4d0>,\n",
       " 'Bacteroides_fragilis_3_1_12': <Model model at 0x36ba24d50>,\n",
       " 'Bacteroides_sp_1_1_6': <Model model at 0x36eb7d490>,\n",
       " 'Bacteroides_uniformis_ATCC_8492': <Model model at 0x370fc8ad0>,\n",
       " 'Bacteroides_vulgatus_ATCC_8482': <Model model at 0x372f79e90>,\n",
       " 'Parabacteroides_distasonis_ATCC_8503': <Model model at 0x3748b7690>,\n",
       " 'Succinivibrio_dextrinosolvens_H5': <Model model at 0x37492d450>,\n",
       " 'Fusobacterium_mortiferum_ATCC_9817': <Model model at 0x377c5c9d0>,\n",
       " 'Faecalibacterium_cf_prausnitzii_KLE1255': <Model model at 0x378ed9510>,\n",
       " 'Dorea_longicatena_DSM_13814': <Model model at 0x378ea62d0>,\n",
       " 'Blautia_luti_DSM_14534': <Model model at 0x37a03b050>,\n",
       " 'Acidaminococcus_fermentans_DSM_20731': <Model model at 0x378eb4b90>,\n",
       " 'Lactobacillus_mucosae_LM1': <Model model at 0x37a3f0b10>}"
      ]
     },
     "execution_count": 6,
     "metadata": {},
     "output_type": "execute_result"
    }
   ],
   "source": [
    "loaded_models_short_dict = dict(zip(Single_model_Braken_Agora_df['Model'], loaded_models_short))\n",
    "loaded_models_short_dict"
   ]
  },
  {
   "cell_type": "markdown",
   "id": "09968d12-e82e-47a6-885c-0fb85c25cb54",
   "metadata": {},
   "source": [
    "### Get reactions list"
   ]
  },
  {
   "cell_type": "code",
   "execution_count": 7,
   "id": "c08cdab0-2180-46ef-8863-59e6da159d7a",
   "metadata": {},
   "outputs": [],
   "source": [
    "def reactions_to_dataframe(model_list):\n",
    "    # Initialize an empty DataFrame. This holds all reaction data\n",
    "    df_final = pd.DataFrame()\n",
    "\n",
    "    # Iterate through each model in the my model list\n",
    "    for model in model_list:\n",
    "        reaction_data = []\n",
    "\n",
    "        # Collect reaction details from the current model\n",
    "        for reaction in model.reactions:\n",
    "            reaction_data.append({\n",
    "                'reaction_id': reaction.id,\n",
    "                'reaction_name': reaction.name,\n",
    "                'reaction_equation': reaction.reaction\n",
    "            })\n",
    "        \n",
    "        # Turn dictionary to a DataFrame for the current model\n",
    "        df = pd.DataFrame(reaction_data)\n",
    "\n",
    "        # Concatenate the new DataFrame to the final DataFrame ( we are putting together the matrix)\n",
    "        df_final = pd.concat([df_final, df], ignore_index=True)\n",
    "\n",
    "        # Group columns==> I dont want duplicated rxns after adding reactions from the current model\n",
    "        df_final = df_final.groupby(['reaction_id', 'reaction_name', 'reaction_equation'], as_index=False).first()\n",
    "\n",
    "    # Final grouping \n",
    "    df_final = df_final.groupby(['reaction_id', 'reaction_name', 'reaction_equation'], as_index=False).first()\n",
    "\n",
    "    return df_final\n"
   ]
  },
  {
   "cell_type": "code",
   "execution_count": 8,
   "id": "402e332c-049e-4bee-92a0-a9b64a9c72bb",
   "metadata": {},
   "outputs": [],
   "source": [
    "#model_list=[model,model2]\n",
    "reactionID_df = reactions_to_dataframe(loaded_models_short)\n",
    "reactionID_df.columns\n",
    "RxnID_only_df = reactionID_df.drop(['reaction_name', 'reaction_equation'],axis=1,inplace=False)"
   ]
  },
  {
   "cell_type": "code",
   "execution_count": 10,
   "id": "c944c122-2c0e-4b3c-9472-b6cf010234c2",
   "metadata": {},
   "outputs": [],
   "source": [
    "reactionID_df.to_csv('ReactionID_Name_Equation_fromShortList_DominantSPeciesModels.csv',index=False)"
   ]
  },
  {
   "cell_type": "code",
   "execution_count": 11,
   "id": "23083990-3231-4938-8eda-b22c19b940f3",
   "metadata": {},
   "outputs": [
    {
     "data": {
      "text/html": [
       "<div>\n",
       "<style scoped>\n",
       "    .dataframe tbody tr th:only-of-type {\n",
       "        vertical-align: middle;\n",
       "    }\n",
       "\n",
       "    .dataframe tbody tr th {\n",
       "        vertical-align: top;\n",
       "    }\n",
       "\n",
       "    .dataframe thead th {\n",
       "        text-align: right;\n",
       "    }\n",
       "</style>\n",
       "<table border=\"1\" class=\"dataframe\">\n",
       "  <thead>\n",
       "    <tr style=\"text-align: right;\">\n",
       "      <th></th>\n",
       "      <th>reaction_id</th>\n",
       "    </tr>\n",
       "  </thead>\n",
       "  <tbody>\n",
       "    <tr>\n",
       "      <th>0</th>\n",
       "      <td>12DGR180tex</td>\n",
       "    </tr>\n",
       "    <tr>\n",
       "      <th>1</th>\n",
       "      <td>12DGR180ti</td>\n",
       "    </tr>\n",
       "    <tr>\n",
       "      <th>2</th>\n",
       "      <td>12DGR180tipp</td>\n",
       "    </tr>\n",
       "    <tr>\n",
       "      <th>3</th>\n",
       "      <td>12PPDSDH</td>\n",
       "    </tr>\n",
       "    <tr>\n",
       "      <th>4</th>\n",
       "      <td>12PPD_Stex</td>\n",
       "    </tr>\n",
       "    <tr>\n",
       "      <th>...</th>\n",
       "      <td>...</td>\n",
       "    </tr>\n",
       "    <tr>\n",
       "      <th>7526</th>\n",
       "      <td>tNCAPpp</td>\n",
       "    </tr>\n",
       "    <tr>\n",
       "      <th>7527</th>\n",
       "      <td>tNZP</td>\n",
       "    </tr>\n",
       "    <tr>\n",
       "      <th>7528</th>\n",
       "      <td>tNZPpp</td>\n",
       "    </tr>\n",
       "    <tr>\n",
       "      <th>7529</th>\n",
       "      <td>tSBZCOApp</td>\n",
       "    </tr>\n",
       "    <tr>\n",
       "      <th>7530</th>\n",
       "      <td>tSUCBZ</td>\n",
       "    </tr>\n",
       "  </tbody>\n",
       "</table>\n",
       "<p>7531 rows × 1 columns</p>\n",
       "</div>"
      ],
      "text/plain": [
       "       reaction_id\n",
       "0      12DGR180tex\n",
       "1       12DGR180ti\n",
       "2     12DGR180tipp\n",
       "3         12PPDSDH\n",
       "4       12PPD_Stex\n",
       "...            ...\n",
       "7526       tNCAPpp\n",
       "7527          tNZP\n",
       "7528        tNZPpp\n",
       "7529     tSBZCOApp\n",
       "7530        tSUCBZ\n",
       "\n",
       "[7531 rows x 1 columns]"
      ]
     },
     "execution_count": 11,
     "metadata": {},
     "output_type": "execute_result"
    }
   ],
   "source": [
    "RxnID_only_df"
   ]
  },
  {
   "cell_type": "markdown",
   "id": "4f441b82-01cf-473f-a383-18829ed636a5",
   "metadata": {},
   "source": [
    "### Get Matrix (Agora model x ReactionsID) Matrix A"
   ]
  },
  {
   "cell_type": "code",
   "execution_count": 12,
   "id": "bb6125b4-8f59-4861-b232-e3e15c8701a2",
   "metadata": {
    "scrolled": true
   },
   "outputs": [
    {
     "name": "stdout",
     "output_type": "stream",
     "text": [
      "                                                    12DGR180tex  12DGR180ti  \\\n",
      "Catenibacterium_mitsuokai_DSM_15897                           0           0   \n",
      "Streptococcus_infantarius_subsp_infantarius_ATC...            0           0   \n",
      "Actinomyces_urogenitalis_DSM_15434                            0           0   \n",
      "Clostridium_dakarense_FF1                                     0           1   \n",
      "Klebsiella_michiganensis_10_5242                              0           0   \n",
      "...                                                         ...         ...   \n",
      "Faecalibacterium_cf_prausnitzii_KLE1255                       0           0   \n",
      "Dorea_longicatena_DSM_13814                                   0           0   \n",
      "Blautia_luti_DSM_14534                                        0           0   \n",
      "Acidaminococcus_fermentans_DSM_20731                          0           0   \n",
      "Lactobacillus_mucosae_LM1                                     0           0   \n",
      "\n",
      "                                                    12DGR180tipp  12PPDSDH  \\\n",
      "Catenibacterium_mitsuokai_DSM_15897                            0         0   \n",
      "Streptococcus_infantarius_subsp_infantarius_ATC...             0         0   \n",
      "Actinomyces_urogenitalis_DSM_15434                             0         0   \n",
      "Clostridium_dakarense_FF1                                      0         1   \n",
      "Klebsiella_michiganensis_10_5242                               0         1   \n",
      "...                                                          ...       ...   \n",
      "Faecalibacterium_cf_prausnitzii_KLE1255                        0         0   \n",
      "Dorea_longicatena_DSM_13814                                    0         0   \n",
      "Blautia_luti_DSM_14534                                         0         0   \n",
      "Acidaminococcus_fermentans_DSM_20731                           0         0   \n",
      "Lactobacillus_mucosae_LM1                                      0         0   \n",
      "\n",
      "                                                    12PPD_Stex  12PPDt  \\\n",
      "Catenibacterium_mitsuokai_DSM_15897                          0       0   \n",
      "Streptococcus_infantarius_subsp_infantarius_ATC...           0       0   \n",
      "Actinomyces_urogenitalis_DSM_15434                           0       0   \n",
      "Clostridium_dakarense_FF1                                    0       0   \n",
      "Klebsiella_michiganensis_10_5242                             1       0   \n",
      "...                                                        ...     ...   \n",
      "Faecalibacterium_cf_prausnitzii_KLE1255                      0       0   \n",
      "Dorea_longicatena_DSM_13814                                  0       0   \n",
      "Blautia_luti_DSM_14534                                       0       0   \n",
      "Acidaminococcus_fermentans_DSM_20731                         0       0   \n",
      "Lactobacillus_mucosae_LM1                                    0       0   \n",
      "\n",
      "                                                    12PPDtpp  12aHSDHe  \\\n",
      "Catenibacterium_mitsuokai_DSM_15897                        0         1   \n",
      "Streptococcus_infantarius_subsp_infantarius_ATC...         0         0   \n",
      "Actinomyces_urogenitalis_DSM_15434                         0         0   \n",
      "Clostridium_dakarense_FF1                                  0         0   \n",
      "Klebsiella_michiganensis_10_5242                           1         0   \n",
      "...                                                      ...       ...   \n",
      "Faecalibacterium_cf_prausnitzii_KLE1255                    0         1   \n",
      "Dorea_longicatena_DSM_13814                                0         0   \n",
      "Blautia_luti_DSM_14534                                     0         0   \n",
      "Acidaminococcus_fermentans_DSM_20731                       0         0   \n",
      "Lactobacillus_mucosae_LM1                                  0         0   \n",
      "\n",
      "                                                    13DAMPPOX  13PPDH  ...  \\\n",
      "Catenibacterium_mitsuokai_DSM_15897                         0       0  ...   \n",
      "Streptococcus_infantarius_subsp_infantarius_ATC...          0       0  ...   \n",
      "Actinomyces_urogenitalis_DSM_15434                          0       0  ...   \n",
      "Clostridium_dakarense_FF1                                   0       0  ...   \n",
      "Klebsiella_michiganensis_10_5242                            0       0  ...   \n",
      "...                                                       ...     ...  ...   \n",
      "Faecalibacterium_cf_prausnitzii_KLE1255                     0       0  ...   \n",
      "Dorea_longicatena_DSM_13814                                 0       0  ...   \n",
      "Blautia_luti_DSM_14534                                      0       0  ...   \n",
      "Acidaminococcus_fermentans_DSM_20731                        0       0  ...   \n",
      "Lactobacillus_mucosae_LM1                                   0       0  ...   \n",
      "\n",
      "                                                    tCZPpp  tDHNA  tDHNACOA  \\\n",
      "Catenibacterium_mitsuokai_DSM_15897                      0      0         0   \n",
      "Streptococcus_infantarius_subsp_infantarius_ATC...       0      0         0   \n",
      "Actinomyces_urogenitalis_DSM_15434                       0      0         0   \n",
      "Clostridium_dakarense_FF1                                0      0         0   \n",
      "Klebsiella_michiganensis_10_5242                         0      0         0   \n",
      "...                                                    ...    ...       ...   \n",
      "Faecalibacterium_cf_prausnitzii_KLE1255                  0      0         0   \n",
      "Dorea_longicatena_DSM_13814                              0      0         0   \n",
      "Blautia_luti_DSM_14534                                   0      0         0   \n",
      "Acidaminococcus_fermentans_DSM_20731                     1      0         0   \n",
      "Lactobacillus_mucosae_LM1                                0      0         0   \n",
      "\n",
      "                                                    tDHNApp  tNCAP  tNCAPpp  \\\n",
      "Catenibacterium_mitsuokai_DSM_15897                       0      1        0   \n",
      "Streptococcus_infantarius_subsp_infantarius_ATC...        0      1        0   \n",
      "Actinomyces_urogenitalis_DSM_15434                        0      0        0   \n",
      "Clostridium_dakarense_FF1                                 0      0        0   \n",
      "Klebsiella_michiganensis_10_5242                          0      0        0   \n",
      "...                                                     ...    ...      ...   \n",
      "Faecalibacterium_cf_prausnitzii_KLE1255                   0      1        0   \n",
      "Dorea_longicatena_DSM_13814                               0      1        0   \n",
      "Blautia_luti_DSM_14534                                    0      0        0   \n",
      "Acidaminococcus_fermentans_DSM_20731                      0      0        1   \n",
      "Lactobacillus_mucosae_LM1                                 0      1        0   \n",
      "\n",
      "                                                    tNZP  tNZPpp  tSBZCOApp  \\\n",
      "Catenibacterium_mitsuokai_DSM_15897                    1       0          0   \n",
      "Streptococcus_infantarius_subsp_infantarius_ATC...     1       0          0   \n",
      "Actinomyces_urogenitalis_DSM_15434                     0       0          0   \n",
      "Clostridium_dakarense_FF1                              0       0          0   \n",
      "Klebsiella_michiganensis_10_5242                       0       0          0   \n",
      "...                                                  ...     ...        ...   \n",
      "Faecalibacterium_cf_prausnitzii_KLE1255                1       0          0   \n",
      "Dorea_longicatena_DSM_13814                            1       0          0   \n",
      "Blautia_luti_DSM_14534                                 0       0          0   \n",
      "Acidaminococcus_fermentans_DSM_20731                   0       1          0   \n",
      "Lactobacillus_mucosae_LM1                              1       0          0   \n",
      "\n",
      "                                                    tSUCBZ  \n",
      "Catenibacterium_mitsuokai_DSM_15897                      0  \n",
      "Streptococcus_infantarius_subsp_infantarius_ATC...       0  \n",
      "Actinomyces_urogenitalis_DSM_15434                       1  \n",
      "Clostridium_dakarense_FF1                                0  \n",
      "Klebsiella_michiganensis_10_5242                         0  \n",
      "...                                                    ...  \n",
      "Faecalibacterium_cf_prausnitzii_KLE1255                  0  \n",
      "Dorea_longicatena_DSM_13814                              0  \n",
      "Blautia_luti_DSM_14534                                   0  \n",
      "Acidaminococcus_fermentans_DSM_20731                     0  \n",
      "Lactobacillus_mucosae_LM1                                0  \n",
      "\n",
      "[207 rows x 7531 columns]\n"
     ]
    }
   ],
   "source": [
    "model_list = list(Single_model_Braken_Agora_df['Model']) \n",
    "reaction_ids = list(RxnID_only_df['reaction_id']) \n",
    "\n",
    "\n",
    "# Initialize a DataFrame with zeros, using model names as the index and reaction IDs as columns\n",
    "matrix = pd.DataFrame(0, index=loaded_models_short_dict.keys(), columns=reaction_ids)\n",
    "\n",
    "# Populate the DataFrame\n",
    "for model_name, model in loaded_models_short_dict.items():\n",
    "    # Extract the reaction IDs from the model\n",
    "    model_reactions = [reaction.id for reaction in model.reactions]  # Extract reaction IDs from the model object\n",
    "\n",
    "    # Set values in the DataFrame to 1 where reaction IDs are present in the model\n",
    "    for reaction_id in reaction_ids:\n",
    "        if reaction_id in model_reactions:\n",
    "            matrix.loc[model_name, reaction_id] = 1\n",
    "\n",
    "# Display the resulting matrix\n",
    "print(matrix)\n"
   ]
  },
  {
   "cell_type": "code",
   "execution_count": 14,
   "id": "fac2789e-d57c-4270-8f6a-7d22e729afd0",
   "metadata": {},
   "outputs": [],
   "source": [
    "matrix.to_csv('A_matrix_AgoravsRxn_shortlist.csv')"
   ]
  },
  {
   "cell_type": "code",
   "execution_count": 13,
   "id": "b6e3c2df-b48c-452d-a99f-ab3b7b0b8752",
   "metadata": {},
   "outputs": [
    {
     "data": {
      "text/html": [
       "<div>\n",
       "<style scoped>\n",
       "    .dataframe tbody tr th:only-of-type {\n",
       "        vertical-align: middle;\n",
       "    }\n",
       "\n",
       "    .dataframe tbody tr th {\n",
       "        vertical-align: top;\n",
       "    }\n",
       "\n",
       "    .dataframe thead th {\n",
       "        text-align: right;\n",
       "    }\n",
       "</style>\n",
       "<table border=\"1\" class=\"dataframe\">\n",
       "  <thead>\n",
       "    <tr style=\"text-align: right;\">\n",
       "      <th></th>\n",
       "      <th>12DGR180tex</th>\n",
       "      <th>12DGR180ti</th>\n",
       "      <th>12DGR180tipp</th>\n",
       "      <th>12PPDSDH</th>\n",
       "      <th>12PPD_Stex</th>\n",
       "      <th>12PPDt</th>\n",
       "      <th>12PPDtpp</th>\n",
       "      <th>12aHSDHe</th>\n",
       "      <th>13DAMPPOX</th>\n",
       "      <th>13PPDH</th>\n",
       "      <th>...</th>\n",
       "      <th>tCZPpp</th>\n",
       "      <th>tDHNA</th>\n",
       "      <th>tDHNACOA</th>\n",
       "      <th>tDHNApp</th>\n",
       "      <th>tNCAP</th>\n",
       "      <th>tNCAPpp</th>\n",
       "      <th>tNZP</th>\n",
       "      <th>tNZPpp</th>\n",
       "      <th>tSBZCOApp</th>\n",
       "      <th>tSUCBZ</th>\n",
       "    </tr>\n",
       "  </thead>\n",
       "  <tbody>\n",
       "    <tr>\n",
       "      <th>Catenibacterium_mitsuokai_DSM_15897</th>\n",
       "      <td>0</td>\n",
       "      <td>0</td>\n",
       "      <td>0</td>\n",
       "      <td>0</td>\n",
       "      <td>0</td>\n",
       "      <td>0</td>\n",
       "      <td>0</td>\n",
       "      <td>1</td>\n",
       "      <td>0</td>\n",
       "      <td>0</td>\n",
       "      <td>...</td>\n",
       "      <td>0</td>\n",
       "      <td>0</td>\n",
       "      <td>0</td>\n",
       "      <td>0</td>\n",
       "      <td>1</td>\n",
       "      <td>0</td>\n",
       "      <td>1</td>\n",
       "      <td>0</td>\n",
       "      <td>0</td>\n",
       "      <td>0</td>\n",
       "    </tr>\n",
       "    <tr>\n",
       "      <th>Streptococcus_infantarius_subsp_infantarius_ATCC_BAA_102</th>\n",
       "      <td>0</td>\n",
       "      <td>0</td>\n",
       "      <td>0</td>\n",
       "      <td>0</td>\n",
       "      <td>0</td>\n",
       "      <td>0</td>\n",
       "      <td>0</td>\n",
       "      <td>0</td>\n",
       "      <td>0</td>\n",
       "      <td>0</td>\n",
       "      <td>...</td>\n",
       "      <td>0</td>\n",
       "      <td>0</td>\n",
       "      <td>0</td>\n",
       "      <td>0</td>\n",
       "      <td>1</td>\n",
       "      <td>0</td>\n",
       "      <td>1</td>\n",
       "      <td>0</td>\n",
       "      <td>0</td>\n",
       "      <td>0</td>\n",
       "    </tr>\n",
       "    <tr>\n",
       "      <th>Actinomyces_urogenitalis_DSM_15434</th>\n",
       "      <td>0</td>\n",
       "      <td>0</td>\n",
       "      <td>0</td>\n",
       "      <td>0</td>\n",
       "      <td>0</td>\n",
       "      <td>0</td>\n",
       "      <td>0</td>\n",
       "      <td>0</td>\n",
       "      <td>0</td>\n",
       "      <td>0</td>\n",
       "      <td>...</td>\n",
       "      <td>0</td>\n",
       "      <td>0</td>\n",
       "      <td>0</td>\n",
       "      <td>0</td>\n",
       "      <td>0</td>\n",
       "      <td>0</td>\n",
       "      <td>0</td>\n",
       "      <td>0</td>\n",
       "      <td>0</td>\n",
       "      <td>1</td>\n",
       "    </tr>\n",
       "    <tr>\n",
       "      <th>Clostridium_dakarense_FF1</th>\n",
       "      <td>0</td>\n",
       "      <td>1</td>\n",
       "      <td>0</td>\n",
       "      <td>1</td>\n",
       "      <td>0</td>\n",
       "      <td>0</td>\n",
       "      <td>0</td>\n",
       "      <td>0</td>\n",
       "      <td>0</td>\n",
       "      <td>0</td>\n",
       "      <td>...</td>\n",
       "      <td>0</td>\n",
       "      <td>0</td>\n",
       "      <td>0</td>\n",
       "      <td>0</td>\n",
       "      <td>0</td>\n",
       "      <td>0</td>\n",
       "      <td>0</td>\n",
       "      <td>0</td>\n",
       "      <td>0</td>\n",
       "      <td>0</td>\n",
       "    </tr>\n",
       "    <tr>\n",
       "      <th>Klebsiella_michiganensis_10_5242</th>\n",
       "      <td>0</td>\n",
       "      <td>0</td>\n",
       "      <td>0</td>\n",
       "      <td>1</td>\n",
       "      <td>1</td>\n",
       "      <td>0</td>\n",
       "      <td>1</td>\n",
       "      <td>0</td>\n",
       "      <td>0</td>\n",
       "      <td>0</td>\n",
       "      <td>...</td>\n",
       "      <td>0</td>\n",
       "      <td>0</td>\n",
       "      <td>0</td>\n",
       "      <td>0</td>\n",
       "      <td>0</td>\n",
       "      <td>0</td>\n",
       "      <td>0</td>\n",
       "      <td>0</td>\n",
       "      <td>0</td>\n",
       "      <td>0</td>\n",
       "    </tr>\n",
       "    <tr>\n",
       "      <th>...</th>\n",
       "      <td>...</td>\n",
       "      <td>...</td>\n",
       "      <td>...</td>\n",
       "      <td>...</td>\n",
       "      <td>...</td>\n",
       "      <td>...</td>\n",
       "      <td>...</td>\n",
       "      <td>...</td>\n",
       "      <td>...</td>\n",
       "      <td>...</td>\n",
       "      <td>...</td>\n",
       "      <td>...</td>\n",
       "      <td>...</td>\n",
       "      <td>...</td>\n",
       "      <td>...</td>\n",
       "      <td>...</td>\n",
       "      <td>...</td>\n",
       "      <td>...</td>\n",
       "      <td>...</td>\n",
       "      <td>...</td>\n",
       "      <td>...</td>\n",
       "    </tr>\n",
       "    <tr>\n",
       "      <th>Faecalibacterium_cf_prausnitzii_KLE1255</th>\n",
       "      <td>0</td>\n",
       "      <td>0</td>\n",
       "      <td>0</td>\n",
       "      <td>0</td>\n",
       "      <td>0</td>\n",
       "      <td>0</td>\n",
       "      <td>0</td>\n",
       "      <td>1</td>\n",
       "      <td>0</td>\n",
       "      <td>0</td>\n",
       "      <td>...</td>\n",
       "      <td>0</td>\n",
       "      <td>0</td>\n",
       "      <td>0</td>\n",
       "      <td>0</td>\n",
       "      <td>1</td>\n",
       "      <td>0</td>\n",
       "      <td>1</td>\n",
       "      <td>0</td>\n",
       "      <td>0</td>\n",
       "      <td>0</td>\n",
       "    </tr>\n",
       "    <tr>\n",
       "      <th>Dorea_longicatena_DSM_13814</th>\n",
       "      <td>0</td>\n",
       "      <td>0</td>\n",
       "      <td>0</td>\n",
       "      <td>0</td>\n",
       "      <td>0</td>\n",
       "      <td>0</td>\n",
       "      <td>0</td>\n",
       "      <td>0</td>\n",
       "      <td>0</td>\n",
       "      <td>0</td>\n",
       "      <td>...</td>\n",
       "      <td>0</td>\n",
       "      <td>0</td>\n",
       "      <td>0</td>\n",
       "      <td>0</td>\n",
       "      <td>1</td>\n",
       "      <td>0</td>\n",
       "      <td>1</td>\n",
       "      <td>0</td>\n",
       "      <td>0</td>\n",
       "      <td>0</td>\n",
       "    </tr>\n",
       "    <tr>\n",
       "      <th>Blautia_luti_DSM_14534</th>\n",
       "      <td>0</td>\n",
       "      <td>0</td>\n",
       "      <td>0</td>\n",
       "      <td>0</td>\n",
       "      <td>0</td>\n",
       "      <td>0</td>\n",
       "      <td>0</td>\n",
       "      <td>0</td>\n",
       "      <td>0</td>\n",
       "      <td>0</td>\n",
       "      <td>...</td>\n",
       "      <td>0</td>\n",
       "      <td>0</td>\n",
       "      <td>0</td>\n",
       "      <td>0</td>\n",
       "      <td>0</td>\n",
       "      <td>0</td>\n",
       "      <td>0</td>\n",
       "      <td>0</td>\n",
       "      <td>0</td>\n",
       "      <td>0</td>\n",
       "    </tr>\n",
       "    <tr>\n",
       "      <th>Acidaminococcus_fermentans_DSM_20731</th>\n",
       "      <td>0</td>\n",
       "      <td>0</td>\n",
       "      <td>0</td>\n",
       "      <td>0</td>\n",
       "      <td>0</td>\n",
       "      <td>0</td>\n",
       "      <td>0</td>\n",
       "      <td>0</td>\n",
       "      <td>0</td>\n",
       "      <td>0</td>\n",
       "      <td>...</td>\n",
       "      <td>1</td>\n",
       "      <td>0</td>\n",
       "      <td>0</td>\n",
       "      <td>0</td>\n",
       "      <td>0</td>\n",
       "      <td>1</td>\n",
       "      <td>0</td>\n",
       "      <td>1</td>\n",
       "      <td>0</td>\n",
       "      <td>0</td>\n",
       "    </tr>\n",
       "    <tr>\n",
       "      <th>Lactobacillus_mucosae_LM1</th>\n",
       "      <td>0</td>\n",
       "      <td>0</td>\n",
       "      <td>0</td>\n",
       "      <td>0</td>\n",
       "      <td>0</td>\n",
       "      <td>0</td>\n",
       "      <td>0</td>\n",
       "      <td>0</td>\n",
       "      <td>0</td>\n",
       "      <td>0</td>\n",
       "      <td>...</td>\n",
       "      <td>0</td>\n",
       "      <td>0</td>\n",
       "      <td>0</td>\n",
       "      <td>0</td>\n",
       "      <td>1</td>\n",
       "      <td>0</td>\n",
       "      <td>1</td>\n",
       "      <td>0</td>\n",
       "      <td>0</td>\n",
       "      <td>0</td>\n",
       "    </tr>\n",
       "  </tbody>\n",
       "</table>\n",
       "<p>207 rows × 7531 columns</p>\n",
       "</div>"
      ],
      "text/plain": [
       "                                                    12DGR180tex  12DGR180ti  \\\n",
       "Catenibacterium_mitsuokai_DSM_15897                           0           0   \n",
       "Streptococcus_infantarius_subsp_infantarius_ATC...            0           0   \n",
       "Actinomyces_urogenitalis_DSM_15434                            0           0   \n",
       "Clostridium_dakarense_FF1                                     0           1   \n",
       "Klebsiella_michiganensis_10_5242                              0           0   \n",
       "...                                                         ...         ...   \n",
       "Faecalibacterium_cf_prausnitzii_KLE1255                       0           0   \n",
       "Dorea_longicatena_DSM_13814                                   0           0   \n",
       "Blautia_luti_DSM_14534                                        0           0   \n",
       "Acidaminococcus_fermentans_DSM_20731                          0           0   \n",
       "Lactobacillus_mucosae_LM1                                     0           0   \n",
       "\n",
       "                                                    12DGR180tipp  12PPDSDH  \\\n",
       "Catenibacterium_mitsuokai_DSM_15897                            0         0   \n",
       "Streptococcus_infantarius_subsp_infantarius_ATC...             0         0   \n",
       "Actinomyces_urogenitalis_DSM_15434                             0         0   \n",
       "Clostridium_dakarense_FF1                                      0         1   \n",
       "Klebsiella_michiganensis_10_5242                               0         1   \n",
       "...                                                          ...       ...   \n",
       "Faecalibacterium_cf_prausnitzii_KLE1255                        0         0   \n",
       "Dorea_longicatena_DSM_13814                                    0         0   \n",
       "Blautia_luti_DSM_14534                                         0         0   \n",
       "Acidaminococcus_fermentans_DSM_20731                           0         0   \n",
       "Lactobacillus_mucosae_LM1                                      0         0   \n",
       "\n",
       "                                                    12PPD_Stex  12PPDt  \\\n",
       "Catenibacterium_mitsuokai_DSM_15897                          0       0   \n",
       "Streptococcus_infantarius_subsp_infantarius_ATC...           0       0   \n",
       "Actinomyces_urogenitalis_DSM_15434                           0       0   \n",
       "Clostridium_dakarense_FF1                                    0       0   \n",
       "Klebsiella_michiganensis_10_5242                             1       0   \n",
       "...                                                        ...     ...   \n",
       "Faecalibacterium_cf_prausnitzii_KLE1255                      0       0   \n",
       "Dorea_longicatena_DSM_13814                                  0       0   \n",
       "Blautia_luti_DSM_14534                                       0       0   \n",
       "Acidaminococcus_fermentans_DSM_20731                         0       0   \n",
       "Lactobacillus_mucosae_LM1                                    0       0   \n",
       "\n",
       "                                                    12PPDtpp  12aHSDHe  \\\n",
       "Catenibacterium_mitsuokai_DSM_15897                        0         1   \n",
       "Streptococcus_infantarius_subsp_infantarius_ATC...         0         0   \n",
       "Actinomyces_urogenitalis_DSM_15434                         0         0   \n",
       "Clostridium_dakarense_FF1                                  0         0   \n",
       "Klebsiella_michiganensis_10_5242                           1         0   \n",
       "...                                                      ...       ...   \n",
       "Faecalibacterium_cf_prausnitzii_KLE1255                    0         1   \n",
       "Dorea_longicatena_DSM_13814                                0         0   \n",
       "Blautia_luti_DSM_14534                                     0         0   \n",
       "Acidaminococcus_fermentans_DSM_20731                       0         0   \n",
       "Lactobacillus_mucosae_LM1                                  0         0   \n",
       "\n",
       "                                                    13DAMPPOX  13PPDH  ...  \\\n",
       "Catenibacterium_mitsuokai_DSM_15897                         0       0  ...   \n",
       "Streptococcus_infantarius_subsp_infantarius_ATC...          0       0  ...   \n",
       "Actinomyces_urogenitalis_DSM_15434                          0       0  ...   \n",
       "Clostridium_dakarense_FF1                                   0       0  ...   \n",
       "Klebsiella_michiganensis_10_5242                            0       0  ...   \n",
       "...                                                       ...     ...  ...   \n",
       "Faecalibacterium_cf_prausnitzii_KLE1255                     0       0  ...   \n",
       "Dorea_longicatena_DSM_13814                                 0       0  ...   \n",
       "Blautia_luti_DSM_14534                                      0       0  ...   \n",
       "Acidaminococcus_fermentans_DSM_20731                        0       0  ...   \n",
       "Lactobacillus_mucosae_LM1                                   0       0  ...   \n",
       "\n",
       "                                                    tCZPpp  tDHNA  tDHNACOA  \\\n",
       "Catenibacterium_mitsuokai_DSM_15897                      0      0         0   \n",
       "Streptococcus_infantarius_subsp_infantarius_ATC...       0      0         0   \n",
       "Actinomyces_urogenitalis_DSM_15434                       0      0         0   \n",
       "Clostridium_dakarense_FF1                                0      0         0   \n",
       "Klebsiella_michiganensis_10_5242                         0      0         0   \n",
       "...                                                    ...    ...       ...   \n",
       "Faecalibacterium_cf_prausnitzii_KLE1255                  0      0         0   \n",
       "Dorea_longicatena_DSM_13814                              0      0         0   \n",
       "Blautia_luti_DSM_14534                                   0      0         0   \n",
       "Acidaminococcus_fermentans_DSM_20731                     1      0         0   \n",
       "Lactobacillus_mucosae_LM1                                0      0         0   \n",
       "\n",
       "                                                    tDHNApp  tNCAP  tNCAPpp  \\\n",
       "Catenibacterium_mitsuokai_DSM_15897                       0      1        0   \n",
       "Streptococcus_infantarius_subsp_infantarius_ATC...        0      1        0   \n",
       "Actinomyces_urogenitalis_DSM_15434                        0      0        0   \n",
       "Clostridium_dakarense_FF1                                 0      0        0   \n",
       "Klebsiella_michiganensis_10_5242                          0      0        0   \n",
       "...                                                     ...    ...      ...   \n",
       "Faecalibacterium_cf_prausnitzii_KLE1255                   0      1        0   \n",
       "Dorea_longicatena_DSM_13814                               0      1        0   \n",
       "Blautia_luti_DSM_14534                                    0      0        0   \n",
       "Acidaminococcus_fermentans_DSM_20731                      0      0        1   \n",
       "Lactobacillus_mucosae_LM1                                 0      1        0   \n",
       "\n",
       "                                                    tNZP  tNZPpp  tSBZCOApp  \\\n",
       "Catenibacterium_mitsuokai_DSM_15897                    1       0          0   \n",
       "Streptococcus_infantarius_subsp_infantarius_ATC...     1       0          0   \n",
       "Actinomyces_urogenitalis_DSM_15434                     0       0          0   \n",
       "Clostridium_dakarense_FF1                              0       0          0   \n",
       "Klebsiella_michiganensis_10_5242                       0       0          0   \n",
       "...                                                  ...     ...        ...   \n",
       "Faecalibacterium_cf_prausnitzii_KLE1255                1       0          0   \n",
       "Dorea_longicatena_DSM_13814                            1       0          0   \n",
       "Blautia_luti_DSM_14534                                 0       0          0   \n",
       "Acidaminococcus_fermentans_DSM_20731                   0       1          0   \n",
       "Lactobacillus_mucosae_LM1                              1       0          0   \n",
       "\n",
       "                                                    tSUCBZ  \n",
       "Catenibacterium_mitsuokai_DSM_15897                      0  \n",
       "Streptococcus_infantarius_subsp_infantarius_ATC...       0  \n",
       "Actinomyces_urogenitalis_DSM_15434                       1  \n",
       "Clostridium_dakarense_FF1                                0  \n",
       "Klebsiella_michiganensis_10_5242                         0  \n",
       "...                                                    ...  \n",
       "Faecalibacterium_cf_prausnitzii_KLE1255                  0  \n",
       "Dorea_longicatena_DSM_13814                              0  \n",
       "Blautia_luti_DSM_14534                                   0  \n",
       "Acidaminococcus_fermentans_DSM_20731                     0  \n",
       "Lactobacillus_mucosae_LM1                                0  \n",
       "\n",
       "[207 rows x 7531 columns]"
      ]
     },
     "execution_count": 13,
     "metadata": {},
     "output_type": "execute_result"
    }
   ],
   "source": [
    "matrix"
   ]
  },
  {
   "cell_type": "code",
   "execution_count": null,
   "id": "b0bad8f6-2817-40f6-8240-275fb3b6359e",
   "metadata": {},
   "outputs": [],
   "source": [
    "######Dont Runnn###### we already did it \n",
    "#Create X_B matrix\n",
    "\n",
    "X_B = Braken_data_df3.iloc[:,3:-1] #This is our braken data (out of order for species)\n",
    "X_B.rename(columns={'Escherichia coli_x': 'Escherichia coli'}, inplace=True) # the taxid matches so we will change the name so we can have it in our matrix\n",
    "\n",
    "\n",
    "#we now need to match the species to species with models\n",
    "Single_model_Braken_Agora_df_clean = Single_model_Braken_Agora_df.copy()\n",
    "Single_model_Braken_Agora_df_clean['Species']=Single_model_Braken_Agora_df_clean['Species'].str.replace('no match:','',case=False,regex=False) #clean up species name\n",
    "Single_model_Braken_Agora_df_clean_copy = Single_model_Braken_Agora_df_clean.copy()\n",
    "\n",
    "species_list = list(Single_model_Braken_Agora_df_clean['Species'])  #list of species with model with same order as our metabolic model dictionary list\n",
    "mask = X_B.columns.isin(species_list)\n",
    "false_columns = X_B.columns[~mask]\n",
    "X_B = X_B.drop(columns=false_columns)\n",
    "\n",
    "# Get the species names from X_B columns\n",
    "x_b_species = X_B.columns.tolist()\n",
    "\n",
    "# Filter Single_model_Braken_Agora_df_clean_copy to retain only rows with matching species in X_B\n",
    "Single_model_Braken_Agora_df_clean_filtered = Single_model_Braken_Agora_df_clean_copy[\n",
    "    Single_model_Braken_Agora_df_clean_copy['Species'].isin(x_b_species)\n",
    "]\n",
    "Single_model_Braken_Agora_df_clean_filtered = Single_model_Braken_Agora_df_clean_filtered.drop(columns='index')\n",
    "correct_order_species_list = list(Single_model_Braken_Agora_df_clean_filtered['Species'])\n",
    "\n",
    "#reorder Xb to match braken_agora_model list order\n",
    "X_B=X_B[correct_order_species_list] \n"
   ]
  },
  {
   "cell_type": "markdown",
   "id": "7a1ecd87-c109-4933-835d-f299ad7cd065",
   "metadata": {},
   "source": [
    "### Get Matrix B : species vs Agora models"
   ]
  },
  {
   "cell_type": "code",
   "execution_count": 16,
   "id": "875ab137-63c8-426e-b58f-e360cc265fce",
   "metadata": {},
   "outputs": [
    {
     "data": {
      "text/html": [
       "<div>\n",
       "<style scoped>\n",
       "    .dataframe tbody tr th:only-of-type {\n",
       "        vertical-align: middle;\n",
       "    }\n",
       "\n",
       "    .dataframe tbody tr th {\n",
       "        vertical-align: top;\n",
       "    }\n",
       "\n",
       "    .dataframe thead th {\n",
       "        text-align: right;\n",
       "    }\n",
       "</style>\n",
       "<table border=\"1\" class=\"dataframe\">\n",
       "  <thead>\n",
       "    <tr style=\"text-align: right;\">\n",
       "      <th></th>\n",
       "      <th>Catenibacterium_mitsuokai_DSM_15897</th>\n",
       "      <th>Streptococcus_infantarius_subsp_infantarius_ATCC_BAA_102</th>\n",
       "      <th>Actinomyces_urogenitalis_DSM_15434</th>\n",
       "      <th>Clostridium_dakarense_FF1</th>\n",
       "      <th>Klebsiella_michiganensis_10_5242</th>\n",
       "      <th>Ruminococcus_bicirculans_80_3</th>\n",
       "      <th>Coprococcus_catus_ERR2221258</th>\n",
       "      <th>Ruminococcus_champanellensis_18P13</th>\n",
       "      <th>Megasphaera_massiliensis_NP3</th>\n",
       "      <th>Leuconostoc_argentinum_KCTC_3773</th>\n",
       "      <th>...</th>\n",
       "      <th>Bacteroides_uniformis_ATCC_8492</th>\n",
       "      <th>Bacteroides_vulgatus_ATCC_8482</th>\n",
       "      <th>Parabacteroides_distasonis_ATCC_8503</th>\n",
       "      <th>Succinivibrio_dextrinosolvens_H5</th>\n",
       "      <th>Fusobacterium_mortiferum_ATCC_9817</th>\n",
       "      <th>Faecalibacterium_cf_prausnitzii_KLE1255</th>\n",
       "      <th>Dorea_longicatena_DSM_13814</th>\n",
       "      <th>Blautia_luti_DSM_14534</th>\n",
       "      <th>Acidaminococcus_fermentans_DSM_20731</th>\n",
       "      <th>Lactobacillus_mucosae_LM1</th>\n",
       "    </tr>\n",
       "  </thead>\n",
       "  <tbody>\n",
       "    <tr>\n",
       "      <th>Catenibacterium mitsuokai</th>\n",
       "      <td>1</td>\n",
       "      <td>0</td>\n",
       "      <td>0</td>\n",
       "      <td>0</td>\n",
       "      <td>0</td>\n",
       "      <td>0</td>\n",
       "      <td>0</td>\n",
       "      <td>0</td>\n",
       "      <td>0</td>\n",
       "      <td>0</td>\n",
       "      <td>...</td>\n",
       "      <td>0</td>\n",
       "      <td>0</td>\n",
       "      <td>0</td>\n",
       "      <td>0</td>\n",
       "      <td>0</td>\n",
       "      <td>0</td>\n",
       "      <td>0</td>\n",
       "      <td>0</td>\n",
       "      <td>0</td>\n",
       "      <td>0</td>\n",
       "    </tr>\n",
       "    <tr>\n",
       "      <th>Streptococcus infantarius</th>\n",
       "      <td>0</td>\n",
       "      <td>1</td>\n",
       "      <td>0</td>\n",
       "      <td>0</td>\n",
       "      <td>0</td>\n",
       "      <td>0</td>\n",
       "      <td>0</td>\n",
       "      <td>0</td>\n",
       "      <td>0</td>\n",
       "      <td>0</td>\n",
       "      <td>...</td>\n",
       "      <td>0</td>\n",
       "      <td>0</td>\n",
       "      <td>0</td>\n",
       "      <td>0</td>\n",
       "      <td>0</td>\n",
       "      <td>0</td>\n",
       "      <td>0</td>\n",
       "      <td>0</td>\n",
       "      <td>0</td>\n",
       "      <td>0</td>\n",
       "    </tr>\n",
       "    <tr>\n",
       "      <th>Actinomyces urogenitalis</th>\n",
       "      <td>0</td>\n",
       "      <td>0</td>\n",
       "      <td>1</td>\n",
       "      <td>0</td>\n",
       "      <td>0</td>\n",
       "      <td>0</td>\n",
       "      <td>0</td>\n",
       "      <td>0</td>\n",
       "      <td>0</td>\n",
       "      <td>0</td>\n",
       "      <td>...</td>\n",
       "      <td>0</td>\n",
       "      <td>0</td>\n",
       "      <td>0</td>\n",
       "      <td>0</td>\n",
       "      <td>0</td>\n",
       "      <td>0</td>\n",
       "      <td>0</td>\n",
       "      <td>0</td>\n",
       "      <td>0</td>\n",
       "      <td>0</td>\n",
       "    </tr>\n",
       "    <tr>\n",
       "      <th>Romboutsia ilealis</th>\n",
       "      <td>0</td>\n",
       "      <td>0</td>\n",
       "      <td>0</td>\n",
       "      <td>1</td>\n",
       "      <td>0</td>\n",
       "      <td>0</td>\n",
       "      <td>0</td>\n",
       "      <td>0</td>\n",
       "      <td>0</td>\n",
       "      <td>0</td>\n",
       "      <td>...</td>\n",
       "      <td>0</td>\n",
       "      <td>0</td>\n",
       "      <td>0</td>\n",
       "      <td>0</td>\n",
       "      <td>0</td>\n",
       "      <td>0</td>\n",
       "      <td>0</td>\n",
       "      <td>0</td>\n",
       "      <td>0</td>\n",
       "      <td>0</td>\n",
       "    </tr>\n",
       "    <tr>\n",
       "      <th>Klebsiella michiganensis</th>\n",
       "      <td>0</td>\n",
       "      <td>0</td>\n",
       "      <td>0</td>\n",
       "      <td>0</td>\n",
       "      <td>1</td>\n",
       "      <td>0</td>\n",
       "      <td>0</td>\n",
       "      <td>0</td>\n",
       "      <td>0</td>\n",
       "      <td>0</td>\n",
       "      <td>...</td>\n",
       "      <td>0</td>\n",
       "      <td>0</td>\n",
       "      <td>0</td>\n",
       "      <td>0</td>\n",
       "      <td>0</td>\n",
       "      <td>0</td>\n",
       "      <td>0</td>\n",
       "      <td>0</td>\n",
       "      <td>0</td>\n",
       "      <td>0</td>\n",
       "    </tr>\n",
       "    <tr>\n",
       "      <th>...</th>\n",
       "      <td>...</td>\n",
       "      <td>...</td>\n",
       "      <td>...</td>\n",
       "      <td>...</td>\n",
       "      <td>...</td>\n",
       "      <td>...</td>\n",
       "      <td>...</td>\n",
       "      <td>...</td>\n",
       "      <td>...</td>\n",
       "      <td>...</td>\n",
       "      <td>...</td>\n",
       "      <td>...</td>\n",
       "      <td>...</td>\n",
       "      <td>...</td>\n",
       "      <td>...</td>\n",
       "      <td>...</td>\n",
       "      <td>...</td>\n",
       "      <td>...</td>\n",
       "      <td>...</td>\n",
       "      <td>...</td>\n",
       "      <td>...</td>\n",
       "    </tr>\n",
       "    <tr>\n",
       "      <th>Dorea longicatena</th>\n",
       "      <td>0</td>\n",
       "      <td>0</td>\n",
       "      <td>0</td>\n",
       "      <td>0</td>\n",
       "      <td>0</td>\n",
       "      <td>0</td>\n",
       "      <td>0</td>\n",
       "      <td>0</td>\n",
       "      <td>0</td>\n",
       "      <td>0</td>\n",
       "      <td>...</td>\n",
       "      <td>0</td>\n",
       "      <td>0</td>\n",
       "      <td>0</td>\n",
       "      <td>0</td>\n",
       "      <td>0</td>\n",
       "      <td>0</td>\n",
       "      <td>1</td>\n",
       "      <td>0</td>\n",
       "      <td>0</td>\n",
       "      <td>0</td>\n",
       "    </tr>\n",
       "    <tr>\n",
       "      <th>Blautia luti</th>\n",
       "      <td>0</td>\n",
       "      <td>0</td>\n",
       "      <td>0</td>\n",
       "      <td>0</td>\n",
       "      <td>0</td>\n",
       "      <td>0</td>\n",
       "      <td>0</td>\n",
       "      <td>0</td>\n",
       "      <td>0</td>\n",
       "      <td>0</td>\n",
       "      <td>...</td>\n",
       "      <td>0</td>\n",
       "      <td>0</td>\n",
       "      <td>0</td>\n",
       "      <td>0</td>\n",
       "      <td>0</td>\n",
       "      <td>0</td>\n",
       "      <td>0</td>\n",
       "      <td>1</td>\n",
       "      <td>0</td>\n",
       "      <td>0</td>\n",
       "    </tr>\n",
       "    <tr>\n",
       "      <th>Acidaminococcus fermentans</th>\n",
       "      <td>0</td>\n",
       "      <td>0</td>\n",
       "      <td>0</td>\n",
       "      <td>0</td>\n",
       "      <td>0</td>\n",
       "      <td>0</td>\n",
       "      <td>0</td>\n",
       "      <td>0</td>\n",
       "      <td>0</td>\n",
       "      <td>0</td>\n",
       "      <td>...</td>\n",
       "      <td>0</td>\n",
       "      <td>0</td>\n",
       "      <td>0</td>\n",
       "      <td>0</td>\n",
       "      <td>0</td>\n",
       "      <td>0</td>\n",
       "      <td>0</td>\n",
       "      <td>0</td>\n",
       "      <td>1</td>\n",
       "      <td>0</td>\n",
       "    </tr>\n",
       "    <tr>\n",
       "      <th>Megasphaera elsdenii</th>\n",
       "      <td>0</td>\n",
       "      <td>0</td>\n",
       "      <td>0</td>\n",
       "      <td>0</td>\n",
       "      <td>0</td>\n",
       "      <td>0</td>\n",
       "      <td>0</td>\n",
       "      <td>0</td>\n",
       "      <td>0</td>\n",
       "      <td>0</td>\n",
       "      <td>...</td>\n",
       "      <td>0</td>\n",
       "      <td>0</td>\n",
       "      <td>0</td>\n",
       "      <td>0</td>\n",
       "      <td>0</td>\n",
       "      <td>0</td>\n",
       "      <td>0</td>\n",
       "      <td>0</td>\n",
       "      <td>0</td>\n",
       "      <td>0</td>\n",
       "    </tr>\n",
       "    <tr>\n",
       "      <th>Limosilactobacillus mucosae</th>\n",
       "      <td>0</td>\n",
       "      <td>0</td>\n",
       "      <td>0</td>\n",
       "      <td>0</td>\n",
       "      <td>0</td>\n",
       "      <td>0</td>\n",
       "      <td>0</td>\n",
       "      <td>0</td>\n",
       "      <td>0</td>\n",
       "      <td>0</td>\n",
       "      <td>...</td>\n",
       "      <td>0</td>\n",
       "      <td>0</td>\n",
       "      <td>0</td>\n",
       "      <td>0</td>\n",
       "      <td>0</td>\n",
       "      <td>0</td>\n",
       "      <td>0</td>\n",
       "      <td>0</td>\n",
       "      <td>0</td>\n",
       "      <td>1</td>\n",
       "    </tr>\n",
       "  </tbody>\n",
       "</table>\n",
       "<p>256 rows × 207 columns</p>\n",
       "</div>"
      ],
      "text/plain": [
       "                             Catenibacterium_mitsuokai_DSM_15897  \\\n",
       "Catenibacterium mitsuokai                                      1   \n",
       "Streptococcus infantarius                                      0   \n",
       "Actinomyces urogenitalis                                       0   \n",
       "Romboutsia ilealis                                             0   \n",
       "Klebsiella michiganensis                                       0   \n",
       "...                                                          ...   \n",
       "Dorea longicatena                                              0   \n",
       "Blautia luti                                                   0   \n",
       "Acidaminococcus fermentans                                     0   \n",
       "Megasphaera elsdenii                                           0   \n",
       "Limosilactobacillus mucosae                                    0   \n",
       "\n",
       "                             Streptococcus_infantarius_subsp_infantarius_ATCC_BAA_102  \\\n",
       "Catenibacterium mitsuokai                                                    0          \n",
       "Streptococcus infantarius                                                    1          \n",
       "Actinomyces urogenitalis                                                     0          \n",
       "Romboutsia ilealis                                                           0          \n",
       "Klebsiella michiganensis                                                     0          \n",
       "...                                                                        ...          \n",
       "Dorea longicatena                                                            0          \n",
       "Blautia luti                                                                 0          \n",
       "Acidaminococcus fermentans                                                   0          \n",
       "Megasphaera elsdenii                                                         0          \n",
       "Limosilactobacillus mucosae                                                  0          \n",
       "\n",
       "                             Actinomyces_urogenitalis_DSM_15434  \\\n",
       "Catenibacterium mitsuokai                                     0   \n",
       "Streptococcus infantarius                                     0   \n",
       "Actinomyces urogenitalis                                      1   \n",
       "Romboutsia ilealis                                            0   \n",
       "Klebsiella michiganensis                                      0   \n",
       "...                                                         ...   \n",
       "Dorea longicatena                                             0   \n",
       "Blautia luti                                                  0   \n",
       "Acidaminococcus fermentans                                    0   \n",
       "Megasphaera elsdenii                                          0   \n",
       "Limosilactobacillus mucosae                                   0   \n",
       "\n",
       "                             Clostridium_dakarense_FF1  \\\n",
       "Catenibacterium mitsuokai                            0   \n",
       "Streptococcus infantarius                            0   \n",
       "Actinomyces urogenitalis                             0   \n",
       "Romboutsia ilealis                                   1   \n",
       "Klebsiella michiganensis                             0   \n",
       "...                                                ...   \n",
       "Dorea longicatena                                    0   \n",
       "Blautia luti                                         0   \n",
       "Acidaminococcus fermentans                           0   \n",
       "Megasphaera elsdenii                                 0   \n",
       "Limosilactobacillus mucosae                          0   \n",
       "\n",
       "                             Klebsiella_michiganensis_10_5242  \\\n",
       "Catenibacterium mitsuokai                                   0   \n",
       "Streptococcus infantarius                                   0   \n",
       "Actinomyces urogenitalis                                    0   \n",
       "Romboutsia ilealis                                          0   \n",
       "Klebsiella michiganensis                                    1   \n",
       "...                                                       ...   \n",
       "Dorea longicatena                                           0   \n",
       "Blautia luti                                                0   \n",
       "Acidaminococcus fermentans                                  0   \n",
       "Megasphaera elsdenii                                        0   \n",
       "Limosilactobacillus mucosae                                 0   \n",
       "\n",
       "                             Ruminococcus_bicirculans_80_3  \\\n",
       "Catenibacterium mitsuokai                                0   \n",
       "Streptococcus infantarius                                0   \n",
       "Actinomyces urogenitalis                                 0   \n",
       "Romboutsia ilealis                                       0   \n",
       "Klebsiella michiganensis                                 0   \n",
       "...                                                    ...   \n",
       "Dorea longicatena                                        0   \n",
       "Blautia luti                                             0   \n",
       "Acidaminococcus fermentans                               0   \n",
       "Megasphaera elsdenii                                     0   \n",
       "Limosilactobacillus mucosae                              0   \n",
       "\n",
       "                             Coprococcus_catus_ERR2221258  \\\n",
       "Catenibacterium mitsuokai                               0   \n",
       "Streptococcus infantarius                               0   \n",
       "Actinomyces urogenitalis                                0   \n",
       "Romboutsia ilealis                                      0   \n",
       "Klebsiella michiganensis                                0   \n",
       "...                                                   ...   \n",
       "Dorea longicatena                                       0   \n",
       "Blautia luti                                            0   \n",
       "Acidaminococcus fermentans                              0   \n",
       "Megasphaera elsdenii                                    0   \n",
       "Limosilactobacillus mucosae                             0   \n",
       "\n",
       "                             Ruminococcus_champanellensis_18P13  \\\n",
       "Catenibacterium mitsuokai                                     0   \n",
       "Streptococcus infantarius                                     0   \n",
       "Actinomyces urogenitalis                                      0   \n",
       "Romboutsia ilealis                                            0   \n",
       "Klebsiella michiganensis                                      0   \n",
       "...                                                         ...   \n",
       "Dorea longicatena                                             0   \n",
       "Blautia luti                                                  0   \n",
       "Acidaminococcus fermentans                                    0   \n",
       "Megasphaera elsdenii                                          0   \n",
       "Limosilactobacillus mucosae                                   0   \n",
       "\n",
       "                             Megasphaera_massiliensis_NP3  \\\n",
       "Catenibacterium mitsuokai                               0   \n",
       "Streptococcus infantarius                               0   \n",
       "Actinomyces urogenitalis                                0   \n",
       "Romboutsia ilealis                                      0   \n",
       "Klebsiella michiganensis                                0   \n",
       "...                                                   ...   \n",
       "Dorea longicatena                                       0   \n",
       "Blautia luti                                            0   \n",
       "Acidaminococcus fermentans                              0   \n",
       "Megasphaera elsdenii                                    0   \n",
       "Limosilactobacillus mucosae                             0   \n",
       "\n",
       "                             Leuconostoc_argentinum_KCTC_3773  ...  \\\n",
       "Catenibacterium mitsuokai                                   0  ...   \n",
       "Streptococcus infantarius                                   0  ...   \n",
       "Actinomyces urogenitalis                                    0  ...   \n",
       "Romboutsia ilealis                                          0  ...   \n",
       "Klebsiella michiganensis                                    0  ...   \n",
       "...                                                       ...  ...   \n",
       "Dorea longicatena                                           0  ...   \n",
       "Blautia luti                                                0  ...   \n",
       "Acidaminococcus fermentans                                  0  ...   \n",
       "Megasphaera elsdenii                                        0  ...   \n",
       "Limosilactobacillus mucosae                                 0  ...   \n",
       "\n",
       "                             Bacteroides_uniformis_ATCC_8492  \\\n",
       "Catenibacterium mitsuokai                                  0   \n",
       "Streptococcus infantarius                                  0   \n",
       "Actinomyces urogenitalis                                   0   \n",
       "Romboutsia ilealis                                         0   \n",
       "Klebsiella michiganensis                                   0   \n",
       "...                                                      ...   \n",
       "Dorea longicatena                                          0   \n",
       "Blautia luti                                               0   \n",
       "Acidaminococcus fermentans                                 0   \n",
       "Megasphaera elsdenii                                       0   \n",
       "Limosilactobacillus mucosae                                0   \n",
       "\n",
       "                             Bacteroides_vulgatus_ATCC_8482  \\\n",
       "Catenibacterium mitsuokai                                 0   \n",
       "Streptococcus infantarius                                 0   \n",
       "Actinomyces urogenitalis                                  0   \n",
       "Romboutsia ilealis                                        0   \n",
       "Klebsiella michiganensis                                  0   \n",
       "...                                                     ...   \n",
       "Dorea longicatena                                         0   \n",
       "Blautia luti                                              0   \n",
       "Acidaminococcus fermentans                                0   \n",
       "Megasphaera elsdenii                                      0   \n",
       "Limosilactobacillus mucosae                               0   \n",
       "\n",
       "                             Parabacteroides_distasonis_ATCC_8503  \\\n",
       "Catenibacterium mitsuokai                                       0   \n",
       "Streptococcus infantarius                                       0   \n",
       "Actinomyces urogenitalis                                        0   \n",
       "Romboutsia ilealis                                              0   \n",
       "Klebsiella michiganensis                                        0   \n",
       "...                                                           ...   \n",
       "Dorea longicatena                                               0   \n",
       "Blautia luti                                                    0   \n",
       "Acidaminococcus fermentans                                      0   \n",
       "Megasphaera elsdenii                                            0   \n",
       "Limosilactobacillus mucosae                                     0   \n",
       "\n",
       "                             Succinivibrio_dextrinosolvens_H5  \\\n",
       "Catenibacterium mitsuokai                                   0   \n",
       "Streptococcus infantarius                                   0   \n",
       "Actinomyces urogenitalis                                    0   \n",
       "Romboutsia ilealis                                          0   \n",
       "Klebsiella michiganensis                                    0   \n",
       "...                                                       ...   \n",
       "Dorea longicatena                                           0   \n",
       "Blautia luti                                                0   \n",
       "Acidaminococcus fermentans                                  0   \n",
       "Megasphaera elsdenii                                        0   \n",
       "Limosilactobacillus mucosae                                 0   \n",
       "\n",
       "                             Fusobacterium_mortiferum_ATCC_9817  \\\n",
       "Catenibacterium mitsuokai                                     0   \n",
       "Streptococcus infantarius                                     0   \n",
       "Actinomyces urogenitalis                                      0   \n",
       "Romboutsia ilealis                                            0   \n",
       "Klebsiella michiganensis                                      0   \n",
       "...                                                         ...   \n",
       "Dorea longicatena                                             0   \n",
       "Blautia luti                                                  0   \n",
       "Acidaminococcus fermentans                                    0   \n",
       "Megasphaera elsdenii                                          0   \n",
       "Limosilactobacillus mucosae                                   0   \n",
       "\n",
       "                             Faecalibacterium_cf_prausnitzii_KLE1255  \\\n",
       "Catenibacterium mitsuokai                                          0   \n",
       "Streptococcus infantarius                                          0   \n",
       "Actinomyces urogenitalis                                           0   \n",
       "Romboutsia ilealis                                                 0   \n",
       "Klebsiella michiganensis                                           0   \n",
       "...                                                              ...   \n",
       "Dorea longicatena                                                  0   \n",
       "Blautia luti                                                       0   \n",
       "Acidaminococcus fermentans                                         0   \n",
       "Megasphaera elsdenii                                               0   \n",
       "Limosilactobacillus mucosae                                        0   \n",
       "\n",
       "                             Dorea_longicatena_DSM_13814  \\\n",
       "Catenibacterium mitsuokai                              0   \n",
       "Streptococcus infantarius                              0   \n",
       "Actinomyces urogenitalis                               0   \n",
       "Romboutsia ilealis                                     0   \n",
       "Klebsiella michiganensis                               0   \n",
       "...                                                  ...   \n",
       "Dorea longicatena                                      1   \n",
       "Blautia luti                                           0   \n",
       "Acidaminococcus fermentans                             0   \n",
       "Megasphaera elsdenii                                   0   \n",
       "Limosilactobacillus mucosae                            0   \n",
       "\n",
       "                             Blautia_luti_DSM_14534  \\\n",
       "Catenibacterium mitsuokai                         0   \n",
       "Streptococcus infantarius                         0   \n",
       "Actinomyces urogenitalis                          0   \n",
       "Romboutsia ilealis                                0   \n",
       "Klebsiella michiganensis                          0   \n",
       "...                                             ...   \n",
       "Dorea longicatena                                 0   \n",
       "Blautia luti                                      1   \n",
       "Acidaminococcus fermentans                        0   \n",
       "Megasphaera elsdenii                              0   \n",
       "Limosilactobacillus mucosae                       0   \n",
       "\n",
       "                             Acidaminococcus_fermentans_DSM_20731  \\\n",
       "Catenibacterium mitsuokai                                       0   \n",
       "Streptococcus infantarius                                       0   \n",
       "Actinomyces urogenitalis                                        0   \n",
       "Romboutsia ilealis                                              0   \n",
       "Klebsiella michiganensis                                        0   \n",
       "...                                                           ...   \n",
       "Dorea longicatena                                               0   \n",
       "Blautia luti                                                    0   \n",
       "Acidaminococcus fermentans                                      1   \n",
       "Megasphaera elsdenii                                            0   \n",
       "Limosilactobacillus mucosae                                     0   \n",
       "\n",
       "                             Lactobacillus_mucosae_LM1  \n",
       "Catenibacterium mitsuokai                            0  \n",
       "Streptococcus infantarius                            0  \n",
       "Actinomyces urogenitalis                             0  \n",
       "Romboutsia ilealis                                   0  \n",
       "Klebsiella michiganensis                             0  \n",
       "...                                                ...  \n",
       "Dorea longicatena                                    0  \n",
       "Blautia luti                                         0  \n",
       "Acidaminococcus fermentans                           0  \n",
       "Megasphaera elsdenii                                 0  \n",
       "Limosilactobacillus mucosae                          1  \n",
       "\n",
       "[256 rows x 207 columns]"
      ]
     },
     "execution_count": 16,
     "metadata": {},
     "output_type": "execute_result"
    }
   ],
   "source": [
    "# Initialize a DataFrame with zeros\n",
    "Matrix_B = pd.DataFrame(0, index=correct_order_species_list, columns=loaded_models_short_dict.keys())\n",
    "\n",
    "# Iterate over each species in the filtered DataFrame\n",
    "for species in correct_order_species_list:\n",
    "    # Check if the species has a corresponding model in the loaded_models_short_dict\n",
    "    models_for_species = Single_model_Braken_Agora_df.loc[\n",
    "        Single_model_Braken_Agora_df['Species'] == species,\n",
    "        'Model'\n",
    "    ]\n",
    "\n",
    "    # Populate Matrix_B based on the presence of models\n",
    "    for model in loaded_models_short_dict.keys():\n",
    "        if model in models_for_species.values:  # Check if the model is in the list of models for this species\n",
    "            Matrix_B.at[species, model] = 1  # Set to 1 if the model is found\n",
    "        else:\n",
    "            Matrix_B.at[species, model] = 0  # Set to 0 if the model is not found\n",
    "\n",
    "\n",
    "Matrix_B"
   ]
  },
  {
   "cell_type": "markdown",
   "id": "e4b42a52-a779-4672-9e95-1dfe720988fa",
   "metadata": {},
   "source": [
    "### Now lets do X_r = X_B*B*A"
   ]
  },
  {
   "cell_type": "code",
   "execution_count": 17,
   "id": "550e4a89-6698-4594-be2f-22d919f7e242",
   "metadata": {},
   "outputs": [
    {
     "data": {
      "text/plain": [
       "Catenibacterium_mitsuokai_DSM_15897                          985\n",
       "Streptococcus_infantarius_subsp_infantarius_ATCC_BAA_102    1009\n",
       "Actinomyces_urogenitalis_DSM_15434                          1166\n",
       "Clostridium_dakarense_FF1                                   1157\n",
       "Klebsiella_michiganensis_10_5242                            1941\n",
       "                                                            ... \n",
       "Faecalibacterium_cf_prausnitzii_KLE1255                     1890\n",
       "Dorea_longicatena_DSM_13814                                 1044\n",
       "Blautia_luti_DSM_14534                                      1217\n",
       "Acidaminococcus_fermentans_DSM_20731                        1231\n",
       "Lactobacillus_mucosae_LM1                                   1038\n",
       "Length: 207, dtype: int64"
      ]
     },
     "execution_count": 17,
     "metadata": {},
     "output_type": "execute_result"
    }
   ],
   "source": [
    "Matrix_A = matrix\n",
    "Matrix_A.sum(axis=1)"
   ]
  },
  {
   "cell_type": "code",
   "execution_count": null,
   "id": "2cae6f7c-98fa-476d-94bc-68964e4f32d6",
   "metadata": {},
   "outputs": [],
   "source": [
    "Matrix_B"
   ]
  },
  {
   "cell_type": "code",
   "execution_count": null,
   "id": "2650257a-6c3d-47f3-ade4-5da191876d95",
   "metadata": {},
   "outputs": [],
   "source": [
    "X_B"
   ]
  },
  {
   "cell_type": "code",
   "execution_count": 26,
   "id": "63a4a823-c3e1-4bac-8a67-ece932bcffa3",
   "metadata": {},
   "outputs": [
    {
     "data": {
      "text/html": [
       "<div>\n",
       "<style scoped>\n",
       "    .dataframe tbody tr th:only-of-type {\n",
       "        vertical-align: middle;\n",
       "    }\n",
       "\n",
       "    .dataframe tbody tr th {\n",
       "        vertical-align: top;\n",
       "    }\n",
       "\n",
       "    .dataframe thead th {\n",
       "        text-align: right;\n",
       "    }\n",
       "</style>\n",
       "<table border=\"1\" class=\"dataframe\">\n",
       "  <thead>\n",
       "    <tr style=\"text-align: right;\">\n",
       "      <th></th>\n",
       "      <th>12DGR180tex</th>\n",
       "      <th>12DGR180ti</th>\n",
       "      <th>12DGR180tipp</th>\n",
       "      <th>12PPDSDH</th>\n",
       "      <th>12PPD_Stex</th>\n",
       "      <th>12PPDt</th>\n",
       "      <th>12PPDtpp</th>\n",
       "      <th>12aHSDHe</th>\n",
       "      <th>13DAMPPOX</th>\n",
       "      <th>13PPDH</th>\n",
       "      <th>...</th>\n",
       "      <th>tCZPpp</th>\n",
       "      <th>tDHNA</th>\n",
       "      <th>tDHNACOA</th>\n",
       "      <th>tDHNApp</th>\n",
       "      <th>tNCAP</th>\n",
       "      <th>tNCAPpp</th>\n",
       "      <th>tNZP</th>\n",
       "      <th>tNZPpp</th>\n",
       "      <th>tSBZCOApp</th>\n",
       "      <th>tSUCBZ</th>\n",
       "    </tr>\n",
       "  </thead>\n",
       "  <tbody>\n",
       "    <tr>\n",
       "      <th>0</th>\n",
       "      <td>104.2</td>\n",
       "      <td>57449.9</td>\n",
       "      <td>104.2</td>\n",
       "      <td>62045.7</td>\n",
       "      <td>1586.6</td>\n",
       "      <td>268865.6</td>\n",
       "      <td>1586.6</td>\n",
       "      <td>994.7</td>\n",
       "      <td>101.1</td>\n",
       "      <td>676.1</td>\n",
       "      <td>...</td>\n",
       "      <td>234048.2</td>\n",
       "      <td>36760.3</td>\n",
       "      <td>27.0</td>\n",
       "      <td>61.5</td>\n",
       "      <td>163348.2</td>\n",
       "      <td>234048.2</td>\n",
       "      <td>163348.2</td>\n",
       "      <td>234048.2</td>\n",
       "      <td>25.0</td>\n",
       "      <td>0.2</td>\n",
       "    </tr>\n",
       "    <tr>\n",
       "      <th>1</th>\n",
       "      <td>9110.3</td>\n",
       "      <td>99402.0</td>\n",
       "      <td>9110.3</td>\n",
       "      <td>11718.8</td>\n",
       "      <td>252519.3</td>\n",
       "      <td>2682227.6</td>\n",
       "      <td>252519.3</td>\n",
       "      <td>3165.4</td>\n",
       "      <td>363.1</td>\n",
       "      <td>1230.1</td>\n",
       "      <td>...</td>\n",
       "      <td>346259.9</td>\n",
       "      <td>147781.3</td>\n",
       "      <td>0.1</td>\n",
       "      <td>74645.2</td>\n",
       "      <td>217206.8</td>\n",
       "      <td>346259.9</td>\n",
       "      <td>217206.8</td>\n",
       "      <td>346259.9</td>\n",
       "      <td>0.1</td>\n",
       "      <td>220.0</td>\n",
       "    </tr>\n",
       "    <tr>\n",
       "      <th>2</th>\n",
       "      <td>12275.3</td>\n",
       "      <td>78221.3</td>\n",
       "      <td>12275.3</td>\n",
       "      <td>24009.4</td>\n",
       "      <td>17711.7</td>\n",
       "      <td>2851705.4</td>\n",
       "      <td>17711.7</td>\n",
       "      <td>17018.1</td>\n",
       "      <td>65.2</td>\n",
       "      <td>3594.1</td>\n",
       "      <td>...</td>\n",
       "      <td>95890.9</td>\n",
       "      <td>109245.3</td>\n",
       "      <td>29.0</td>\n",
       "      <td>182.3</td>\n",
       "      <td>232946.7</td>\n",
       "      <td>95890.9</td>\n",
       "      <td>232946.7</td>\n",
       "      <td>95890.9</td>\n",
       "      <td>0.1</td>\n",
       "      <td>71775.0</td>\n",
       "    </tr>\n",
       "    <tr>\n",
       "      <th>3</th>\n",
       "      <td>6705.1</td>\n",
       "      <td>106221.5</td>\n",
       "      <td>6705.1</td>\n",
       "      <td>175719.6</td>\n",
       "      <td>18032.2</td>\n",
       "      <td>2324700.4</td>\n",
       "      <td>18032.2</td>\n",
       "      <td>166515.4</td>\n",
       "      <td>47.1</td>\n",
       "      <td>376.1</td>\n",
       "      <td>...</td>\n",
       "      <td>54086.3</td>\n",
       "      <td>95671.4</td>\n",
       "      <td>0.1</td>\n",
       "      <td>10414.1</td>\n",
       "      <td>349265.2</td>\n",
       "      <td>54086.3</td>\n",
       "      <td>349265.2</td>\n",
       "      <td>54086.3</td>\n",
       "      <td>28.0</td>\n",
       "      <td>6894.1</td>\n",
       "    </tr>\n",
       "    <tr>\n",
       "      <th>4</th>\n",
       "      <td>3800.1</td>\n",
       "      <td>17932.5</td>\n",
       "      <td>3800.1</td>\n",
       "      <td>12575.3</td>\n",
       "      <td>831602.8</td>\n",
       "      <td>1081.2</td>\n",
       "      <td>831602.8</td>\n",
       "      <td>252.2</td>\n",
       "      <td>4707.0</td>\n",
       "      <td>6549.2</td>\n",
       "      <td>...</td>\n",
       "      <td>23661.2</td>\n",
       "      <td>1363.3</td>\n",
       "      <td>0.1</td>\n",
       "      <td>1235.3</td>\n",
       "      <td>19306.3</td>\n",
       "      <td>23661.2</td>\n",
       "      <td>19306.3</td>\n",
       "      <td>23661.2</td>\n",
       "      <td>0.1</td>\n",
       "      <td>0.2</td>\n",
       "    </tr>\n",
       "    <tr>\n",
       "      <th>...</th>\n",
       "      <td>...</td>\n",
       "      <td>...</td>\n",
       "      <td>...</td>\n",
       "      <td>...</td>\n",
       "      <td>...</td>\n",
       "      <td>...</td>\n",
       "      <td>...</td>\n",
       "      <td>...</td>\n",
       "      <td>...</td>\n",
       "      <td>...</td>\n",
       "      <td>...</td>\n",
       "      <td>...</td>\n",
       "      <td>...</td>\n",
       "      <td>...</td>\n",
       "      <td>...</td>\n",
       "      <td>...</td>\n",
       "      <td>...</td>\n",
       "      <td>...</td>\n",
       "      <td>...</td>\n",
       "      <td>...</td>\n",
       "      <td>...</td>\n",
       "    </tr>\n",
       "    <tr>\n",
       "      <th>749</th>\n",
       "      <td>12.6</td>\n",
       "      <td>34511.1</td>\n",
       "      <td>12.6</td>\n",
       "      <td>49607.4</td>\n",
       "      <td>5726.7</td>\n",
       "      <td>4143116.4</td>\n",
       "      <td>5726.7</td>\n",
       "      <td>9702.7</td>\n",
       "      <td>188.1</td>\n",
       "      <td>3900.1</td>\n",
       "      <td>...</td>\n",
       "      <td>179889.4</td>\n",
       "      <td>61522.4</td>\n",
       "      <td>16.0</td>\n",
       "      <td>126.3</td>\n",
       "      <td>222722.7</td>\n",
       "      <td>179889.4</td>\n",
       "      <td>222722.7</td>\n",
       "      <td>179889.4</td>\n",
       "      <td>0.1</td>\n",
       "      <td>0.2</td>\n",
       "    </tr>\n",
       "    <tr>\n",
       "      <th>750</th>\n",
       "      <td>13647.0</td>\n",
       "      <td>127787.4</td>\n",
       "      <td>13647.0</td>\n",
       "      <td>46793.4</td>\n",
       "      <td>1387272.7</td>\n",
       "      <td>1513192.1</td>\n",
       "      <td>1387272.7</td>\n",
       "      <td>513665.2</td>\n",
       "      <td>652.1</td>\n",
       "      <td>1864.1</td>\n",
       "      <td>...</td>\n",
       "      <td>232819.6</td>\n",
       "      <td>852762.3</td>\n",
       "      <td>89.0</td>\n",
       "      <td>194358.0</td>\n",
       "      <td>671213.0</td>\n",
       "      <td>232819.6</td>\n",
       "      <td>671213.0</td>\n",
       "      <td>232819.6</td>\n",
       "      <td>900.0</td>\n",
       "      <td>41.0</td>\n",
       "    </tr>\n",
       "    <tr>\n",
       "      <th>751</th>\n",
       "      <td>3859.3</td>\n",
       "      <td>36754.2</td>\n",
       "      <td>3859.3</td>\n",
       "      <td>22594.6</td>\n",
       "      <td>59173.1</td>\n",
       "      <td>3146879.3</td>\n",
       "      <td>59173.1</td>\n",
       "      <td>344285.5</td>\n",
       "      <td>202.0</td>\n",
       "      <td>2237.1</td>\n",
       "      <td>...</td>\n",
       "      <td>40240.0</td>\n",
       "      <td>173020.3</td>\n",
       "      <td>37.0</td>\n",
       "      <td>529.1</td>\n",
       "      <td>424094.1</td>\n",
       "      <td>40240.0</td>\n",
       "      <td>424094.1</td>\n",
       "      <td>40240.0</td>\n",
       "      <td>0.1</td>\n",
       "      <td>21.1</td>\n",
       "    </tr>\n",
       "    <tr>\n",
       "      <th>752</th>\n",
       "      <td>0.7</td>\n",
       "      <td>263777.1</td>\n",
       "      <td>0.7</td>\n",
       "      <td>280769.1</td>\n",
       "      <td>19755.4</td>\n",
       "      <td>5517653.5</td>\n",
       "      <td>19755.4</td>\n",
       "      <td>980.8</td>\n",
       "      <td>2200.0</td>\n",
       "      <td>9128.0</td>\n",
       "      <td>...</td>\n",
       "      <td>103083.8</td>\n",
       "      <td>450946.3</td>\n",
       "      <td>14.0</td>\n",
       "      <td>1413.4</td>\n",
       "      <td>466356.8</td>\n",
       "      <td>103083.8</td>\n",
       "      <td>466356.8</td>\n",
       "      <td>103083.8</td>\n",
       "      <td>0.1</td>\n",
       "      <td>0.2</td>\n",
       "    </tr>\n",
       "    <tr>\n",
       "      <th>753</th>\n",
       "      <td>23269.0</td>\n",
       "      <td>59301.7</td>\n",
       "      <td>23269.0</td>\n",
       "      <td>271208.5</td>\n",
       "      <td>1094275.9</td>\n",
       "      <td>1194513.4</td>\n",
       "      <td>1094275.9</td>\n",
       "      <td>126426.2</td>\n",
       "      <td>54.2</td>\n",
       "      <td>1918.1</td>\n",
       "      <td>...</td>\n",
       "      <td>2197568.7</td>\n",
       "      <td>1081362.5</td>\n",
       "      <td>15.0</td>\n",
       "      <td>2784.0</td>\n",
       "      <td>360737.0</td>\n",
       "      <td>2197568.7</td>\n",
       "      <td>360737.0</td>\n",
       "      <td>2197568.7</td>\n",
       "      <td>11772.0</td>\n",
       "      <td>52.0</td>\n",
       "    </tr>\n",
       "  </tbody>\n",
       "</table>\n",
       "<p>754 rows × 7531 columns</p>\n",
       "</div>"
      ],
      "text/plain": [
       "     12DGR180tex  12DGR180ti  12DGR180tipp  12PPDSDH  12PPD_Stex     12PPDt  \\\n",
       "0          104.2     57449.9         104.2   62045.7      1586.6   268865.6   \n",
       "1         9110.3     99402.0        9110.3   11718.8    252519.3  2682227.6   \n",
       "2        12275.3     78221.3       12275.3   24009.4     17711.7  2851705.4   \n",
       "3         6705.1    106221.5        6705.1  175719.6     18032.2  2324700.4   \n",
       "4         3800.1     17932.5        3800.1   12575.3    831602.8     1081.2   \n",
       "..           ...         ...           ...       ...         ...        ...   \n",
       "749         12.6     34511.1          12.6   49607.4      5726.7  4143116.4   \n",
       "750      13647.0    127787.4       13647.0   46793.4   1387272.7  1513192.1   \n",
       "751       3859.3     36754.2        3859.3   22594.6     59173.1  3146879.3   \n",
       "752          0.7    263777.1           0.7  280769.1     19755.4  5517653.5   \n",
       "753      23269.0     59301.7       23269.0  271208.5   1094275.9  1194513.4   \n",
       "\n",
       "      12PPDtpp  12aHSDHe  13DAMPPOX  13PPDH  ...     tCZPpp      tDHNA  \\\n",
       "0       1586.6     994.7      101.1   676.1  ...   234048.2    36760.3   \n",
       "1     252519.3    3165.4      363.1  1230.1  ...   346259.9   147781.3   \n",
       "2      17711.7   17018.1       65.2  3594.1  ...    95890.9   109245.3   \n",
       "3      18032.2  166515.4       47.1   376.1  ...    54086.3    95671.4   \n",
       "4     831602.8     252.2     4707.0  6549.2  ...    23661.2     1363.3   \n",
       "..         ...       ...        ...     ...  ...        ...        ...   \n",
       "749     5726.7    9702.7      188.1  3900.1  ...   179889.4    61522.4   \n",
       "750  1387272.7  513665.2      652.1  1864.1  ...   232819.6   852762.3   \n",
       "751    59173.1  344285.5      202.0  2237.1  ...    40240.0   173020.3   \n",
       "752    19755.4     980.8     2200.0  9128.0  ...   103083.8   450946.3   \n",
       "753  1094275.9  126426.2       54.2  1918.1  ...  2197568.7  1081362.5   \n",
       "\n",
       "     tDHNACOA   tDHNApp     tNCAP    tNCAPpp      tNZP     tNZPpp  tSBZCOApp  \\\n",
       "0        27.0      61.5  163348.2   234048.2  163348.2   234048.2       25.0   \n",
       "1         0.1   74645.2  217206.8   346259.9  217206.8   346259.9        0.1   \n",
       "2        29.0     182.3  232946.7    95890.9  232946.7    95890.9        0.1   \n",
       "3         0.1   10414.1  349265.2    54086.3  349265.2    54086.3       28.0   \n",
       "4         0.1    1235.3   19306.3    23661.2   19306.3    23661.2        0.1   \n",
       "..        ...       ...       ...        ...       ...        ...        ...   \n",
       "749      16.0     126.3  222722.7   179889.4  222722.7   179889.4        0.1   \n",
       "750      89.0  194358.0  671213.0   232819.6  671213.0   232819.6      900.0   \n",
       "751      37.0     529.1  424094.1    40240.0  424094.1    40240.0        0.1   \n",
       "752      14.0    1413.4  466356.8   103083.8  466356.8   103083.8        0.1   \n",
       "753      15.0    2784.0  360737.0  2197568.7  360737.0  2197568.7    11772.0   \n",
       "\n",
       "      tSUCBZ  \n",
       "0        0.2  \n",
       "1      220.0  \n",
       "2    71775.0  \n",
       "3     6894.1  \n",
       "4        0.2  \n",
       "..       ...  \n",
       "749      0.2  \n",
       "750     41.0  \n",
       "751     21.1  \n",
       "752      0.2  \n",
       "753     52.0  \n",
       "\n",
       "[754 rows x 7531 columns]"
      ]
     },
     "execution_count": 26,
     "metadata": {},
     "output_type": "execute_result"
    }
   ],
   "source": [
    "X_BB = X_B.dot(Matrix_B)\n",
    "X_R = X_BB.dot(Matrix_A)\n",
    "X_R"
   ]
  },
  {
   "cell_type": "code",
   "execution_count": 27,
   "id": "4aac5ea2-c3b8-48f7-953d-812b0015d92d",
   "metadata": {},
   "outputs": [
    {
     "data": {
      "text/html": [
       "<div>\n",
       "<style scoped>\n",
       "    .dataframe tbody tr th:only-of-type {\n",
       "        vertical-align: middle;\n",
       "    }\n",
       "\n",
       "    .dataframe tbody tr th {\n",
       "        vertical-align: top;\n",
       "    }\n",
       "\n",
       "    .dataframe thead th {\n",
       "        text-align: right;\n",
       "    }\n",
       "</style>\n",
       "<table border=\"1\" class=\"dataframe\">\n",
       "  <thead>\n",
       "    <tr style=\"text-align: right;\">\n",
       "      <th></th>\n",
       "      <th>run_accession</th>\n",
       "      <th>SubjectID_child</th>\n",
       "      <th>visitlabel</th>\n",
       "      <th>12DGR180tex</th>\n",
       "      <th>12DGR180ti</th>\n",
       "      <th>12DGR180tipp</th>\n",
       "      <th>12PPDSDH</th>\n",
       "      <th>12PPD_Stex</th>\n",
       "      <th>12PPDt</th>\n",
       "      <th>12PPDtpp</th>\n",
       "      <th>...</th>\n",
       "      <th>tDHNA</th>\n",
       "      <th>tDHNACOA</th>\n",
       "      <th>tDHNApp</th>\n",
       "      <th>tNCAP</th>\n",
       "      <th>tNCAPpp</th>\n",
       "      <th>tNZP</th>\n",
       "      <th>tNZPpp</th>\n",
       "      <th>tSBZCOApp</th>\n",
       "      <th>tSUCBZ</th>\n",
       "      <th>Ecoli_GR</th>\n",
       "    </tr>\n",
       "  </thead>\n",
       "  <tbody>\n",
       "    <tr>\n",
       "      <th>0</th>\n",
       "      <td>ERR10901421</td>\n",
       "      <td>020-30471-1-7</td>\n",
       "      <td>M01</td>\n",
       "      <td>104.2</td>\n",
       "      <td>57449.9</td>\n",
       "      <td>104.2</td>\n",
       "      <td>62045.7</td>\n",
       "      <td>1586.6</td>\n",
       "      <td>268865.6</td>\n",
       "      <td>1586.6</td>\n",
       "      <td>...</td>\n",
       "      <td>36760.3</td>\n",
       "      <td>27.0</td>\n",
       "      <td>61.5</td>\n",
       "      <td>163348.2</td>\n",
       "      <td>234048.2</td>\n",
       "      <td>163348.2</td>\n",
       "      <td>234048.2</td>\n",
       "      <td>25.0</td>\n",
       "      <td>0.2</td>\n",
       "      <td>0.902055</td>\n",
       "    </tr>\n",
       "    <tr>\n",
       "      <th>1</th>\n",
       "      <td>ERR10901327</td>\n",
       "      <td>020-13118-1-6</td>\n",
       "      <td>M03</td>\n",
       "      <td>9110.3</td>\n",
       "      <td>99402.0</td>\n",
       "      <td>9110.3</td>\n",
       "      <td>11718.8</td>\n",
       "      <td>252519.3</td>\n",
       "      <td>2682227.6</td>\n",
       "      <td>252519.3</td>\n",
       "      <td>...</td>\n",
       "      <td>147781.3</td>\n",
       "      <td>0.1</td>\n",
       "      <td>74645.2</td>\n",
       "      <td>217206.8</td>\n",
       "      <td>346259.9</td>\n",
       "      <td>217206.8</td>\n",
       "      <td>346259.9</td>\n",
       "      <td>0.1</td>\n",
       "      <td>220.0</td>\n",
       "      <td>0.651277</td>\n",
       "    </tr>\n",
       "    <tr>\n",
       "      <th>2</th>\n",
       "      <td>ERR10901309</td>\n",
       "      <td>020-35873-1-4</td>\n",
       "      <td>M01</td>\n",
       "      <td>12275.3</td>\n",
       "      <td>78221.3</td>\n",
       "      <td>12275.3</td>\n",
       "      <td>24009.4</td>\n",
       "      <td>17711.7</td>\n",
       "      <td>2851705.4</td>\n",
       "      <td>17711.7</td>\n",
       "      <td>...</td>\n",
       "      <td>109245.3</td>\n",
       "      <td>29.0</td>\n",
       "      <td>182.3</td>\n",
       "      <td>232946.7</td>\n",
       "      <td>95890.9</td>\n",
       "      <td>232946.7</td>\n",
       "      <td>95890.9</td>\n",
       "      <td>0.1</td>\n",
       "      <td>71775.0</td>\n",
       "      <td>0.650389</td>\n",
       "    </tr>\n",
       "    <tr>\n",
       "      <th>3</th>\n",
       "      <td>ERR10901412</td>\n",
       "      <td>020-32940-1-4</td>\n",
       "      <td>M06</td>\n",
       "      <td>6705.1</td>\n",
       "      <td>106221.5</td>\n",
       "      <td>6705.1</td>\n",
       "      <td>175719.6</td>\n",
       "      <td>18032.2</td>\n",
       "      <td>2324700.4</td>\n",
       "      <td>18032.2</td>\n",
       "      <td>...</td>\n",
       "      <td>95671.4</td>\n",
       "      <td>0.1</td>\n",
       "      <td>10414.1</td>\n",
       "      <td>349265.2</td>\n",
       "      <td>54086.3</td>\n",
       "      <td>349265.2</td>\n",
       "      <td>54086.3</td>\n",
       "      <td>28.0</td>\n",
       "      <td>6894.1</td>\n",
       "      <td>0.484738</td>\n",
       "    </tr>\n",
       "    <tr>\n",
       "      <th>4</th>\n",
       "      <td>ERR10901419</td>\n",
       "      <td>020-03098-1-6</td>\n",
       "      <td>M01</td>\n",
       "      <td>3800.1</td>\n",
       "      <td>17932.5</td>\n",
       "      <td>3800.1</td>\n",
       "      <td>12575.3</td>\n",
       "      <td>831602.8</td>\n",
       "      <td>1081.2</td>\n",
       "      <td>831602.8</td>\n",
       "      <td>...</td>\n",
       "      <td>1363.3</td>\n",
       "      <td>0.1</td>\n",
       "      <td>1235.3</td>\n",
       "      <td>19306.3</td>\n",
       "      <td>23661.2</td>\n",
       "      <td>19306.3</td>\n",
       "      <td>23661.2</td>\n",
       "      <td>0.1</td>\n",
       "      <td>0.2</td>\n",
       "      <td>1.002545</td>\n",
       "    </tr>\n",
       "    <tr>\n",
       "      <th>...</th>\n",
       "      <td>...</td>\n",
       "      <td>...</td>\n",
       "      <td>...</td>\n",
       "      <td>...</td>\n",
       "      <td>...</td>\n",
       "      <td>...</td>\n",
       "      <td>...</td>\n",
       "      <td>...</td>\n",
       "      <td>...</td>\n",
       "      <td>...</td>\n",
       "      <td>...</td>\n",
       "      <td>...</td>\n",
       "      <td>...</td>\n",
       "      <td>...</td>\n",
       "      <td>...</td>\n",
       "      <td>...</td>\n",
       "      <td>...</td>\n",
       "      <td>...</td>\n",
       "      <td>...</td>\n",
       "      <td>...</td>\n",
       "      <td>...</td>\n",
       "    </tr>\n",
       "    <tr>\n",
       "      <th>749</th>\n",
       "      <td>ERR10900587</td>\n",
       "      <td>020-09304-1-2</td>\n",
       "      <td>M06</td>\n",
       "      <td>12.6</td>\n",
       "      <td>34511.1</td>\n",
       "      <td>12.6</td>\n",
       "      <td>49607.4</td>\n",
       "      <td>5726.7</td>\n",
       "      <td>4143116.4</td>\n",
       "      <td>5726.7</td>\n",
       "      <td>...</td>\n",
       "      <td>61522.4</td>\n",
       "      <td>16.0</td>\n",
       "      <td>126.3</td>\n",
       "      <td>222722.7</td>\n",
       "      <td>179889.4</td>\n",
       "      <td>222722.7</td>\n",
       "      <td>179889.4</td>\n",
       "      <td>0.1</td>\n",
       "      <td>0.2</td>\n",
       "      <td>0.610762</td>\n",
       "    </tr>\n",
       "    <tr>\n",
       "      <th>750</th>\n",
       "      <td>ERR10900589</td>\n",
       "      <td>020-36899-1-5</td>\n",
       "      <td>M18</td>\n",
       "      <td>13647.0</td>\n",
       "      <td>127787.4</td>\n",
       "      <td>13647.0</td>\n",
       "      <td>46793.4</td>\n",
       "      <td>1387272.7</td>\n",
       "      <td>1513192.1</td>\n",
       "      <td>1387272.7</td>\n",
       "      <td>...</td>\n",
       "      <td>852762.3</td>\n",
       "      <td>89.0</td>\n",
       "      <td>194358.0</td>\n",
       "      <td>671213.0</td>\n",
       "      <td>232819.6</td>\n",
       "      <td>671213.0</td>\n",
       "      <td>232819.6</td>\n",
       "      <td>900.0</td>\n",
       "      <td>41.0</td>\n",
       "      <td>0.494419</td>\n",
       "    </tr>\n",
       "    <tr>\n",
       "      <th>751</th>\n",
       "      <td>ERR10900578</td>\n",
       "      <td>020-10044-1-0</td>\n",
       "      <td>M12</td>\n",
       "      <td>3859.3</td>\n",
       "      <td>36754.2</td>\n",
       "      <td>3859.3</td>\n",
       "      <td>22594.6</td>\n",
       "      <td>59173.1</td>\n",
       "      <td>3146879.3</td>\n",
       "      <td>59173.1</td>\n",
       "      <td>...</td>\n",
       "      <td>173020.3</td>\n",
       "      <td>37.0</td>\n",
       "      <td>529.1</td>\n",
       "      <td>424094.1</td>\n",
       "      <td>40240.0</td>\n",
       "      <td>424094.1</td>\n",
       "      <td>40240.0</td>\n",
       "      <td>0.1</td>\n",
       "      <td>21.1</td>\n",
       "      <td>0.561884</td>\n",
       "    </tr>\n",
       "    <tr>\n",
       "      <th>752</th>\n",
       "      <td>ERR10900577</td>\n",
       "      <td>020-12089-1-5</td>\n",
       "      <td>M06</td>\n",
       "      <td>0.7</td>\n",
       "      <td>263777.1</td>\n",
       "      <td>0.7</td>\n",
       "      <td>280769.1</td>\n",
       "      <td>19755.4</td>\n",
       "      <td>5517653.5</td>\n",
       "      <td>19755.4</td>\n",
       "      <td>...</td>\n",
       "      <td>450946.3</td>\n",
       "      <td>14.0</td>\n",
       "      <td>1413.4</td>\n",
       "      <td>466356.8</td>\n",
       "      <td>103083.8</td>\n",
       "      <td>466356.8</td>\n",
       "      <td>103083.8</td>\n",
       "      <td>0.1</td>\n",
       "      <td>0.2</td>\n",
       "      <td>0.582671</td>\n",
       "    </tr>\n",
       "    <tr>\n",
       "      <th>753</th>\n",
       "      <td>ERR10900575</td>\n",
       "      <td>020-39785-1-8</td>\n",
       "      <td>M18</td>\n",
       "      <td>23269.0</td>\n",
       "      <td>59301.7</td>\n",
       "      <td>23269.0</td>\n",
       "      <td>271208.5</td>\n",
       "      <td>1094275.9</td>\n",
       "      <td>1194513.4</td>\n",
       "      <td>1094275.9</td>\n",
       "      <td>...</td>\n",
       "      <td>1081362.5</td>\n",
       "      <td>15.0</td>\n",
       "      <td>2784.0</td>\n",
       "      <td>360737.0</td>\n",
       "      <td>2197568.7</td>\n",
       "      <td>360737.0</td>\n",
       "      <td>2197568.7</td>\n",
       "      <td>11772.0</td>\n",
       "      <td>52.0</td>\n",
       "      <td>1.066334</td>\n",
       "    </tr>\n",
       "  </tbody>\n",
       "</table>\n",
       "<p>754 rows × 7535 columns</p>\n",
       "</div>"
      ],
      "text/plain": [
       "    run_accession SubjectID_child visitlabel  12DGR180tex  12DGR180ti  \\\n",
       "0     ERR10901421   020-30471-1-7        M01        104.2     57449.9   \n",
       "1     ERR10901327   020-13118-1-6        M03       9110.3     99402.0   \n",
       "2     ERR10901309   020-35873-1-4        M01      12275.3     78221.3   \n",
       "3     ERR10901412   020-32940-1-4        M06       6705.1    106221.5   \n",
       "4     ERR10901419   020-03098-1-6        M01       3800.1     17932.5   \n",
       "..            ...             ...        ...          ...         ...   \n",
       "749   ERR10900587   020-09304-1-2        M06         12.6     34511.1   \n",
       "750   ERR10900589   020-36899-1-5        M18      13647.0    127787.4   \n",
       "751   ERR10900578   020-10044-1-0        M12       3859.3     36754.2   \n",
       "752   ERR10900577   020-12089-1-5        M06          0.7    263777.1   \n",
       "753   ERR10900575   020-39785-1-8        M18      23269.0     59301.7   \n",
       "\n",
       "     12DGR180tipp  12PPDSDH  12PPD_Stex     12PPDt   12PPDtpp  ...      tDHNA  \\\n",
       "0           104.2   62045.7      1586.6   268865.6     1586.6  ...    36760.3   \n",
       "1          9110.3   11718.8    252519.3  2682227.6   252519.3  ...   147781.3   \n",
       "2         12275.3   24009.4     17711.7  2851705.4    17711.7  ...   109245.3   \n",
       "3          6705.1  175719.6     18032.2  2324700.4    18032.2  ...    95671.4   \n",
       "4          3800.1   12575.3    831602.8     1081.2   831602.8  ...     1363.3   \n",
       "..            ...       ...         ...        ...        ...  ...        ...   \n",
       "749          12.6   49607.4      5726.7  4143116.4     5726.7  ...    61522.4   \n",
       "750       13647.0   46793.4   1387272.7  1513192.1  1387272.7  ...   852762.3   \n",
       "751        3859.3   22594.6     59173.1  3146879.3    59173.1  ...   173020.3   \n",
       "752           0.7  280769.1     19755.4  5517653.5    19755.4  ...   450946.3   \n",
       "753       23269.0  271208.5   1094275.9  1194513.4  1094275.9  ...  1081362.5   \n",
       "\n",
       "     tDHNACOA   tDHNApp     tNCAP    tNCAPpp      tNZP     tNZPpp  tSBZCOApp  \\\n",
       "0        27.0      61.5  163348.2   234048.2  163348.2   234048.2       25.0   \n",
       "1         0.1   74645.2  217206.8   346259.9  217206.8   346259.9        0.1   \n",
       "2        29.0     182.3  232946.7    95890.9  232946.7    95890.9        0.1   \n",
       "3         0.1   10414.1  349265.2    54086.3  349265.2    54086.3       28.0   \n",
       "4         0.1    1235.3   19306.3    23661.2   19306.3    23661.2        0.1   \n",
       "..        ...       ...       ...        ...       ...        ...        ...   \n",
       "749      16.0     126.3  222722.7   179889.4  222722.7   179889.4        0.1   \n",
       "750      89.0  194358.0  671213.0   232819.6  671213.0   232819.6      900.0   \n",
       "751      37.0     529.1  424094.1    40240.0  424094.1    40240.0        0.1   \n",
       "752      14.0    1413.4  466356.8   103083.8  466356.8   103083.8        0.1   \n",
       "753      15.0    2784.0  360737.0  2197568.7  360737.0  2197568.7    11772.0   \n",
       "\n",
       "      tSUCBZ  Ecoli_GR  \n",
       "0        0.2  0.902055  \n",
       "1      220.0  0.651277  \n",
       "2    71775.0  0.650389  \n",
       "3     6894.1  0.484738  \n",
       "4        0.2  1.002545  \n",
       "..       ...       ...  \n",
       "749      0.2  0.610762  \n",
       "750     41.0  0.494419  \n",
       "751     21.1  0.561884  \n",
       "752      0.2  0.582671  \n",
       "753     52.0  1.066334  \n",
       "\n",
       "[754 rows x 7535 columns]"
      ]
     },
     "execution_count": 27,
     "metadata": {},
     "output_type": "execute_result"
    }
   ],
   "source": [
    "X_R_intermediate = pd.concat([Braken_data_df3.iloc[:,:3],X_R],axis=1)\n",
    "X_R_final = pd.concat([X_R_intermediate,Braken_data_df3.iloc[:,-1:]],axis=1)\n",
    "X_R_final"
   ]
  },
  {
   "cell_type": "code",
   "execution_count": 28,
   "id": "f97bd1bf-b46c-4b21-ad9d-b74ab32a3a66",
   "metadata": {},
   "outputs": [],
   "source": [
    "X_R_final.to_csv('X_R_final.csv',index=False)"
   ]
  },
  {
   "cell_type": "markdown",
   "id": "6c16c0a6-d83f-4b9a-b088-f0259b639944",
   "metadata": {},
   "source": [
    "### Lets have some Fun (Add in the ML)\n",
    "\n",
    "I now have Matrix of samplesxDominantSpecies and Matrix of SamplesxReactionsfrom\n",
    "models that corresonded to species. \n",
    "Plan of Action:\n",
    "   \n",
    "   Approach 1: LightGBM has both lasso and ridge regulatization. I can see if I can throw all features at it with regularization to feature select.\n",
    "  \n",
    "   Approach 2: PCA or some type of clustering to reduce dimensions\n",
    "   \n",
    "   Approach 3: Use ML on rxn matrix to see which features where important and concat those to other data and use Lightgbm "
   ]
  },
  {
   "cell_type": "code",
   "execution_count": null,
   "id": "1bab7864-f8e8-47d5-bef6-fd00ad870fe8",
   "metadata": {},
   "outputs": [],
   "source": [
    "Braken_data_df3"
   ]
  },
  {
   "cell_type": "code",
   "execution_count": null,
   "id": "d5f086e4-9578-403d-9089-0b1d0ff5d1c6",
   "metadata": {},
   "outputs": [],
   "source": [
    "Single_model_Braken_Agora_df"
   ]
  },
  {
   "cell_type": "code",
   "execution_count": null,
   "id": "35ec92a1-c6d1-4901-b2b4-0ffa65890d67",
   "metadata": {},
   "outputs": [],
   "source": []
  }
 ],
 "metadata": {
  "kernelspec": {
   "display_name": "Python 3 (ipykernel)",
   "language": "python",
   "name": "python3"
  },
  "language_info": {
   "codemirror_mode": {
    "name": "ipython",
    "version": 3
   },
   "file_extension": ".py",
   "mimetype": "text/x-python",
   "name": "python",
   "nbconvert_exporter": "python",
   "pygments_lexer": "ipython3",
   "version": "3.11.4"
  }
 },
 "nbformat": 4,
 "nbformat_minor": 5
}
